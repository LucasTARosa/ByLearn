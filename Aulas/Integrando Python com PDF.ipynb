{
 "cells": [
  {
   "cell_type": "code",
   "execution_count": 2,
   "metadata": {},
   "outputs": [
    {
     "name": "stdout",
     "output_type": "stream",
     "text": [
      "Collecting PyPDF2\n",
      "  Downloading PyPDF2-1.26.0.tar.gz (77 kB)\n",
      "Building wheels for collected packages: PyPDF2\n",
      "  Building wheel for PyPDF2 (setup.py): started\n",
      "  Building wheel for PyPDF2 (setup.py): finished with status 'done'\n",
      "  Created wheel for PyPDF2: filename=PyPDF2-1.26.0-py3-none-any.whl size=61087 sha256=e34fbe67c43b7490aa1b8b593cb311e822724fd451fd3f224b3d55c75fbf48d2\n",
      "  Stored in directory: c:\\users\\lucas\\appdata\\local\\pip\\cache\\wheels\\b1\\1a\\8f\\a4c34be976825a2f7948d0fa40907598d69834f8ab5889de11\n",
      "Successfully built PyPDF2\n",
      "Installing collected packages: PyPDF2\n",
      "Successfully installed PyPDF2-1.26.0\n"
     ]
    }
   ],
   "source": [
    "!pip install PyPDF2"
   ]
  },
  {
   "cell_type": "code",
   "execution_count": 3,
   "metadata": {},
   "outputs": [],
   "source": [
    "from PyPDF2 import PdfFileReader"
   ]
  },
  {
   "cell_type": "code",
   "execution_count": 4,
   "metadata": {},
   "outputs": [
    {
     "name": "stderr",
     "output_type": "stream",
     "text": [
      "PdfReadWarning: Xref table not zero-indexed. ID numbers for objects will be corrected. [pdf.py:1736]\n"
     ]
    }
   ],
   "source": [
    "caminho = 'dracula.pdf'\n",
    "pdf = PdfFileReader(caminho)"
   ]
  },
  {
   "cell_type": "code",
   "execution_count": 5,
   "metadata": {},
   "outputs": [
    {
     "data": {
      "text/plain": [
       "<PyPDF2.pdf.PdfFileReader at 0x231777a7cd0>"
      ]
     },
     "execution_count": 5,
     "metadata": {},
     "output_type": "execute_result"
    }
   ],
   "source": [
    "pdf"
   ]
  },
  {
   "cell_type": "code",
   "execution_count": 6,
   "metadata": {},
   "outputs": [
    {
     "data": {
      "text/plain": [
       "542"
      ]
     },
     "execution_count": 6,
     "metadata": {},
     "output_type": "execute_result"
    }
   ],
   "source": [
    "pdf.getNumPages()"
   ]
  },
  {
   "cell_type": "code",
   "execution_count": 8,
   "metadata": {},
   "outputs": [
    {
     "data": {
      "text/plain": [
       "{'/CreationDate': \"D:20080206210154+11'00'\",\n",
       " '/Subject': 'Download classic literature as completely free eBooks from Planet eBook. ',\n",
       " '/Author': 'Bram Stoker',\n",
       " '/Creator': 'Adobe InDesign CS2 (4.0)',\n",
       " '/Producer': 'Adobe PDF Library 7.0',\n",
       " '/ModDate': \"D:20080706190426+10'00'\",\n",
       " '/Title': 'Dracula',\n",
       " '/Trapped': '/False'}"
      ]
     },
     "execution_count": 8,
     "metadata": {},
     "output_type": "execute_result"
    }
   ],
   "source": [
    "pdf.documentInfo"
   ]
  },
  {
   "cell_type": "code",
   "execution_count": 9,
   "metadata": {},
   "outputs": [],
   "source": [
    "autor = pdf.documentInfo.author"
   ]
  },
  {
   "cell_type": "code",
   "execution_count": 10,
   "metadata": {},
   "outputs": [],
   "source": [
    "titulo = pdf.documentInfo.title"
   ]
  },
  {
   "cell_type": "code",
   "execution_count": 11,
   "metadata": {},
   "outputs": [
    {
     "name": "stdout",
     "output_type": "stream",
     "text": [
      "Bram Stoker\n",
      "---------------\n",
      "Dracula\n"
     ]
    }
   ],
   "source": [
    "print(autor)\n",
    "print('---'*5)\n",
    "print(titulo)"
   ]
  },
  {
   "cell_type": "markdown",
   "metadata": {},
   "source": [
    "## Obtendo data do arquivo\n",
    "\n",
    "Primeiramente é obtido no formato de string, mas com mais dados do que apenas os necessários (ano, mes, dia, hora, minuto e segundo). Então primeiro é necessário realizar um slice no dado.  \n",
    "\n",
    "Em seguida, é convertido de str para time, seguindo os campos correspondentes de ano, mês etc.  \n",
    "\n",
    "Por fim, é convertido para o formato brasileiro de dia/mes/ano hora:minuto:segundo"
   ]
  },
  {
   "cell_type": "code",
   "execution_count": 12,
   "metadata": {},
   "outputs": [
    {
     "name": "stdout",
     "output_type": "stream",
     "text": [
      "D:20080206210154+11'00'\n"
     ]
    }
   ],
   "source": [
    "data_criacao = pdf.documentInfo['/CreationDate']\n",
    "print(data_criacao)"
   ]
  },
  {
   "cell_type": "code",
   "execution_count": 13,
   "metadata": {},
   "outputs": [],
   "source": [
    "from datetime import datetime"
   ]
  },
  {
   "cell_type": "code",
   "execution_count": 14,
   "metadata": {},
   "outputs": [],
   "source": [
    "metadado_data_criacao = pdf.documentInfo['/CreationDate']"
   ]
  },
  {
   "cell_type": "code",
   "execution_count": 15,
   "metadata": {},
   "outputs": [
    {
     "name": "stdout",
     "output_type": "stream",
     "text": [
      "20080206210154\n"
     ]
    }
   ],
   "source": [
    "string_data_criacao = metadado_data_criacao[2:-7]\n",
    "print(string_data_criacao)"
   ]
  },
  {
   "cell_type": "code",
   "execution_count": 19,
   "metadata": {},
   "outputs": [],
   "source": [
    "data_criacao = datetime.strptime(string_data_criacao,'%Y%m%d%H%M%S')"
   ]
  },
  {
   "cell_type": "code",
   "execution_count": 20,
   "metadata": {},
   "outputs": [
    {
     "name": "stdout",
     "output_type": "stream",
     "text": [
      "2008-02-06 21:01:54\n"
     ]
    }
   ],
   "source": [
    "print(data_criacao)"
   ]
  },
  {
   "cell_type": "code",
   "execution_count": 21,
   "metadata": {},
   "outputs": [],
   "source": [
    "formato_brasileiro = '%d/%m/%Y %H:%M:%S'"
   ]
  },
  {
   "cell_type": "code",
   "execution_count": 22,
   "metadata": {},
   "outputs": [],
   "source": [
    "data_brasileira = data_criacao.strftime(formato_brasileiro)"
   ]
  },
  {
   "cell_type": "code",
   "execution_count": 23,
   "metadata": {},
   "outputs": [
    {
     "name": "stdout",
     "output_type": "stream",
     "text": [
      "06/02/2008 21:01:54\n"
     ]
    }
   ],
   "source": [
    "print(data_brasileira)"
   ]
  },
  {
   "cell_type": "markdown",
   "metadata": {},
   "source": [
    "De forma resumida em uma única célula:"
   ]
  },
  {
   "cell_type": "code",
   "execution_count": 24,
   "metadata": {},
   "outputs": [
    {
     "name": "stdout",
     "output_type": "stream",
     "text": [
      "06/02/2008 21:01:54\n"
     ]
    }
   ],
   "source": [
    "from datetime import datetime\n",
    "metadado_data_criacao = pdf.documentInfo['/CreationDate']\n",
    "string_data_criacao = metadado_data_criacao[2:-7]\n",
    "data_criacao = datetime.strptime(string_data_criacao, '%Y%m%d%H%M%S')\n",
    "\n",
    "formato_brasileiro = '%d/%m/%Y %H:%M:%S'\n",
    "data_brasileira = data_criacao.strftime(formato_brasileiro)\n",
    "print(data_brasileira)"
   ]
  },
  {
   "cell_type": "markdown",
   "metadata": {},
   "source": [
    "## Outras informações do pdf"
   ]
  },
  {
   "cell_type": "code",
   "execution_count": 25,
   "metadata": {},
   "outputs": [
    {
     "name": "stdout",
     "output_type": "stream",
     "text": [
      "542\n"
     ]
    }
   ],
   "source": [
    "paginas = pdf.getNumPages()\n",
    "print(paginas)"
   ]
  },
  {
   "cell_type": "code",
   "execution_count": 30,
   "metadata": {},
   "outputs": [
    {
     "name": "stdout",
     "output_type": "stream",
     "text": [
      "O pdf do livro Dracula, do autor Bram Stoker, foi criado em 06/02/2008 21:01:54 e possui 542 páginas\n"
     ]
    }
   ],
   "source": [
    "titulo = pdf.documentInfo.title\n",
    "autor = pdf.documentInfo.author\n",
    "\n",
    "print(f'O pdf do livro {titulo}, do autor {autor}, foi criado em {data_brasileira} e possui {paginas} páginas')"
   ]
  },
  {
   "cell_type": "markdown",
   "metadata": {},
   "source": [
    "### Possíveis utilizações destas ferramentas\n",
    "\n",
    "- Relatório despesas de um determinado mês  \n",
    "- Quem foi que criou o arquivo  \n",
    "- Data de criação  \n",
    "- Número de páginas \n",
    "\n",
    "Exemplo:  \n",
    "\"O José criou o relatório de despesas de Março de 2021 com 3 páginas\"  \n",
    "\n",
    "Outro exemplo:  \n",
    "abrir 120 pdfs (relatórios mensais de 10 anos)  \n",
    "para todo PDF => Pegar a informação na página 3  \n",
    "procurar pelo texto 'Total:'  \n",
    "e pegar o valor na frente 'R$...'  \n",
    "Obter a informação de gasto por mês e pode perceber que determinado mês é o mais caro"
   ]
  },
  {
   "cell_type": "markdown",
   "metadata": {},
   "source": [
    "## Trabalhando com páginas"
   ]
  },
  {
   "cell_type": "code",
   "execution_count": 39,
   "metadata": {},
   "outputs": [],
   "source": [
    "# Lembrete: A númeração de índices iniciam em 0\n",
    "# Sendo assim, a primeira página é o índice 0\n",
    "# O índice da página então é (página -1)\n",
    "\n",
    "primeira_pagina = pdf.getPage(0)\n",
    "quarta_pagina = pdf.getPage(3)"
   ]
  },
  {
   "cell_type": "code",
   "execution_count": 32,
   "metadata": {},
   "outputs": [
    {
     "data": {
      "text/plain": [
       "'Download free eBooks of classic literature, books and \\nnovels at Planet eBook. Subscribe to our free eBooks blog \\nand email newsletter.\\nD˜˚˛˝˙˚\\nBˆ B˜˚ˇ S˘˜\\n'"
      ]
     },
     "execution_count": 32,
     "metadata": {},
     "output_type": "execute_result"
    }
   ],
   "source": [
    "primeira_pagina.extractText()"
   ]
  },
  {
   "cell_type": "code",
   "execution_count": 40,
   "metadata": {},
   "outputs": [
    {
     "name": "stdout",
     "output_type": "stream",
     "text": [
      "D˜˚˛˝˙˚\n",
      "I did not sleep well, though my bed was comfortable \n",
      "enough, for I had all sorts of queer dreams. ˘ere was a dog \n",
      "howling all night under my window, which may have had \n",
      "something to do with it; or it may have been the paprika, \n",
      "for I had to drink up all the water in my carafe, and was \n",
      "still thirsty. Towards morning I slept and was wakened by \n",
      "the continuous knocking at my door, so I guess I must have \n",
      "been sleeping soundly then.\n",
      "I had for breakfast more paprika, and a sort of porridge \n",
      "of maize our which they said was ‚mamaliga™, and egg-\n",
      "plant stud with forcemeat, a very excellent dish, which \n",
      "they call ‚impletataﬂ. (Mem., get recipe for this also.)\n",
      "I had to hurry breakfast, for the train started a little \n",
      "before eight, or rather it ought to have done so, for aˇer \n",
      "rushing to the station at 7:30 I had to sit in the carriage for \n",
      "more than an hour before we began to move.\n",
      "It seems to me that the further east you go the more un\n",
      "-punctual are the trains. What ought they to be in China?\n",
      "All day long we seemed to dawdle through a country \n",
      "which was full of beauty of every kind. Sometimes we saw \n",
      "little towns or castles on the top of steep hills such as we \n",
      "see in old missals; sometimes we ran by rivers and streams \n",
      "which seemed from the wide stony margin on each side of \n",
      "them to be subject to great oods. It takes a lot of water, and \n",
      "running strong, to sweep the outside edge of a river clear.\n",
      "At every station there were groups of people, sometimes \n",
      "crowds, and in all sorts of attire. Some of them were just \n",
      "like the peasants at home or those I saw coming through \n",
      "France and Germany, with short jackets, and round hats, \n",
      "\n"
     ]
    }
   ],
   "source": [
    "print(quarta_pagina.extractText())"
   ]
  },
  {
   "cell_type": "code",
   "execution_count": 41,
   "metadata": {},
   "outputs": [
    {
     "name": "stdout",
     "output_type": "stream",
     "text": [
      "Não achei\n"
     ]
    }
   ],
   "source": [
    "if 'France and Germany' in quarta_pagina:\n",
    "    print('Achei')\n",
    "else:\n",
    "    print('Não achei')"
   ]
  },
  {
   "cell_type": "code",
   "execution_count": 43,
   "metadata": {},
   "outputs": [
    {
     "name": "stdout",
     "output_type": "stream",
     "text": [
      "f\n",
      "a\n",
      "n\n",
      "p\n",
      "d\n",
      "h\n",
      "n\n",
      "e\n",
      "m\n",
      " \n",
      "s\n",
      "n\n",
      "o\n",
      "o\n",
      "h\n",
      "a\n",
      "a\n",
      "r\n",
      "v\n",
      "a\n",
      "g\n",
      "o\n",
      "a\n",
      "e\n",
      "n\n",
      " \n",
      "u\n",
      "h\n",
      "l\n",
      "r\n",
      "I\n",
      "t\n",
      "o\n",
      ",\n",
      "s\n",
      "t\n",
      "u\n",
      "e\n",
      "y\n",
      "n\n",
      "t\n",
      " \n",
      "o\n",
      "a\n",
      "t\n",
      "o\n",
      "s\n",
      "o\n",
      "e\n",
      "h\n",
      "e\n",
      "w\n",
      "l\n",
      " \n",
      "i\n",
      "w\n",
      " \n",
      "d\n",
      "a\n",
      ".\n",
      "t\n",
      "I\n",
      "h\n",
      "o\n",
      "f\n",
      "n\n",
      "s\n",
      "i\n",
      "v\n",
      "e\n",
      "h\n",
      "a\n",
      "o\n",
      "t\n",
      "i\n",
      "d\n",
      "h\n",
      "o\n",
      "T\n",
      "l\n",
      "e\n",
      "I\n",
      "l\n",
      "d\n",
      "r\n",
      "m\n",
      "t\n",
      "y\n",
      " \n",
      "n\n",
      " \n",
      "e\n",
      "n\n",
      "h\n",
      " \n",
      " \n",
      "h\n",
      "e\n",
      "i\n",
      " \n",
      "d\n",
      " \n",
      "r\n",
      "h\n",
      "d\n",
      "e\n",
      "t\n",
      "i\n",
      "l\n",
      "G\n",
      "e\n",
      "a\n",
      ",\n",
      "e\n",
      "e\n",
      "e\n",
      "t\n",
      "e\n",
      "l\n",
      "h\n",
      "t\n",
      " \n",
      "e\n",
      " \n",
      "r\n",
      "e\n",
      " \n",
      "a\n",
      " \n",
      " \n",
      "d\n",
      "m\n",
      "t\n",
      "n\n",
      " \n",
      "i\n",
      "a\n",
      "o\n",
      "t\n",
      " \n",
      "t\n",
      " \n",
      "e\n",
      "n\n",
      "r\n",
      "y\n",
      "n\n",
      " \n",
      "w\n",
      " \n",
      "w\n",
      " \n",
      "r\n",
      ",\n",
      " \n",
      "s\n",
      "f\n",
      " \n",
      "o\n",
      "s\n",
      "t\n",
      "v\n",
      " \n",
      "l\n",
      "t\n",
      "™\n",
      ".\n",
      "v\n",
      "e\n",
      "E\n",
      "r\n",
      " \n",
      "r\n",
      "d\n",
      "I\n",
      "l\n",
      "d\n",
      "t\n",
      "h\n",
      " \n",
      "y\n",
      " \n",
      "o\n",
      "a\n",
      "a\n",
      "i\n",
      "a\n",
      "f\n",
      "d\n",
      "Y\n",
      "a\n",
      "w\n",
      "e\n",
      "™\n",
      "A\n",
      " \n",
      " \n",
      "o\n",
      "s\n",
      "s\n",
      "i\n",
      "a\n",
      "s\n",
      " \n",
      "A\n",
      "i\n",
      "l\n",
      ".\n",
      "?\n",
      "e\n",
      "m\n",
      " \n",
      "o\n",
      "e\n",
      "t\n",
      "g\n",
      "™\n",
      "o\n",
      "h\n",
      "\n",
      "\n",
      "t\n",
      "o\n",
      "b\n",
      "i\n",
      "c\n",
      "t\n",
      "g\n",
      "c\n",
      " \n",
      "o\n",
      "s\n",
      "h\n",
      "\n",
      "\n",
      "l\n",
      " \n",
      "k\n",
      "c\n",
      "g\n",
      " \n",
      "g\n",
      "a\n",
      "e\n",
      " \n",
      "a\n",
      "e\n",
      "m\n",
      " \n",
      "e\n",
      "l\n",
      "r\n",
      "t\n",
      "u\n",
      "n\n",
      "n\n",
      "\n",
      "\n",
      "o\n",
      "o\n",
      "i\n",
      "r\n",
      " \n",
      " \n",
      "t\n",
      "t\n",
      "m\n",
      "n\n",
      "n\n",
      " \n",
      "r\n",
      "o\n",
      " \n",
      "e\n",
      ",\n",
      "d\n",
      "e\n",
      "m\n",
      "i\n",
      "\n",
      "\n",
      " \n",
      "d\n",
      " \n",
      "n\n",
      "b\n",
      "y\n",
      " \n",
      "s\n",
      "™\n",
      " \n",
      "e\n",
      "e\n",
      "a\n",
      "o\n",
      " \n",
      "t\n",
      " \n",
      "c\n",
      "h\n",
      "D\n",
      "r\n",
      " \n",
      " \n",
      "y\n",
      "w\n",
      "a\n",
      "l\n",
      "r\n",
      "e\n",
      "l\n",
      " \n",
      "r\n",
      " \n",
      "u\n",
      " \n",
      "n\n",
      "ˇ\n",
      "a\n",
      "\n",
      "\n",
      "j\n",
      " \n",
      "t\n",
      "e\n",
      "n\n",
      "l\n",
      "a\n",
      "u\n",
      "t\n",
      "e\n",
      "e\n",
      " \n",
      "o\n",
      " \n",
      "D\n",
      " \n",
      "t\n",
      "g\n",
      "t\n",
      "n\n",
      "o\n",
      ".\n",
      "n\n",
      "u\n",
      "e\n",
      "r\n",
      " \n",
      "e\n",
      " \n",
      "o\n",
      "a\n",
      "h\n",
      "h\n",
      "y\n",
      "e\n",
      " \n",
      " \n",
      "A\n",
      "e\n",
      " \n",
      " \n",
      "e\n",
      "l\n",
      "t\n",
      "e\n",
      "a\n",
      "r\n",
      "s\n",
      "t\n",
      "e\n",
      "Š\n",
      "o\n",
      "o\n",
      "t\n",
      " \n",
      "s\n",
      "J\n",
      "n\n",
      "l\n",
      "k\n",
      "f\n",
      "e\n",
      "d\n",
      "e\n",
      " \n",
      "c\n",
      " \n",
      "g\n",
      " \n",
      "t\n",
      "o\n",
      "e\n",
      " \n",
      "o\n",
      "T\n",
      "n\n",
      "s\n",
      ".\n",
      " \n",
      "e\n",
      "e\n",
      " \n",
      "m\n",
      "n\n",
      "s\n",
      "u\n",
      " \n",
      "m\n",
      "i\n",
      "e\n",
      "o\n",
      "s\n",
      "i\n",
      "I\n",
      "e\n",
      "o\n",
      "n\n",
      "w\n",
      "J\n",
      "h\n",
      "h\n",
      "w\n",
      "a\n",
      "l\n",
      "e\n",
      " \n",
      "c\n",
      "e\n",
      "a\n",
      "i\n",
      "a\n",
      "a\n",
      " \n",
      "l\n",
      "a\n",
      "i\n",
      "D\n",
      " \n",
      " \n",
      "a\n",
      "v\n",
      "u\n",
      "o\n",
      "s\n",
      "t\n",
      "n\n",
      " \n",
      "o\n",
      "u\n",
      "k\n",
      "n\n",
      " \n",
      "n\n",
      "e\n",
      " \n",
      ".\n",
      "v\n",
      "e\n",
      "o\n",
      " \n",
      " \n",
      "a\n",
      "s\n",
      " \n",
      " \n",
      "h\n",
      "i\n",
      "t\n",
      "h\n",
      "V\n",
      "g\n",
      "a\n",
      "d\n",
      "w\n",
      "a\n",
      " \n",
      "h\n",
      "o\n",
      "e\n",
      "d\n",
      "t\n",
      "™\n",
      "n\n",
      "r\n",
      "a\n",
      "n\n",
      "l\n",
      "e\n",
      "e\n",
      "y\n",
      "n\n",
      "k\n",
      "w\n",
      "N\n",
      "\n",
      "\n",
      "y\n",
      "D\n",
      "f\n",
      "s\n",
      "g\n",
      "s\n",
      "o\n",
      "n\n",
      "l\n",
      "t\n",
      "v\n",
      " \n",
      "o\n",
      "d\n",
      " \n",
      " \n",
      " \n",
      "l\n",
      " \n",
      "s\n",
      "a\n",
      " \n",
      "l\n",
      "e\n",
      "y\n",
      "I\n",
      " \n",
      " \n",
      "e\n",
      "e\n",
      "h\n",
      "s\n",
      "u\n",
      "h\n",
      " \n",
      "o\n",
      " \n",
      "a\n",
      "r\n",
      "s\n",
      " \n",
      " \n",
      " \n",
      "e\n",
      "c\n",
      "r\n",
      "l\n",
      "n\n",
      "n\n",
      "r\n",
      " \n"
     ]
    }
   ],
   "source": [
    "for num_pagina in range(pdf.getNumPages()):\n",
    "    pagina = pdf.getPage(num_pagina)\n",
    "    decima_letra = pagina.extractText()[22]\n",
    "    print(decima_letra)"
   ]
  },
  {
   "cell_type": "code",
   "execution_count": 46,
   "metadata": {},
   "outputs": [
    {
     "name": "stdout",
     "output_type": "stream",
     "text": [
      "Não achei na página 0\n",
      "Não achei na página 1\n",
      "Não achei na página 2\n",
      "Achei na página 3\n",
      "Não achei na página 4\n",
      "Não achei na página 5\n",
      "Não achei na página 6\n",
      "Não achei na página 7\n",
      "Não achei na página 8\n",
      "Não achei na página 9\n",
      "Não achei na página 10\n",
      "Não achei na página 11\n",
      "Não achei na página 12\n",
      "Não achei na página 13\n",
      "Não achei na página 14\n",
      "Não achei na página 15\n",
      "Não achei na página 16\n",
      "Não achei na página 17\n",
      "Não achei na página 18\n",
      "Não achei na página 19\n",
      "Não achei na página 20\n",
      "Não achei na página 21\n",
      "Não achei na página 22\n",
      "Não achei na página 23\n",
      "Não achei na página 24\n",
      "Não achei na página 25\n",
      "Não achei na página 26\n",
      "Não achei na página 27\n",
      "Não achei na página 28\n",
      "Não achei na página 29\n",
      "Não achei na página 30\n",
      "Não achei na página 31\n",
      "Não achei na página 32\n",
      "Não achei na página 33\n",
      "Não achei na página 34\n",
      "Não achei na página 35\n",
      "Não achei na página 36\n",
      "Não achei na página 37\n",
      "Não achei na página 38\n",
      "Não achei na página 39\n",
      "Não achei na página 40\n",
      "Não achei na página 41\n",
      "Não achei na página 42\n",
      "Não achei na página 43\n",
      "Não achei na página 44\n",
      "Não achei na página 45\n",
      "Não achei na página 46\n",
      "Não achei na página 47\n",
      "Não achei na página 48\n",
      "Não achei na página 49\n",
      "Não achei na página 50\n",
      "Não achei na página 51\n",
      "Não achei na página 52\n",
      "Não achei na página 53\n",
      "Não achei na página 54\n",
      "Não achei na página 55\n",
      "Não achei na página 56\n",
      "Não achei na página 57\n",
      "Não achei na página 58\n",
      "Não achei na página 59\n",
      "Não achei na página 60\n",
      "Não achei na página 61\n",
      "Não achei na página 62\n",
      "Não achei na página 63\n",
      "Não achei na página 64\n",
      "Não achei na página 65\n",
      "Não achei na página 66\n",
      "Não achei na página 67\n",
      "Não achei na página 68\n",
      "Não achei na página 69\n",
      "Não achei na página 70\n",
      "Não achei na página 71\n",
      "Não achei na página 72\n",
      "Não achei na página 73\n",
      "Não achei na página 74\n",
      "Não achei na página 75\n",
      "Não achei na página 76\n",
      "Não achei na página 77\n",
      "Não achei na página 78\n",
      "Não achei na página 79\n",
      "Não achei na página 80\n",
      "Não achei na página 81\n",
      "Não achei na página 82\n",
      "Não achei na página 83\n",
      "Não achei na página 84\n",
      "Não achei na página 85\n",
      "Não achei na página 86\n",
      "Não achei na página 87\n",
      "Não achei na página 88\n",
      "Não achei na página 89\n",
      "Não achei na página 90\n",
      "Não achei na página 91\n",
      "Não achei na página 92\n",
      "Não achei na página 93\n",
      "Não achei na página 94\n",
      "Não achei na página 95\n",
      "Não achei na página 96\n",
      "Não achei na página 97\n",
      "Não achei na página 98\n",
      "Não achei na página 99\n",
      "Não achei na página 100\n",
      "Não achei na página 101\n",
      "Não achei na página 102\n",
      "Não achei na página 103\n",
      "Não achei na página 104\n",
      "Não achei na página 105\n",
      "Não achei na página 106\n",
      "Não achei na página 107\n",
      "Não achei na página 108\n",
      "Não achei na página 109\n",
      "Não achei na página 110\n",
      "Não achei na página 111\n",
      "Não achei na página 112\n",
      "Não achei na página 113\n",
      "Não achei na página 114\n",
      "Não achei na página 115\n",
      "Não achei na página 116\n",
      "Não achei na página 117\n",
      "Não achei na página 118\n",
      "Não achei na página 119\n",
      "Não achei na página 120\n",
      "Não achei na página 121\n",
      "Não achei na página 122\n",
      "Não achei na página 123\n",
      "Não achei na página 124\n",
      "Não achei na página 125\n",
      "Não achei na página 126\n",
      "Não achei na página 127\n",
      "Não achei na página 128\n",
      "Não achei na página 129\n",
      "Não achei na página 130\n",
      "Não achei na página 131\n",
      "Não achei na página 132\n",
      "Não achei na página 133\n",
      "Não achei na página 134\n",
      "Não achei na página 135\n",
      "Não achei na página 136\n",
      "Não achei na página 137\n",
      "Não achei na página 138\n",
      "Não achei na página 139\n",
      "Não achei na página 140\n",
      "Não achei na página 141\n",
      "Não achei na página 142\n",
      "Não achei na página 143\n",
      "Não achei na página 144\n",
      "Não achei na página 145\n",
      "Não achei na página 146\n",
      "Não achei na página 147\n",
      "Não achei na página 148\n",
      "Não achei na página 149\n",
      "Não achei na página 150\n",
      "Não achei na página 151\n",
      "Não achei na página 152\n",
      "Não achei na página 153\n",
      "Não achei na página 154\n",
      "Não achei na página 155\n",
      "Não achei na página 156\n",
      "Não achei na página 157\n",
      "Não achei na página 158\n",
      "Não achei na página 159\n",
      "Não achei na página 160\n",
      "Não achei na página 161\n",
      "Não achei na página 162\n",
      "Não achei na página 163\n",
      "Não achei na página 164\n",
      "Não achei na página 165\n",
      "Não achei na página 166\n",
      "Não achei na página 167\n",
      "Não achei na página 168\n",
      "Não achei na página 169\n",
      "Não achei na página 170\n",
      "Não achei na página 171\n",
      "Não achei na página 172\n",
      "Não achei na página 173\n",
      "Não achei na página 174\n",
      "Não achei na página 175\n",
      "Não achei na página 176\n",
      "Não achei na página 177\n",
      "Não achei na página 178\n",
      "Não achei na página 179\n",
      "Não achei na página 180\n",
      "Não achei na página 181\n",
      "Não achei na página 182\n",
      "Não achei na página 183\n",
      "Não achei na página 184\n",
      "Não achei na página 185\n",
      "Não achei na página 186\n",
      "Não achei na página 187\n",
      "Não achei na página 188\n",
      "Não achei na página 189\n",
      "Não achei na página 190\n",
      "Não achei na página 191\n",
      "Não achei na página 192\n",
      "Não achei na página 193\n",
      "Não achei na página 194\n",
      "Não achei na página 195\n",
      "Não achei na página 196\n",
      "Não achei na página 197\n",
      "Não achei na página 198\n",
      "Não achei na página 199\n",
      "Não achei na página 200\n",
      "Não achei na página 201\n",
      "Não achei na página 202\n",
      "Não achei na página 203\n",
      "Não achei na página 204\n",
      "Não achei na página 205\n",
      "Não achei na página 206\n",
      "Não achei na página 207\n",
      "Não achei na página 208\n",
      "Não achei na página 209\n",
      "Não achei na página 210\n",
      "Não achei na página 211\n",
      "Não achei na página 212\n",
      "Não achei na página 213\n",
      "Não achei na página 214\n",
      "Não achei na página 215\n",
      "Não achei na página 216\n",
      "Não achei na página 217\n",
      "Não achei na página 218\n",
      "Não achei na página 219\n",
      "Não achei na página 220\n",
      "Não achei na página 221\n",
      "Não achei na página 222\n",
      "Não achei na página 223\n",
      "Não achei na página 224\n",
      "Não achei na página 225\n",
      "Não achei na página 226\n",
      "Não achei na página 227\n",
      "Não achei na página 228\n",
      "Não achei na página 229\n",
      "Não achei na página 230\n",
      "Não achei na página 231\n",
      "Não achei na página 232\n",
      "Não achei na página 233\n",
      "Não achei na página 234\n",
      "Não achei na página 235\n",
      "Não achei na página 236\n",
      "Não achei na página 237\n",
      "Não achei na página 238\n",
      "Não achei na página 239\n",
      "Não achei na página 240\n",
      "Não achei na página 241\n",
      "Não achei na página 242\n",
      "Não achei na página 243\n",
      "Não achei na página 244\n",
      "Não achei na página 245\n",
      "Não achei na página 246\n",
      "Não achei na página 247\n",
      "Não achei na página 248\n",
      "Não achei na página 249\n",
      "Não achei na página 250\n",
      "Não achei na página 251\n",
      "Não achei na página 252\n",
      "Não achei na página 253\n",
      "Não achei na página 254\n",
      "Não achei na página 255\n",
      "Não achei na página 256\n",
      "Não achei na página 257\n",
      "Não achei na página 258\n",
      "Não achei na página 259\n",
      "Não achei na página 260\n",
      "Não achei na página 261\n",
      "Não achei na página 262\n",
      "Não achei na página 263\n",
      "Não achei na página 264\n",
      "Não achei na página 265\n",
      "Não achei na página 266\n",
      "Não achei na página 267\n",
      "Não achei na página 268\n",
      "Não achei na página 269\n",
      "Não achei na página 270\n",
      "Não achei na página 271\n",
      "Não achei na página 272\n",
      "Não achei na página 273\n",
      "Não achei na página 274\n",
      "Não achei na página 275\n",
      "Não achei na página 276\n",
      "Não achei na página 277\n",
      "Não achei na página 278\n",
      "Não achei na página 279\n",
      "Não achei na página 280\n",
      "Não achei na página 281\n",
      "Não achei na página 282\n",
      "Não achei na página 283\n",
      "Não achei na página 284\n",
      "Não achei na página 285\n",
      "Não achei na página 286\n",
      "Não achei na página 287\n",
      "Não achei na página 288\n",
      "Não achei na página 289\n",
      "Não achei na página 290\n",
      "Não achei na página 291\n",
      "Não achei na página 292\n",
      "Não achei na página 293\n",
      "Não achei na página 294\n",
      "Não achei na página 295\n",
      "Não achei na página 296\n",
      "Não achei na página 297\n",
      "Não achei na página 298\n",
      "Não achei na página 299\n",
      "Não achei na página 300\n",
      "Não achei na página 301\n",
      "Não achei na página 302\n",
      "Não achei na página 303\n",
      "Não achei na página 304\n",
      "Não achei na página 305\n",
      "Não achei na página 306\n",
      "Não achei na página 307\n",
      "Não achei na página 308\n",
      "Não achei na página 309\n",
      "Não achei na página 310\n",
      "Não achei na página 311\n",
      "Não achei na página 312\n",
      "Não achei na página 313\n",
      "Não achei na página 314\n",
      "Não achei na página 315\n",
      "Não achei na página 316\n",
      "Não achei na página 317\n",
      "Não achei na página 318\n",
      "Não achei na página 319\n",
      "Não achei na página 320\n",
      "Não achei na página 321\n",
      "Não achei na página 322\n",
      "Não achei na página 323\n",
      "Não achei na página 324\n",
      "Não achei na página 325\n",
      "Não achei na página 326\n",
      "Não achei na página 327\n",
      "Não achei na página 328\n",
      "Não achei na página 329\n",
      "Não achei na página 330\n",
      "Não achei na página 331\n",
      "Não achei na página 332\n",
      "Não achei na página 333\n",
      "Não achei na página 334\n",
      "Não achei na página 335\n",
      "Não achei na página 336\n",
      "Não achei na página 337\n",
      "Não achei na página 338\n",
      "Não achei na página 339\n",
      "Não achei na página 340\n",
      "Não achei na página 341\n",
      "Não achei na página 342\n",
      "Não achei na página 343\n",
      "Não achei na página 344\n",
      "Não achei na página 345\n",
      "Não achei na página 346\n",
      "Não achei na página 347\n",
      "Não achei na página 348\n",
      "Não achei na página 349\n",
      "Não achei na página 350\n",
      "Não achei na página 351\n",
      "Não achei na página 352\n",
      "Não achei na página 353\n"
     ]
    },
    {
     "name": "stdout",
     "output_type": "stream",
     "text": [
      "Não achei na página 354\n",
      "Não achei na página 355\n",
      "Não achei na página 356\n",
      "Não achei na página 357\n",
      "Não achei na página 358\n",
      "Não achei na página 359\n",
      "Não achei na página 360\n",
      "Não achei na página 361\n",
      "Não achei na página 362\n",
      "Não achei na página 363\n",
      "Não achei na página 364\n",
      "Não achei na página 365\n",
      "Não achei na página 366\n",
      "Não achei na página 367\n",
      "Não achei na página 368\n",
      "Não achei na página 369\n",
      "Não achei na página 370\n",
      "Não achei na página 371\n",
      "Não achei na página 372\n",
      "Não achei na página 373\n",
      "Não achei na página 374\n",
      "Não achei na página 375\n",
      "Não achei na página 376\n",
      "Não achei na página 377\n",
      "Não achei na página 378\n",
      "Não achei na página 379\n",
      "Não achei na página 380\n",
      "Não achei na página 381\n",
      "Não achei na página 382\n",
      "Não achei na página 383\n",
      "Não achei na página 384\n",
      "Não achei na página 385\n",
      "Não achei na página 386\n",
      "Não achei na página 387\n",
      "Não achei na página 388\n",
      "Não achei na página 389\n",
      "Não achei na página 390\n",
      "Não achei na página 391\n",
      "Não achei na página 392\n",
      "Não achei na página 393\n",
      "Não achei na página 394\n",
      "Não achei na página 395\n",
      "Não achei na página 396\n",
      "Não achei na página 397\n",
      "Não achei na página 398\n",
      "Não achei na página 399\n",
      "Não achei na página 400\n",
      "Não achei na página 401\n",
      "Não achei na página 402\n",
      "Não achei na página 403\n",
      "Não achei na página 404\n",
      "Não achei na página 405\n",
      "Não achei na página 406\n",
      "Não achei na página 407\n",
      "Não achei na página 408\n",
      "Não achei na página 409\n",
      "Não achei na página 410\n",
      "Não achei na página 411\n",
      "Não achei na página 412\n",
      "Não achei na página 413\n",
      "Não achei na página 414\n",
      "Não achei na página 415\n",
      "Não achei na página 416\n",
      "Não achei na página 417\n",
      "Não achei na página 418\n",
      "Não achei na página 419\n",
      "Não achei na página 420\n",
      "Não achei na página 421\n",
      "Não achei na página 422\n",
      "Não achei na página 423\n",
      "Não achei na página 424\n",
      "Não achei na página 425\n",
      "Não achei na página 426\n",
      "Não achei na página 427\n",
      "Não achei na página 428\n",
      "Não achei na página 429\n",
      "Não achei na página 430\n",
      "Não achei na página 431\n",
      "Não achei na página 432\n",
      "Não achei na página 433\n",
      "Não achei na página 434\n",
      "Não achei na página 435\n",
      "Não achei na página 436\n",
      "Não achei na página 437\n",
      "Não achei na página 438\n",
      "Não achei na página 439\n",
      "Não achei na página 440\n",
      "Não achei na página 441\n",
      "Não achei na página 442\n",
      "Não achei na página 443\n",
      "Não achei na página 444\n",
      "Não achei na página 445\n",
      "Não achei na página 446\n",
      "Não achei na página 447\n",
      "Não achei na página 448\n",
      "Não achei na página 449\n",
      "Não achei na página 450\n",
      "Não achei na página 451\n",
      "Não achei na página 452\n",
      "Não achei na página 453\n",
      "Não achei na página 454\n",
      "Não achei na página 455\n",
      "Não achei na página 456\n",
      "Não achei na página 457\n",
      "Não achei na página 458\n",
      "Não achei na página 459\n",
      "Não achei na página 460\n",
      "Não achei na página 461\n",
      "Não achei na página 462\n",
      "Não achei na página 463\n",
      "Não achei na página 464\n",
      "Não achei na página 465\n",
      "Não achei na página 466\n",
      "Não achei na página 467\n",
      "Não achei na página 468\n",
      "Não achei na página 469\n",
      "Não achei na página 470\n",
      "Não achei na página 471\n",
      "Não achei na página 472\n",
      "Não achei na página 473\n",
      "Não achei na página 474\n",
      "Não achei na página 475\n",
      "Não achei na página 476\n",
      "Não achei na página 477\n",
      "Não achei na página 478\n",
      "Não achei na página 479\n",
      "Não achei na página 480\n",
      "Não achei na página 481\n",
      "Não achei na página 482\n",
      "Não achei na página 483\n",
      "Não achei na página 484\n",
      "Não achei na página 485\n",
      "Não achei na página 486\n",
      "Não achei na página 487\n",
      "Não achei na página 488\n",
      "Não achei na página 489\n",
      "Não achei na página 490\n",
      "Não achei na página 491\n",
      "Não achei na página 492\n",
      "Não achei na página 493\n",
      "Não achei na página 494\n",
      "Não achei na página 495\n",
      "Não achei na página 496\n",
      "Não achei na página 497\n",
      "Não achei na página 498\n",
      "Não achei na página 499\n",
      "Não achei na página 500\n",
      "Não achei na página 501\n",
      "Não achei na página 502\n",
      "Não achei na página 503\n",
      "Não achei na página 504\n",
      "Não achei na página 505\n",
      "Não achei na página 506\n",
      "Não achei na página 507\n",
      "Não achei na página 508\n",
      "Não achei na página 509\n",
      "Não achei na página 510\n",
      "Não achei na página 511\n",
      "Não achei na página 512\n",
      "Não achei na página 513\n",
      "Não achei na página 514\n",
      "Não achei na página 515\n",
      "Não achei na página 516\n",
      "Não achei na página 517\n",
      "Não achei na página 518\n",
      "Não achei na página 519\n",
      "Não achei na página 520\n",
      "Não achei na página 521\n",
      "Não achei na página 522\n",
      "Não achei na página 523\n",
      "Não achei na página 524\n",
      "Não achei na página 525\n",
      "Não achei na página 526\n",
      "Não achei na página 527\n",
      "Não achei na página 528\n",
      "Não achei na página 529\n",
      "Não achei na página 530\n",
      "Não achei na página 531\n",
      "Não achei na página 532\n",
      "Não achei na página 533\n",
      "Não achei na página 534\n",
      "Não achei na página 535\n",
      "Não achei na página 536\n",
      "Não achei na página 537\n",
      "Não achei na página 538\n",
      "Não achei na página 539\n",
      "Não achei na página 540\n",
      "Não achei na página 541\n"
     ]
    }
   ],
   "source": [
    "for num_pagina in range(pdf.getNumPages()):\n",
    "    pagina = pdf.getPage(num_pagina)\n",
    "    texto = pagina.extractText()\n",
    "    if 'France and Germany' in texto:\n",
    "        print(f'Achei na página {num_pagina}')\n",
    "    else:\n",
    "        print(f'Não achei na página {num_pagina}')"
   ]
  },
  {
   "cell_type": "code",
   "execution_count": 47,
   "metadata": {},
   "outputs": [
    {
     "name": "stdout",
     "output_type": "stream",
     "text": [
      "Achei na página 3\n",
      "Achei na página 340\n"
     ]
    }
   ],
   "source": [
    "for num_pagina in range(pdf.getNumPages()):\n",
    "    pagina = pdf.getPage(num_pagina)\n",
    "    texto = pagina.extractText()\n",
    "    if 'France' in texto:\n",
    "        print(f'Achei na página {num_pagina}')"
   ]
  },
  {
   "cell_type": "code",
   "execution_count": 48,
   "metadata": {},
   "outputs": [
    {
     "name": "stdout",
     "output_type": "stream",
     "text": [
      "Achei na página 3\n",
      "Achei na página 4\n",
      "Achei na página 11\n",
      "Achei na página 12\n",
      "Achei na página 22\n",
      "Achei na página 35\n",
      "Achei na página 44\n",
      "Achei na página 46\n",
      "Achei na página 59\n",
      "Achei na página 60\n",
      "Achei na página 70\n",
      "Achei na página 74\n",
      "Achei na página 77\n",
      "Achei na página 82\n",
      "Achei na página 89\n",
      "Achei na página 92\n",
      "Achei na página 93\n",
      "Achei na página 95\n",
      "Achei na página 104\n",
      "Achei na página 106\n",
      "Achei na página 128\n",
      "Achei na página 132\n",
      "Achei na página 133\n",
      "Achei na página 135\n",
      "Achei na página 136\n",
      "Achei na página 142\n",
      "Achei na página 143\n",
      "Achei na página 153\n",
      "Achei na página 156\n",
      "Achei na página 164\n",
      "Achei na página 176\n",
      "Achei na página 177\n",
      "Achei na página 180\n",
      "Achei na página 185\n",
      "Achei na página 219\n",
      "Achei na página 244\n",
      "Achei na página 246\n",
      "Achei na página 251\n",
      "Achei na página 254\n",
      "Achei na página 266\n",
      "Achei na página 278\n",
      "Achei na página 283\n",
      "Achei na página 286\n",
      "Achei na página 288\n",
      "Achei na página 303\n",
      "Achei na página 310\n",
      "Achei na página 321\n",
      "Achei na página 330\n",
      "Achei na página 342\n",
      "Achei na página 347\n",
      "Achei na página 356\n",
      "Achei na página 362\n",
      "Achei na página 372\n",
      "Achei na página 374\n",
      "Achei na página 380\n",
      "Achei na página 382\n",
      "Achei na página 412\n",
      "Achei na página 419\n",
      "Achei na página 427\n",
      "Achei na página 434\n",
      "Achei na página 451\n",
      "Achei na página 484\n",
      "Achei na página 489\n",
      "Achei na página 500\n",
      "Achei na página 511\n",
      "Achei na página 514\n",
      "Achei na página 530\n",
      "Achei na página 540\n"
     ]
    }
   ],
   "source": [
    "for num_pagina in range(pdf.getNumPages()):\n",
    "    pagina = pdf.getPage(num_pagina)\n",
    "    texto = pagina.extractText()\n",
    "    if 'home' in texto:\n",
    "        print(f'Achei na página {num_pagina}')"
   ]
  },
  {
   "cell_type": "code",
   "execution_count": 49,
   "metadata": {},
   "outputs": [
    {
     "name": "stdout",
     "output_type": "stream",
     "text": [
      "Achei na página 2\n",
      "Achei na página 4\n",
      "Achei na página 5\n",
      "Achei na página 6\n",
      "Achei na página 23\n",
      "Achei na página 36\n",
      "Achei na página 40\n",
      "Achei na página 42\n",
      "Achei na página 43\n",
      "Achei na página 46\n",
      "Achei na página 70\n",
      "Achei na página 72\n",
      "Achei na página 104\n",
      "Achei na página 319\n",
      "Achei na página 335\n",
      "Achei na página 341\n",
      "Achei na página 343\n",
      "Achei na página 378\n",
      "Achei na página 452\n",
      "Achei na página 453\n",
      "Achei na página 484\n",
      "Achei na página 499\n",
      "Achei na página 501\n",
      "Achei na página 505\n",
      "Achei na página 507\n",
      "Achei na página 530\n",
      "Achei na página 532\n",
      "Achei na página 538\n"
     ]
    }
   ],
   "source": [
    "for num_pagina in range(pdf.getNumPages()):\n",
    "    pagina = pdf.getPage(num_pagina)\n",
    "    texto = pagina.extractText()\n",
    "    if 'Dracula' in texto:\n",
    "        print(f'Achei na página {num_pagina}')"
   ]
  },
  {
   "cell_type": "code",
   "execution_count": 51,
   "metadata": {},
   "outputs": [
    {
     "name": "stdout",
     "output_type": "stream",
     "text": [
      "Achei na página 2\n",
      "Achei na página 4\n",
      "Achei na página 5\n",
      "Achei na página 6\n",
      "Achei na página 23\n",
      "Achei na página 36\n",
      "Achei na página 40\n",
      "Achei na página 42\n",
      "Achei na página 43\n",
      "Achei na página 46\n",
      "Achei na página 70\n",
      "Achei na página 72\n",
      "Achei na página 104\n",
      "Achei na página 319\n",
      "Achei na página 335\n",
      "Achei na página 341\n",
      "Achei na página 343\n",
      "Achei na página 378\n",
      "Achei na página 452\n",
      "Achei na página 453\n",
      "Achei na página 484\n",
      "Achei na página 499\n",
      "Achei na página 501\n",
      "Achei na página 505\n",
      "Achei na página 507\n",
      "Achei na página 530\n",
      "Achei na página 532\n",
      "Achei na página 538\n",
      "Número de páginas que possuem o nome \"Drácula\":  28\n"
     ]
    }
   ],
   "source": [
    "soma_paginas_dracula = 0\n",
    "for num_pagina in range(pdf.getNumPages()):\n",
    "    pagina = pdf.getPage(num_pagina)\n",
    "    texto = pagina.extractText()\n",
    "    if 'Dracula' in texto:\n",
    "        print(f'Achei na página {num_pagina}')\n",
    "        soma_paginas_dracula += 1\n",
    "\n",
    "print('Número de páginas que possuem o nome \"Drácula\": ',soma_paginas_dracula)"
   ]
  },
  {
   "cell_type": "markdown",
   "metadata": {},
   "source": [
    "## Unindo pdf"
   ]
  },
  {
   "cell_type": "code",
   "execution_count": 52,
   "metadata": {},
   "outputs": [],
   "source": [
    "from PyPDF2 import PdfFileMerger"
   ]
  },
  {
   "cell_type": "code",
   "execution_count": 53,
   "metadata": {},
   "outputs": [],
   "source": [
    "juntar_pdfs = PdfFileMerger()"
   ]
  },
  {
   "cell_type": "code",
   "execution_count": 54,
   "metadata": {},
   "outputs": [],
   "source": [
    "pdfs = ['dracula.pdf', '1984.pdf']"
   ]
  },
  {
   "cell_type": "code",
   "execution_count": 56,
   "metadata": {},
   "outputs": [],
   "source": [
    "for pdf in pdfs:\n",
    "    juntar_pdfs.append(pdf)"
   ]
  },
  {
   "cell_type": "code",
   "execution_count": 57,
   "metadata": {},
   "outputs": [],
   "source": [
    "with open('dracula_1984.pdf','wb') as pdf_junto:\n",
    "    juntar_pdfs.write(pdf_junto)"
   ]
  },
  {
   "cell_type": "markdown",
   "metadata": {},
   "source": [
    "## Rotacionando Pdf"
   ]
  },
  {
   "cell_type": "code",
   "execution_count": 63,
   "metadata": {},
   "outputs": [],
   "source": [
    "from PyPDF2 import PdfFileReader, PdfFileWriter"
   ]
  },
  {
   "cell_type": "code",
   "execution_count": 64,
   "metadata": {},
   "outputs": [],
   "source": [
    "dracula_original = PdfFileReader('dracula.pdf')"
   ]
  },
  {
   "cell_type": "code",
   "execution_count": 65,
   "metadata": {},
   "outputs": [],
   "source": [
    "dracula_rotacionado = PdfFileWriter()"
   ]
  },
  {
   "cell_type": "code",
   "execution_count": null,
   "metadata": {},
   "outputs": [],
   "source": [
    "# rotateClockwise(grau) => Rotacionar no sentido horário\n",
    "# addPage(pagina) => Adicionar uma nova página no pdf"
   ]
  },
  {
   "cell_type": "code",
   "execution_count": 67,
   "metadata": {},
   "outputs": [],
   "source": [
    "for num_pag in range(dracula_original.getNumPages()):\n",
    "    pagina = dracula_original.getPage(num_pag)\n",
    "    pagina.rotateClockwise(90)\n",
    "    dracula_rotacionado.addPage(pagina)"
   ]
  },
  {
   "cell_type": "code",
   "execution_count": 68,
   "metadata": {},
   "outputs": [],
   "source": [
    "with open('dracula_rotacionado.pdf', 'wb') as pdf_rotacionado:\n",
    "    dracula_rotacionado.write(pdf_rotacionado)"
   ]
  },
  {
   "cell_type": "markdown",
   "metadata": {},
   "source": [
    "## Separando PDF"
   ]
  },
  {
   "cell_type": "code",
   "execution_count": 82,
   "metadata": {},
   "outputs": [],
   "source": [
    "from PyPDF2 import PdfFileReader, PdfFileWriter\n",
    "\n",
    "dracula_original = PdfFileReader('dracula.pdf')\n",
    "dracula_impar = PdfFileWriter()\n",
    "dracula_par = PdfFileWriter()"
   ]
  },
  {
   "cell_type": "code",
   "execution_count": 83,
   "metadata": {},
   "outputs": [],
   "source": [
    "for num_pag in range(dracula_original.getNumPages()):\n",
    "    pagina = dracula_original.getPage(num_pag)\n",
    "    num_pag_real = num_pag + 1\n",
    "    \n",
    "    if num_pag_real %2 == 0:\n",
    "        dracula_par.addPage(pagina)\n",
    "    else:\n",
    "        dracula_impar.addPage(pagina)"
   ]
  },
  {
   "cell_type": "code",
   "execution_count": 84,
   "metadata": {},
   "outputs": [],
   "source": [
    "with open('dracula_pares.pdf', 'wb') as pdf_pares:\n",
    "    dracula_par.write(pdf_pares)\n",
    "    \n",
    "with open('dracula_impares.pdf', 'wb') as pdf_impares:\n",
    "    dracula_impar.write(pdf_impares)"
   ]
  },
  {
   "cell_type": "markdown",
   "metadata": {},
   "source": [
    "## Trabalhando com arquivo protegido"
   ]
  },
  {
   "cell_type": "code",
   "execution_count": 85,
   "metadata": {},
   "outputs": [],
   "source": [
    "from PyPDF2 import PdfFileReader, PdfFileWriter\n",
    "\n",
    "dracula_original = PdfFileReader('dracula.pdf')\n",
    "dracula_seguro = PdfFileWriter()\n",
    "\n",
    "for indice_pagina in range(dracula_original.getNumPages()):\n",
    "    pagina = dracula_original.getPage(indice_pagina)\n",
    "    dracula_seguro.addPage(pagina)\n",
    "    \n",
    "dracula_seguro.encrypt(user_pwd='minhasenha123', use_128bit = True)\n",
    "\n",
    "with open('dracula_seguro.pdf','wb') as pdf_seguro:\n",
    "    dracula_seguro.write(pdf_seguro)"
   ]
  },
  {
   "cell_type": "code",
   "execution_count": 87,
   "metadata": {},
   "outputs": [
    {
     "name": "stdout",
     "output_type": "stream",
     "text": [
      "Tem senha\n"
     ]
    }
   ],
   "source": [
    "from PyPDF2 import PdfFileReader\n",
    "\n",
    "dracula_seguro = PdfFileReader('dracula_seguro.pdf')\n",
    "\n",
    "if dracula_seguro.isEncrypted:\n",
    "    print('Tem senha')\n",
    "else:\n",
    "    print('Não tem senha')"
   ]
  },
  {
   "cell_type": "code",
   "execution_count": 94,
   "metadata": {},
   "outputs": [
    {
     "name": "stdout",
     "output_type": "stream",
     "text": [
      "O PDF seguro tem: 542 páginas\n"
     ]
    }
   ],
   "source": [
    "if dracula_seguro.isEncrypted:\n",
    "    dracula_seguro.decrypt('minhasenha123')\n",
    "    \n",
    "print(f'O PDF seguro tem: {dracula_seguro.getNumPages()} páginas')"
   ]
  },
  {
   "cell_type": "markdown",
   "metadata": {},
   "source": [
    "## Trabalhando com metadados de PDF"
   ]
  },
  {
   "cell_type": "code",
   "execution_count": 100,
   "metadata": {},
   "outputs": [
    {
     "data": {
      "text/plain": [
       "{'/CreationDate': \"D:20080206210154+11'00'\",\n",
       " '/Subject': 'Download classic literature as completely free eBooks from Planet eBook. ',\n",
       " '/Author': 'Bram Stoker',\n",
       " '/Creator': 'Adobe InDesign CS2 (4.0)',\n",
       " '/Producer': 'Adobe PDF Library 7.0',\n",
       " '/ModDate': \"D:20080706190426+10'00'\",\n",
       " '/Title': 'Dracula',\n",
       " '/Trapped': '/False'}"
      ]
     },
     "execution_count": 100,
     "metadata": {},
     "output_type": "execute_result"
    }
   ],
   "source": [
    "from PyPDF2 import PdfFileReader, PdfFileWriter\n",
    "\n",
    "dracula_original = PdfFileReader('dracula.pdf')\n",
    "dracula_impar = PdfFileReader('dracula_impares.pdf')\n",
    "\n",
    "dracula_original.documentInfo"
   ]
  },
  {
   "cell_type": "code",
   "execution_count": 101,
   "metadata": {},
   "outputs": [
    {
     "data": {
      "text/plain": [
       "{'/Producer': 'PyPDF2'}"
      ]
     },
     "execution_count": 101,
     "metadata": {},
     "output_type": "execute_result"
    }
   ],
   "source": [
    "dracula_impar.documentInfo"
   ]
  },
  {
   "cell_type": "code",
   "execution_count": 102,
   "metadata": {},
   "outputs": [],
   "source": [
    "dracula_original = PdfFileReader('dracula.pdf')\n",
    "dracula_modificado = PdfFileWriter()\n",
    "\n",
    "dracula_modificado.appendPagesFromReader(dracula_original)\n",
    "\n",
    "with open('dracula_modificado.pdf', 'wb') as arquivo_modificado:\n",
    "    dracula_modificado.write(arquivo_modificado)"
   ]
  },
  {
   "cell_type": "code",
   "execution_count": 103,
   "metadata": {},
   "outputs": [
    {
     "data": {
      "text/plain": [
       "{'/Producer': 'PyPDF2'}"
      ]
     },
     "execution_count": 103,
     "metadata": {},
     "output_type": "execute_result"
    }
   ],
   "source": [
    "dracula_modificadinho = PdfFileReader('dracula_modificado.pdf')\n",
    "dracula_modificadinho.documentInfo"
   ]
  },
  {
   "cell_type": "code",
   "execution_count": 104,
   "metadata": {},
   "outputs": [],
   "source": [
    "dracula_original = PdfFileReader('dracula.pdf')\n",
    "dracula_modificado = PdfFileWriter()\n",
    "\n",
    "dracula_modificado.appendPagesFromReader(dracula_original)\n",
    "metadados = dracula_original.documentInfo\n",
    "dracula_modificado.addMetadata(metadados)\n",
    "dracula_modificado.addMetadata({'/ModificadorPor':'Lucas'})\n",
    "\n",
    "with open('dracula_modificado2.pdf', 'wb') as arquivo_modificado:\n",
    "    dracula_modificado.write(arquivo_modificado)"
   ]
  },
  {
   "cell_type": "code",
   "execution_count": 105,
   "metadata": {},
   "outputs": [
    {
     "data": {
      "text/plain": [
       "{'/Producer': 'Adobe PDF Library 7.0',\n",
       " '/CreationDate': \"D:20080206210154+11'00'\",\n",
       " '/Subject': 'Download classic literature as completely free eBooks from Planet eBook. ',\n",
       " '/Author': 'Bram Stoker',\n",
       " '/Creator': 'Adobe InDesign CS2 (4.0)',\n",
       " '/ModDate': \"D:20080706190426+10'00'\",\n",
       " '/Title': 'Dracula',\n",
       " '/Trapped': '/False',\n",
       " '/ModificadorPor': 'Lucas'}"
      ]
     },
     "execution_count": 105,
     "metadata": {},
     "output_type": "execute_result"
    }
   ],
   "source": [
    "dracula_modificadinho2 = PdfFileReader('dracula_modificado2.pdf')\n",
    "dracula_modificadinho2.documentInfo"
   ]
  },
  {
   "cell_type": "markdown",
   "metadata": {},
   "source": [
    "## Utilizando o pymupdf"
   ]
  },
  {
   "cell_type": "code",
   "execution_count": 106,
   "metadata": {},
   "outputs": [
    {
     "name": "stdout",
     "output_type": "stream",
     "text": [
      "Collecting pymupdf\n",
      "  Downloading PyMuPDF-1.18.14-cp38-cp38-win_amd64.whl (5.4 MB)\n",
      "Installing collected packages: pymupdf\n",
      "Successfully installed pymupdf-1.18.14\n"
     ]
    }
   ],
   "source": [
    "!pip install pymupdf"
   ]
  },
  {
   "cell_type": "code",
   "execution_count": 107,
   "metadata": {},
   "outputs": [],
   "source": [
    "import fitz #pymupdf"
   ]
  },
  {
   "cell_type": "code",
   "execution_count": 112,
   "metadata": {},
   "outputs": [
    {
     "name": "stdout",
     "output_type": "stream",
     "text": [
      "Dracula\n",
      "\u0018\n",
      "I did not sleep well, though my bed was comfortable \n",
      "enough, for I had all sorts of queer dreams. There was a dog \n",
      "howling all night under my window, which may have had \n",
      "something to do with it; or it may have been the paprika, \n",
      "for I had to drink up all the water in my carafe, and was \n",
      "still thirsty. Towards morning I slept and was wakened by \n",
      "the continuous knocking at my door, so I guess I must have \n",
      "been sleeping soundly then.\n",
      "I had for breakfast more paprika, and a sort of porridge \n",
      "of maize flour which they said was ‘mamaliga’, and egg-\n",
      "plant stuffed with forcemeat, a very excellent dish, which \n",
      "they call ‘impletata”. (Mem., get recipe for this also.)\n",
      "I had to hurry breakfast, for the train started a little \n",
      "before eight, or rather it ought to have done so, for after \n",
      "rushing to the station at 7:30 I had to sit in the carriage for \n",
      "more than an hour before we began to move.\n",
      "It seems to me that the further east you go the more un-\n",
      "punctual are the trains. What ought they to be in China?\n",
      "All day long we seemed to dawdle through a country \n",
      "which was full of beauty of every kind. Sometimes we saw \n",
      "little towns or castles on the top of steep hills such as we \n",
      "see in old missals; sometimes we ran by rivers and streams \n",
      "which seemed from the wide stony margin on each side of \n",
      "them to be subject to great floods. It takes a lot of water, and \n",
      "running strong, to sweep the outside edge of a river clear.\n",
      "At every station there were groups of people, sometimes \n",
      "crowds, and in all sorts of attire. Some of them were just \n",
      "like the peasants at home or those I saw coming through \n",
      "France and Germany, with short jackets, and round hats, \n",
      "\n"
     ]
    }
   ],
   "source": [
    "with fitz.open('dracula.pdf') as dracula:\n",
    "    pagina = dracula[3]\n",
    "    print(pagina.getText())"
   ]
  },
  {
   "cell_type": "code",
   "execution_count": 113,
   "metadata": {},
   "outputs": [
    {
     "name": "stdout",
     "output_type": "stream",
     "text": [
      "D˜˚˛˝˙˚\n",
      "I did not sleep well, though my bed was comfortable \n",
      "enough, for I had all sorts of queer dreams. ˘ere was a dog \n",
      "howling all night under my window, which may have had \n",
      "something to do with it; or it may have been the paprika, \n",
      "for I had to drink up all the water in my carafe, and was \n",
      "still thirsty. Towards morning I slept and was wakened by \n",
      "the continuous knocking at my door, so I guess I must have \n",
      "been sleeping soundly then.\n",
      "I had for breakfast more paprika, and a sort of porridge \n",
      "of maize our which they said was ‚mamaliga™, and egg-\n",
      "plant stud with forcemeat, a very excellent dish, which \n",
      "they call ‚impletataﬂ. (Mem., get recipe for this also.)\n",
      "I had to hurry breakfast, for the train started a little \n",
      "before eight, or rather it ought to have done so, for aˇer \n",
      "rushing to the station at 7:30 I had to sit in the carriage for \n",
      "more than an hour before we began to move.\n",
      "It seems to me that the further east you go the more un\n",
      "-punctual are the trains. What ought they to be in China?\n",
      "All day long we seemed to dawdle through a country \n",
      "which was full of beauty of every kind. Sometimes we saw \n",
      "little towns or castles on the top of steep hills such as we \n",
      "see in old missals; sometimes we ran by rivers and streams \n",
      "which seemed from the wide stony margin on each side of \n",
      "them to be subject to great oods. It takes a lot of water, and \n",
      "running strong, to sweep the outside edge of a river clear.\n",
      "At every station there were groups of people, sometimes \n",
      "crowds, and in all sorts of attire. Some of them were just \n",
      "like the peasants at home or those I saw coming through \n",
      "France and Germany, with short jackets, and round hats, \n",
      "\n"
     ]
    },
    {
     "name": "stderr",
     "output_type": "stream",
     "text": [
      "PdfReadWarning: Xref table not zero-indexed. ID numbers for objects will be corrected. [pdf.py:1736]\n"
     ]
    }
   ],
   "source": [
    "# Forma \"tradicional\" (utilizando PyPDF2)\n",
    "\n",
    "dracula_pypdf2 = PdfFileReader('dracula.pdf')\n",
    "pagina_4 = dracula_pypdf2.getPage(3)\n",
    "texto = pagina_4.extractText()\n",
    "print(texto)"
   ]
  },
  {
   "cell_type": "code",
   "execution_count": null,
   "metadata": {},
   "outputs": [],
   "source": []
  }
 ],
 "metadata": {
  "kernelspec": {
   "display_name": "Python 3",
   "language": "python",
   "name": "python3"
  },
  "language_info": {
   "codemirror_mode": {
    "name": "ipython",
    "version": 3
   },
   "file_extension": ".py",
   "mimetype": "text/x-python",
   "name": "python",
   "nbconvert_exporter": "python",
   "pygments_lexer": "ipython3",
   "version": "3.8.5"
  }
 },
 "nbformat": 4,
 "nbformat_minor": 4
}
