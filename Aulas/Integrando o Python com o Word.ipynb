{
 "cells": [
  {
   "cell_type": "markdown",
   "metadata": {},
   "source": [
    "## Importando o pacote"
   ]
  },
  {
   "cell_type": "code",
   "execution_count": 2,
   "metadata": {},
   "outputs": [
    {
     "name": "stdout",
     "output_type": "stream",
     "text": [
      "Collecting python-docx\n",
      "  Downloading python-docx-0.8.11.tar.gz (5.6 MB)\n",
      "Requirement already satisfied: lxml>=2.3.2 in d:\\programas\\anaconda3\\lib\\site-packages (from python-docx) (4.6.1)\n",
      "Building wheels for collected packages: python-docx\n",
      "  Building wheel for python-docx (setup.py): started\n",
      "  Building wheel for python-docx (setup.py): finished with status 'done'\n",
      "  Created wheel for python-docx: filename=python_docx-0.8.11-py3-none-any.whl size=184605 sha256=c34fee55ae7051556489a8ed76a57adb3b00ce6c87ec833c19a369df4e1ac7ba\n",
      "  Stored in directory: c:\\users\\lucas\\appdata\\local\\pip\\cache\\wheels\\32\\b8\\b2\\c4c2b95765e615fe139b0b17b5ea7c0e1b6519b0a9ec8fb34d\n",
      "Successfully built python-docx\n",
      "Installing collected packages: python-docx\n",
      "Successfully installed python-docx-0.8.11\n"
     ]
    }
   ],
   "source": [
    "!pip install python-docx"
   ]
  },
  {
   "cell_type": "code",
   "execution_count": 6,
   "metadata": {},
   "outputs": [],
   "source": [
    "from docx import Document"
   ]
  },
  {
   "cell_type": "markdown",
   "metadata": {},
   "source": [
    "## Criando um novo documento"
   ]
  },
  {
   "cell_type": "code",
   "execution_count": 7,
   "metadata": {},
   "outputs": [],
   "source": [
    "documento = Document()"
   ]
  },
  {
   "cell_type": "markdown",
   "metadata": {},
   "source": [
    "## Abrindo um documento existente"
   ]
  },
  {
   "cell_type": "code",
   "execution_count": 5,
   "metadata": {},
   "outputs": [],
   "source": [
    "arquivo = open('arquivo_existente.docx', 'rb')\n",
    "\n",
    "documento = Document(arquivo)\n",
    "\n",
    "arquivo.close()"
   ]
  },
  {
   "cell_type": "code",
   "execution_count": 12,
   "metadata": {},
   "outputs": [],
   "source": [
    "documento = Document('arquivo_existente.docx')"
   ]
  },
  {
   "cell_type": "markdown",
   "metadata": {},
   "source": [
    "## Salvando um arquivo"
   ]
  },
  {
   "cell_type": "code",
   "execution_count": 43,
   "metadata": {},
   "outputs": [],
   "source": [
    "documento.save('arquivo_salvo2.docx')"
   ]
  },
  {
   "cell_type": "markdown",
   "metadata": {},
   "source": [
    "## Adicionar um cabeçalho (Título)\n",
    "Podemos adicionar títulos/cabeçalhos (heading) através do método add_heading().  \n",
    "Tal método aceita dois parâmetros, sendo eles, respectivamente:\n",
    "\n",
    "- **text:** O texto a ser inserido como cabeçalhos;  \n",
    "- **level:** O nível de identação do cabeçalho, indo de 0 até 9, tendo como padrão o valor 1."
   ]
  },
  {
   "cell_type": "code",
   "execution_count": 23,
   "metadata": {},
   "outputs": [
    {
     "data": {
      "text/plain": [
       "<docx.text.paragraph.Paragraph at 0x23a99027a90>"
      ]
     },
     "execution_count": 23,
     "metadata": {},
     "output_type": "execute_result"
    }
   ],
   "source": [
    "documento.add_heading('Título do documento',0)"
   ]
  },
  {
   "cell_type": "markdown",
   "metadata": {},
   "source": [
    "## Adicionando um parágrafo\n",
    "Podemos adicionar parágrafos (textos) através do método add_paragraph().  \n",
    "Tal método aceita dois parâmetros, sendo eles, respectivamente:\n",
    "\n",
    "- **text:** O texto a ser inserido como parágrafo;  \n",
    "- **style:** Estilo do texto a ser adicionado:\n",
    "    - Normal;\n",
    "    - Citação;\n",
    "    - Listas."
   ]
  },
  {
   "cell_type": "code",
   "execution_count": 24,
   "metadata": {},
   "outputs": [
    {
     "data": {
      "text/plain": [
       "<docx.text.paragraph.Paragraph at 0x23a9801c820>"
      ]
     },
     "execution_count": 24,
     "metadata": {},
     "output_type": "execute_result"
    }
   ],
   "source": [
    "documento.add_paragraph('Eu sou um exemplo de texto')"
   ]
  },
  {
   "cell_type": "code",
   "execution_count": 26,
   "metadata": {},
   "outputs": [
    {
     "data": {
      "text/plain": [
       "<docx.text.paragraph.Paragraph at 0x23a9803e940>"
      ]
     },
     "execution_count": 26,
     "metadata": {},
     "output_type": "execute_result"
    }
   ],
   "source": [
    "documento.add_paragraph('Item 1', style = 'List Number')\n",
    "documento.add_paragraph('Item 2', style = 'List Number')\n",
    "documento.add_paragraph('Item 3', style = 'List Number')\n",
    "documento.add_paragraph('Item 4', style = 'List Number')"
   ]
  },
  {
   "cell_type": "markdown",
   "metadata": {},
   "source": [
    "## Inserir citações"
   ]
  },
  {
   "cell_type": "code",
   "execution_count": 27,
   "metadata": {},
   "outputs": [
    {
     "data": {
      "text/plain": [
       "<docx.text.paragraph.Paragraph at 0x23a9803e5b0>"
      ]
     },
     "execution_count": 27,
     "metadata": {},
     "output_type": "execute_result"
    }
   ],
   "source": [
    "documento.add_paragraph('Minha citação intensa', style = 'Intense Quote')\n",
    "documento.add_paragraph('Minha citação normal', 'Quote')"
   ]
  },
  {
   "cell_type": "markdown",
   "metadata": {},
   "source": [
    "## Objeto paragraph\n",
    "Todo texto que adicionarmos no nosso documento, serão do tipo Paragraph"
   ]
  },
  {
   "cell_type": "code",
   "execution_count": 31,
   "metadata": {},
   "outputs": [],
   "source": [
    "paragrafo = documento.add_paragraph('Eu sou um parágrafo')\n",
    "titulo = documento.add_heading('Eu sou um título')"
   ]
  },
  {
   "cell_type": "code",
   "execution_count": 30,
   "metadata": {},
   "outputs": [
    {
     "data": {
      "text/plain": [
       "docx.text.paragraph.Paragraph"
      ]
     },
     "execution_count": 30,
     "metadata": {},
     "output_type": "execute_result"
    }
   ],
   "source": [
    "type(paragrafo)"
   ]
  },
  {
   "cell_type": "code",
   "execution_count": 32,
   "metadata": {},
   "outputs": [
    {
     "data": {
      "text/plain": [
       "docx.text.paragraph.Paragraph"
      ]
     },
     "execution_count": 32,
     "metadata": {},
     "output_type": "execute_result"
    }
   ],
   "source": [
    "type(titulo)"
   ]
  },
  {
   "cell_type": "markdown",
   "metadata": {},
   "source": [
    "- **text:** O texto do parágrafo\n",
    "- **style:** É o estilo do parágrafo\n",
    "- **paragraph_format:** A formatação do parágrafo\n",
    "- **font:** A fonte atual do parágrafo \n",
    "- **runs:** Lista todas as run (parte) desse nosso texto"
   ]
  },
  {
   "cell_type": "markdown",
   "metadata": {},
   "source": [
    "## Estilizar com negrito e itálico\n",
    "Eu sou um {o que ele é} (negrito para título e itálico para parágrafo)\n",
    "\n",
    "**add_run( )** => adiciona uma nova run no texto"
   ]
  },
  {
   "cell_type": "code",
   "execution_count": 36,
   "metadata": {},
   "outputs": [],
   "source": [
    "titulo = documento.add_heading('Eu sou um ')\n",
    "titulo.add_run('título').bold=True\n",
    "\n",
    "paragrafo = documento.add_paragraph('Eu sou um ')\n",
    "paragrafo.add_run('parágrafo').italic=True"
   ]
  },
  {
   "cell_type": "markdown",
   "metadata": {},
   "source": [
    "## Objeto Run"
   ]
  },
  {
   "cell_type": "code",
   "execution_count": 39,
   "metadata": {},
   "outputs": [],
   "source": [
    "titulo = documento.add_heading('Eu sou um super')\n",
    "run_titulo = titulo.add_run(' título')\n",
    "run_titulo.bold = True\n",
    "run_titulo.italic = True"
   ]
  },
  {
   "cell_type": "markdown",
   "metadata": {},
   "source": [
    "## Estilizando a fonte\n",
    "\n",
    "1. size: Tamanho\n",
    "2. color: Cor da fonte\n",
    "3. name: O nome (ex: arial)"
   ]
  },
  {
   "cell_type": "code",
   "execution_count": 41,
   "metadata": {},
   "outputs": [],
   "source": [
    "from docx.shared import Pt, RGBColor"
   ]
  },
  {
   "cell_type": "code",
   "execution_count": 42,
   "metadata": {},
   "outputs": [],
   "source": [
    "paragrafo = documento.add_paragraph()\n",
    "run = paragrafo.add_run('Eu serei estilizado')\n",
    "fonte = run.font\n",
    "fonte.name = 'Corbel'\n",
    "fonte.size = Pt(18)\n",
    "fonte.color.rgb = RGBColor(255,0,0)"
   ]
  },
  {
   "cell_type": "markdown",
   "metadata": {},
   "source": [
    "## Exemplo customizando as fontes"
   ]
  },
  {
   "cell_type": "code",
   "execution_count": 50,
   "metadata": {},
   "outputs": [],
   "source": [
    "documento2 = Document()"
   ]
  },
  {
   "cell_type": "code",
   "execution_count": 51,
   "metadata": {},
   "outputs": [],
   "source": [
    "paragrafo = documento2.add_paragraph()\n",
    "run = paragrafo.add_run('Eu sou a primeira linha do paragráfo\\n')\n",
    "run2 = paragrafo.add_run('E eu sou a segunda!\\n')\n",
    "run3 = paragrafo.add_run('Eu sou a última, mas não menos importante')\n",
    "\n",
    "fonte1 = run.font\n",
    "fonte1.name = 'Verdana'\n",
    "fonte1.size = Pt(8)\n",
    "fonte1.color.rgb = RGBColor(188,40,20)\n",
    "\n",
    "fonte2 = run2.font\n",
    "fonte2.name = 'Arial'\n",
    "fonte2.size = Pt(14)\n",
    "fonte2.color.rgb = RGBColor(0,0,0)\n",
    "\n",
    "fonte3 = run3.font\n",
    "fonte3.name = 'Times New Roman'\n",
    "fonte3.size = Pt(12)\n",
    "fonte3.color.rgb = RGBColor(40,40,255)"
   ]
  },
  {
   "cell_type": "code",
   "execution_count": 53,
   "metadata": {},
   "outputs": [],
   "source": [
    "documento2.save('testandoFontes3.docx')"
   ]
  },
  {
   "cell_type": "markdown",
   "metadata": {},
   "source": [
    "## Editando o alinhamento do parágrafo"
   ]
  },
  {
   "cell_type": "code",
   "execution_count": 54,
   "metadata": {},
   "outputs": [],
   "source": [
    "from docx.enum.text import WD_PARAGRAPH_ALIGNMENT"
   ]
  },
  {
   "cell_type": "markdown",
   "metadata": {},
   "source": [
    "CENTER;  \n",
    "DISTRIBUTE;  \n",
    "JUSTIFY;  \n",
    "JUSTIFY_HI;  \n",
    "JUSTIFY_LOW;  \n",
    "JUSTIFY_MED;  \n",
    "LEFT;  \n",
    "RIGHT;  \n",
    "THAI_JUSTIFY;  "
   ]
  },
  {
   "cell_type": "code",
   "execution_count": 56,
   "metadata": {},
   "outputs": [],
   "source": [
    "paragrafo = documento2.add_paragraph('Testando alinhamentos\\n')\n",
    "run = paragrafo.add_run('Testando o alinhamento')\n",
    "\n",
    "paragrafo.paragraph_format.alignment = WD_PARAGRAPH_ALIGNMENT.CENTER"
   ]
  },
  {
   "cell_type": "code",
   "execution_count": 57,
   "metadata": {},
   "outputs": [],
   "source": [
    "documento2.save('testandoAlinhamento.docx')"
   ]
  },
  {
   "cell_type": "markdown",
   "metadata": {},
   "source": [
    "## Criando nossos próprios estilos"
   ]
  },
  {
   "cell_type": "code",
   "execution_count": 1,
   "metadata": {},
   "outputs": [],
   "source": [
    "from docx.enum.style import WD_STYLE_TYPE"
   ]
  },
  {
   "cell_type": "code",
   "execution_count": 9,
   "metadata": {},
   "outputs": [],
   "source": [
    "estilo = documento.styles.add_style('EstiloEditado', WD_STYLE_TYPE.PARAGRAPH)"
   ]
  },
  {
   "cell_type": "markdown",
   "metadata": {},
   "source": [
    "### Editando nossos estilos"
   ]
  },
  {
   "cell_type": "code",
   "execution_count": 15,
   "metadata": {},
   "outputs": [
    {
     "data": {
      "text/plain": [
       "<docx.text.run.Run at 0x22387e7afa0>"
      ]
     },
     "execution_count": 15,
     "metadata": {},
     "output_type": "execute_result"
    }
   ],
   "source": [
    "from docx import Document\n",
    "from docx.shared import Pt, RGBColor\n",
    "from docx.enum.style import WD_STYLE_TYPE\n",
    "from docx.enum.text import WD_PARAGRAPH_ALIGNMENT\n",
    "\n",
    "\n",
    "\n",
    "estilo = documento.styles.add_style('EstiloEditado', WD_STYLE_TYPE.PARAGRAPH)\n",
    "\n",
    "fonte = estilo.font\n",
    "fonte.name = 'Corbel'\n",
    "fonte.size = Pt(25)\n",
    "fonte.color.rgb = RGBColor(127,255,127)\n",
    "fonte.bold = True\n",
    "fonte.italic = True\n",
    "\n",
    "estilo.paragraph_format.alignment = WD_PARAGRAPH_ALIGNMENT.CENTER"
   ]
  },
  {
   "cell_type": "markdown",
   "metadata": {},
   "source": [
    "### Aplicando Estilos"
   ]
  },
  {
   "cell_type": "code",
   "execution_count": 19,
   "metadata": {},
   "outputs": [],
   "source": [
    "documento = Document()\n",
    "\n",
    "estilo = documento.styles.add_style('EstiloEditado', WD_STYLE_TYPE.PARAGRAPH)\n",
    "\n",
    "fonte = estilo.font\n",
    "fonte.name = 'Corbel'\n",
    "fonte.size = Pt(16)\n",
    "fonte.color.rgb = RGBColor(127,255,127)\n",
    "fonte.bold = True\n",
    "fonte.italic = True\n",
    "\n",
    "estilo.paragraph_format.alignment = WD_PARAGRAPH_ALIGNMENT.CENTER\n",
    "\n",
    "paragrafo = documento.add_paragraph()\n",
    "paragrafo.style = documento.styles['EstiloEditado']\n",
    "paragrafo.add_run('Eu sou um paragrafo com estilo editado')\n",
    "\n",
    "documento.save('estilo_proprio2.docx')"
   ]
  },
  {
   "cell_type": "markdown",
   "metadata": {},
   "source": [
    "## Inserindo imagens\n",
    "\n",
    "**add_picture()** é o método utilizado para adicionar imagens\n",
    "\n",
    "1. image_path_or_stream => obrigatório: Local ou Stream da Imagem (obrigatório)\n",
    "2. width => largura da imagem (opcional)\n",
    "3. height => altura da imagem (opcional)\n",
    "\n",
    "**from docx.shared import Inches** => modificar o tamanho da imagem"
   ]
  },
  {
   "cell_type": "code",
   "execution_count": 20,
   "metadata": {},
   "outputs": [],
   "source": [
    "from docx.shared import Inches"
   ]
  },
  {
   "cell_type": "code",
   "execution_count": 21,
   "metadata": {},
   "outputs": [
    {
     "data": {
      "text/plain": [
       "<docx.shape.InlineShape at 0x22387e8aaf0>"
      ]
     },
     "execution_count": 21,
     "metadata": {},
     "output_type": "execute_result"
    }
   ],
   "source": [
    "documento.add_picture('manutd.png') # tamanho original da imagem"
   ]
  },
  {
   "cell_type": "code",
   "execution_count": 22,
   "metadata": {},
   "outputs": [],
   "source": []
  },
  {
   "cell_type": "code",
   "execution_count": 23,
   "metadata": {},
   "outputs": [],
   "source": [
    "documento.add_picture('manutd.png', width = Inches(2)) # Editamos a largura\n",
    "documento.save('adicionando imagem.docx')"
   ]
  },
  {
   "cell_type": "code",
   "execution_count": 25,
   "metadata": {},
   "outputs": [],
   "source": [
    "documento.add_picture('manutd.png', height = Inches(10)) # Editamos a altura\n",
    "documento.save('adicionando imagem.docx')"
   ]
  },
  {
   "cell_type": "code",
   "execution_count": 26,
   "metadata": {},
   "outputs": [],
   "source": [
    "documento.add_picture('manutd.png', height = Inches(5), width = Inches(2)) # Editamos a largura e a altura\n",
    "documento.save('adicionando imagem.docx')"
   ]
  },
  {
   "cell_type": "markdown",
   "metadata": {},
   "source": [
    "## Inserindo Tabelas\n",
    "\n",
    "Adicionamos tabelas com o **add_table()**\n",
    "\n",
    "Linhas, Colunas, Célula => 'Dados' da tabela\n",
    "\n",
    "1. rows => linhas -> **add_row()**  \n",
    "    1.1 cells => célula\n",
    "2. cols => colunas -> **add_column()**\n"
   ]
  },
  {
   "cell_type": "code",
   "execution_count": null,
   "metadata": {},
   "outputs": [],
   "source": []
  },
  {
   "cell_type": "code",
   "execution_count": 28,
   "metadata": {},
   "outputs": [],
   "source": [
    "nome_sobrenome_idade = [\n",
    "    ['Lucas', 'Rosa', 27], # linha 1\n",
    "    ['Luana', 'Giusto', 33],\n",
    "    ['Augusto', 'Japa', 24]\n",
    "]"
   ]
  },
  {
   "cell_type": "code",
   "execution_count": 29,
   "metadata": {},
   "outputs": [],
   "source": [
    "documento = Document()\n",
    "\n",
    "tabela = documento.add_table(rows=1, cols=3) # Adiciona apenas uma linha (título) e 3 colunas\n",
    "celulas_titulo = tabela.rows[0].cells # pegamos as células de uma linha da tabela (0, a do título)\n",
    "\n",
    "celulas_titulo[0].text = 'Nome'\n",
    "celulas_titulo[1].text = 'Sobrenome'\n",
    "celulas_titulo[2].text = 'Idade'"
   ]
  },
  {
   "cell_type": "code",
   "execution_count": 30,
   "metadata": {},
   "outputs": [
    {
     "name": "stdout",
     "output_type": "stream",
     "text": [
      "['Lucas', 'Rosa', 27]\n",
      "['Luana', 'Giusto', 33]\n",
      "['Augusto', 'Japa', 24]\n"
     ]
    }
   ],
   "source": [
    "for linha in nome_sobrenome_idade:\n",
    "    print(linha)"
   ]
  },
  {
   "cell_type": "code",
   "execution_count": 31,
   "metadata": {},
   "outputs": [
    {
     "name": "stdout",
     "output_type": "stream",
     "text": [
      "Lucas\n",
      "Rosa\n",
      "27\n",
      "Luana\n",
      "Giusto\n",
      "33\n",
      "Augusto\n",
      "Japa\n",
      "24\n"
     ]
    }
   ],
   "source": [
    "for nome, sobrenome, idade in nome_sobrenome_idade:\n",
    "    print(nome)\n",
    "    print(sobrenome)\n",
    "    print(idade)"
   ]
  },
  {
   "cell_type": "code",
   "execution_count": 32,
   "metadata": {},
   "outputs": [],
   "source": [
    "for nome, sobrenome, idade in nome_sobrenome_idade:\n",
    "    celulas_nova_linha = tabela.add_row().cells\n",
    "    celulas_nova_linha[0].text = nome\n",
    "    celulas_nova_linha[1].text = sobrenome\n",
    "    celulas_nova_linha[2].text = str(idade)"
   ]
  },
  {
   "cell_type": "code",
   "execution_count": 33,
   "metadata": {},
   "outputs": [],
   "source": [
    "documento.save('criando tabelas.docx')"
   ]
  },
  {
   "cell_type": "markdown",
   "metadata": {},
   "source": [
    "## Quebra de página (inserir nova página)\n",
    "\n",
    "Adicionamos uma nova página usando **add_page_break()**"
   ]
  },
  {
   "cell_type": "code",
   "execution_count": 34,
   "metadata": {},
   "outputs": [],
   "source": [
    "documento = Document()\n",
    "\n",
    "documento.add_paragraph('Primeira página')\n",
    "documento.add_page_break()\n",
    "documento.add_paragraph('Segunda página')\n",
    "\n",
    "documento.save('duas páginas.docx')"
   ]
  },
  {
   "cell_type": "markdown",
   "metadata": {},
   "source": [
    "## Desafio final: Criando um documento completo do ZERO"
   ]
  },
  {
   "cell_type": "code",
   "execution_count": 35,
   "metadata": {},
   "outputs": [],
   "source": [
    "from docx import Document\n",
    "from docx.shared import Pt, RGBColor, Inches\n",
    "from docx.enum.text import WD_PARAGRAPH_ALIGNMENT\n",
    "from docx.enum.style import WD_STYLE_TYPE"
   ]
  },
  {
   "cell_type": "code",
   "execution_count": 36,
   "metadata": {},
   "outputs": [],
   "source": [
    "documento = Document()"
   ]
  },
  {
   "cell_type": "code",
   "execution_count": 37,
   "metadata": {},
   "outputs": [],
   "source": [
    "titulo = documento.add_heading(level=0)\n",
    "titulo.add_run('Integrando o ')\n",
    "titulo.add_run('Python ').italic=True\n",
    "titulo.add_run('com o ')\n",
    "titulo.add_run('Word').italic=True"
   ]
  },
  {
   "cell_type": "code",
   "execution_count": 38,
   "metadata": {},
   "outputs": [
    {
     "data": {
      "text/plain": [
       "<docx.text.paragraph.Paragraph at 0x22387e8a4c0>"
      ]
     },
     "execution_count": 38,
     "metadata": {},
     "output_type": "execute_result"
    }
   ],
   "source": [
    "documento.add_paragraph('Nós aprendemos:')\n",
    "\n",
    "documento.add_paragraph('Inserir Títulos', style='List Number')\n",
    "documento.add_paragraph('Inserir Parágrafos', style='List Number')\n",
    "documento.add_paragraph('Customizar Textos', style='List Number')\n",
    "documento.add_paragraph('Criar Estilos', style='List Number')\n",
    "documento.add_paragraph('Trabalhamos com Imagens', style='List Number')\n",
    "documento.add_paragraph('Trabalhamos com Tabelas', style='List Number')\n",
    "documento.add_paragraph('E muito mais', style='List Number')"
   ]
  },
  {
   "cell_type": "code",
   "execution_count": 39,
   "metadata": {},
   "outputs": [
    {
     "data": {
      "text/plain": [
       "<docx.text.paragraph.Paragraph at 0x22387e69700>"
      ]
     },
     "execution_count": 39,
     "metadata": {},
     "output_type": "execute_result"
    }
   ],
   "source": [
    "documento.add_page_break()"
   ]
  },
  {
   "cell_type": "code",
   "execution_count": 40,
   "metadata": {},
   "outputs": [],
   "source": [
    "titulo = documento.add_heading('Caso você tenha alguma dificuldade, ')\n",
    "run_titulo = titulo.add_run('lembre-se sempre:')\n",
    "run_titulo.italic = True\n",
    "run_titulo.bold = True"
   ]
  },
  {
   "cell_type": "code",
   "execution_count": 41,
   "metadata": {},
   "outputs": [
    {
     "data": {
      "text/plain": [
       "<docx.text.paragraph.Paragraph at 0x22389e8afa0>"
      ]
     },
     "execution_count": 41,
     "metadata": {},
     "output_type": "execute_result"
    }
   ],
   "source": [
    "documento.add_paragraph('A prática leva a perfeição, com treino e força de vontade, nada te impedirá!','Quote')\n",
    "documento.add_paragraph('Mas caso tenha alguma dúvida nesse processo, a ByLearn estará sempre aqui :)', 'Intense Quote')"
   ]
  },
  {
   "cell_type": "code",
   "execution_count": 42,
   "metadata": {},
   "outputs": [
    {
     "data": {
      "text/plain": [
       "<docx.text.paragraph.Paragraph at 0x2238ae860d0>"
      ]
     },
     "execution_count": 42,
     "metadata": {},
     "output_type": "execute_result"
    }
   ],
   "source": [
    "documento.add_page_break()"
   ]
  },
  {
   "cell_type": "code",
   "execution_count": 43,
   "metadata": {},
   "outputs": [],
   "source": [
    "paragrafo = documento.add_paragraph('Geralmente usamos o Word para escrever relatórios e muitas vezes é algo padronizado')\n",
    "run = paragrafo.add_run('\\nNesses casos o Python pode te ajudar a automatizar este processo')\n",
    "\n",
    "fonte = run.font\n",
    "fonte.name = 'Corbel'\n",
    "fonte.size = Pt(18)\n",
    "fonte.color.rgb = RGBColor(0,0,30)"
   ]
  },
  {
   "cell_type": "code",
   "execution_count": 44,
   "metadata": {},
   "outputs": [],
   "source": [
    "paragrafo = documento.add_paragraph()\n",
    "run = paragrafo.add_run('Mas e quanto aos relatórios com padrões de formatação (Identidade Visual)?')\n",
    "paragrafo.paragraph_format.alignment = WD_PARAGRAPH_ALIGNMENT.CENTER"
   ]
  },
  {
   "cell_type": "code",
   "execution_count": 45,
   "metadata": {},
   "outputs": [],
   "source": [
    "estilo = documento.styles.add_style('EstilinhoDesafio', WD_STYLE_TYPE.PARAGRAPH)\n",
    "fonte = estilo.font\n",
    "fonte.name = 'Verdana'\n",
    "fonte.size = Pt(15)\n",
    "fonte.color.rgb = RGBColor(0,0,90)\n",
    "estilo.paragraph_format.alignment = WD_PARAGRAPH_ALIGNMENT.CENTER\n",
    "fonte.bold = True\n",
    "fonte.italic = True"
   ]
  },
  {
   "cell_type": "code",
   "execution_count": 46,
   "metadata": {},
   "outputs": [
    {
     "data": {
      "text/plain": [
       "<docx.text.run.Run at 0x22389e8aa00>"
      ]
     },
     "execution_count": 46,
     "metadata": {},
     "output_type": "execute_result"
    }
   ],
   "source": [
    "paragrafo = documento.add_paragraph()\n",
    "paragrafo.style = documento.styles['EstilinhoDesafio']\n",
    "paragrafo.add_run('Sempre problemas, podemos tirar o nosso próprio estilo facilmente :)')"
   ]
  },
  {
   "cell_type": "code",
   "execution_count": 47,
   "metadata": {},
   "outputs": [
    {
     "data": {
      "text/plain": [
       "<docx.text.paragraph.Paragraph at 0x2238ae86310>"
      ]
     },
     "execution_count": 47,
     "metadata": {},
     "output_type": "execute_result"
    }
   ],
   "source": [
    "documento.add_page_break()"
   ]
  },
  {
   "cell_type": "code",
   "execution_count": 48,
   "metadata": {},
   "outputs": [],
   "source": [
    "pacote_office = [\n",
    "    ['Word', 10],\n",
    "    ['Excel',9],\n",
    "    ['Power Point',9],\n",
    "    ['Access',3],\n",
    "    ['OneNote',3]\n",
    "]"
   ]
  },
  {
   "cell_type": "code",
   "execution_count": 50,
   "metadata": {},
   "outputs": [],
   "source": [
    "tabela = documento.add_table(rows=1, cols=2)\n",
    "titulo_tabela = tabela.rows[0].cells\n",
    "titulo_tabela[0].text = 'Software do Office'\n",
    "titulo_tabela[1].text = 'Prioridade de uso'"
   ]
  },
  {
   "cell_type": "code",
   "execution_count": 51,
   "metadata": {},
   "outputs": [],
   "source": [
    "for nome, prioridade in pacote_office:\n",
    "    nova_linha = tabela.add_row().cells\n",
    "    nova_linha[0].text = nome\n",
    "    nova_linha[1].text = str(prioridade)"
   ]
  },
  {
   "cell_type": "code",
   "execution_count": 52,
   "metadata": {},
   "outputs": [
    {
     "data": {
      "text/plain": [
       "<docx.text.paragraph.Paragraph at 0x22387e696a0>"
      ]
     },
     "execution_count": 52,
     "metadata": {},
     "output_type": "execute_result"
    }
   ],
   "source": [
    "documento.add_page_break()"
   ]
  },
  {
   "cell_type": "code",
   "execution_count": 53,
   "metadata": {},
   "outputs": [
    {
     "data": {
      "text/plain": [
       "<docx.shape.InlineShape at 0x22387e8ad60>"
      ]
     },
     "execution_count": 53,
     "metadata": {},
     "output_type": "execute_result"
    }
   ],
   "source": [
    "documento.add_picture('manutd.png')"
   ]
  },
  {
   "cell_type": "code",
   "execution_count": 54,
   "metadata": {},
   "outputs": [],
   "source": [
    "documento.save('desafio final.docx')"
   ]
  },
  {
   "cell_type": "markdown",
   "metadata": {},
   "source": [
    "## Desafio Final - Código Único"
   ]
  },
  {
   "cell_type": "code",
   "execution_count": 56,
   "metadata": {},
   "outputs": [],
   "source": [
    "# Importando as bibliotecas para serem utilizadas\n",
    "from docx import Document\n",
    "from docx.shared import Pt, RGBColor, Inches\n",
    "from docx.enum.text import WD_PARAGRAPH_ALIGNMENT\n",
    "from docx.enum.style import WD_STYLE_TYPE\n",
    "\n",
    "# Criando um novo documento docx\n",
    "documento = Document()\n",
    "\n",
    "# Adicionando o título e personalizando partes separadas\n",
    "titulo = documento.add_heading(level=0)\n",
    "titulo.add_run('Integrando o ')\n",
    "titulo.add_run('Python ').italic=True\n",
    "titulo.add_run('com o ')\n",
    "titulo.add_run('Word').italic=True\n",
    "\n",
    "# Adicionando um parágrafo\n",
    "documento.add_paragraph('Nós aprendemos:')\n",
    "\n",
    "# Adicionando uma lista de conteúdos aprendidos durante este curso\n",
    "documento.add_paragraph('Inserir Títulos', style='List Number')\n",
    "documento.add_paragraph('Inserir Parágrafos', style='List Number')\n",
    "documento.add_paragraph('Customizar Textos', style='List Number')\n",
    "documento.add_paragraph('Criar Estilos', style='List Number')\n",
    "documento.add_paragraph('Trabalhamos com Imagens', style='List Number')\n",
    "documento.add_paragraph('Trabalhamos com Tabelas', style='List Number')\n",
    "documento.add_paragraph('E muito mais', style='List Number')\n",
    "\n",
    "# adicionando uma nova página em branco\n",
    "documento.add_page_break()\n",
    "\n",
    "# Adicionando textos como referências\n",
    "titulo = documento.add_heading('Caso você tenha alguma dificuldade, ')\n",
    "run_titulo = titulo.add_run('lembre-se sempre:')\n",
    "run_titulo.italic = True\n",
    "run_titulo.bold = True\n",
    "\n",
    "documento.add_paragraph('A prática leva a perfeição, com treino e força de vontade, nada te impedirá!','Quote')\n",
    "documento.add_paragraph('Mas caso tenha alguma dúvida nesse processo, a ByLearn estará sempre aqui :)', 'Intense Quote')\n",
    "\n",
    "# adicionando uma nova página em branco\n",
    "documento.add_page_break()\n",
    "\n",
    "# adicionando texto personalizado\n",
    "paragrafo = documento.add_paragraph('Geralmente usamos o Word para escrever relatórios e muitas vezes é algo padronizado')\n",
    "run = paragrafo.add_run('\\nNesses casos o Python pode te ajudar a automatizar este processo')\n",
    "\n",
    "# setando a personalização do texto\n",
    "fonte = run.font\n",
    "fonte.name = 'Corbel'\n",
    "fonte.size = Pt(18)\n",
    "fonte.color.rgb = RGBColor(0,0,30)\n",
    "\n",
    "# adicionando o título do texto personalizado\n",
    "paragrafo = documento.add_paragraph()\n",
    "run = paragrafo.add_run('Mas e quanto aos relatórios com padrões de formatação (Identidade Visual)?')\n",
    "paragrafo.paragraph_format.alignment = WD_PARAGRAPH_ALIGNMENT.CENTER\n",
    "\n",
    "# adicionando o texto personalizado\n",
    "estilo = documento.styles.add_style('EstilinhoDesafio', WD_STYLE_TYPE.PARAGRAPH)\n",
    "fonte = estilo.font\n",
    "fonte.name = 'Verdana'\n",
    "fonte.size = Pt(15)\n",
    "fonte.color.rgb = RGBColor(0,0,90)\n",
    "estilo.paragraph_format.alignment = WD_PARAGRAPH_ALIGNMENT.JUSTIFY\n",
    "fonte.bold = True\n",
    "fonte.italic = True\n",
    "\n",
    "paragrafo = documento.add_paragraph()\n",
    "paragrafo.style = documento.styles['EstilinhoDesafio']\n",
    "paragrafo.add_run('Sempre problemas, podemos criar o nosso próprio estilo facilmente :)')\n",
    "\n",
    "# adicionando uma nova página em branco\n",
    "documento.add_page_break()\n",
    "\n",
    "# adicionando uma lista para ser adicionada em uma tabela\n",
    "pacote_office = [\n",
    "    ['Word', 10],\n",
    "    ['Excel',9],\n",
    "    ['Power Point',9],\n",
    "    ['Access',3],\n",
    "    ['OneNote',3]\n",
    "]\n",
    "\n",
    "# adicionando a primeira linha da tabela\n",
    "tabela = documento.add_table(rows=1, cols=2)\n",
    "titulo_tabela = tabela.rows[0].cells\n",
    "titulo_tabela[0].text = 'Software do Office'\n",
    "titulo_tabela[1].text = 'Prioridade de uso'\n",
    "\n",
    "# adicionando os dados na tabela através de uma lista\n",
    "for nome, prioridade in pacote_office:\n",
    "    nova_linha = tabela.add_row().cells\n",
    "    nova_linha[0].text = nome\n",
    "    nova_linha[1].text = str(prioridade)\n",
    "\n",
    "# adicionando uma nova página em branco\n",
    "documento.add_page_break()\n",
    "\n",
    "# adicionando uma imagem\n",
    "documento.add_picture('manutd.png', width = Inches(3))\n",
    "\n",
    "# salvando o arquivo\n",
    "documento.save('desafio final.docx')"
   ]
  },
  {
   "cell_type": "code",
   "execution_count": 57,
   "metadata": {},
   "outputs": [
    {
     "data": {
      "text/plain": [
       "['Document',\n",
       " 'ImagePart',\n",
       " 'RT',\n",
       " '__builtins__',\n",
       " '__cached__',\n",
       " '__doc__',\n",
       " '__file__',\n",
       " '__loader__',\n",
       " '__name__',\n",
       " '__package__',\n",
       " '__path__',\n",
       " '__spec__',\n",
       " '__version__',\n",
       " 'api',\n",
       " 'blkcntnr',\n",
       " 'compat',\n",
       " 'dml',\n",
       " 'document',\n",
       " 'enum',\n",
       " 'exceptions',\n",
       " 'image',\n",
       " 'opc',\n",
       " 'oxml',\n",
       " 'package',\n",
       " 'parts',\n",
       " 'section',\n",
       " 'settings',\n",
       " 'shape',\n",
       " 'shared',\n",
       " 'styles',\n",
       " 'table',\n",
       " 'text']"
      ]
     },
     "execution_count": 57,
     "metadata": {},
     "output_type": "execute_result"
    }
   ],
   "source": [
    "dir(docx)"
   ]
  },
  {
   "cell_type": "markdown",
   "metadata": {},
   "source": [
    "# Trabalhando com arquivos existentes\n",
    "## Ler um arquivo"
   ]
  },
  {
   "cell_type": "code",
   "execution_count": 58,
   "metadata": {},
   "outputs": [],
   "source": [
    "from docx import Document\n",
    "documento = Document('desafio final.docx')"
   ]
  },
  {
   "cell_type": "markdown",
   "metadata": {},
   "source": [
    "## Lendo os parágrafos"
   ]
  },
  {
   "cell_type": "code",
   "execution_count": 59,
   "metadata": {},
   "outputs": [
    {
     "name": "stdout",
     "output_type": "stream",
     "text": [
      "Integrando o Python com o Word\n",
      "Nós aprendemos:\n",
      "Inserir Títulos\n",
      "Inserir Parágrafos\n",
      "Customizar Textos\n",
      "Criar Estilos\n",
      "Trabalhamos com Imagens\n",
      "Trabalhamos com Tabelas\n",
      "E muito mais\n",
      "\n",
      "\n",
      "Caso você tenha alguma dificuldade, lembre-se sempre:\n",
      "A prática leva a perfeição, com treino e força de vontade, nada te impedirá!\n",
      "Mas caso tenha alguma dúvida nesse processo, a ByLearn estará sempre aqui :)\n",
      "\n",
      "\n",
      "Geralmente usamos o Word para escrever relatórios e muitas vezes é algo padronizado\n",
      "Nesses casos o Python pode te ajudar a automatizar este processo\n",
      "Mas e quanto aos relatórios com padrões de formatação (Identidade Visual)?\n",
      "Sempre problemas, podemos criar o nosso próprio estilo facilmente :)\n",
      "\n",
      "\n",
      "\n",
      "\n",
      "\n"
     ]
    }
   ],
   "source": [
    "for paragrafo in documento.paragraphs:\n",
    "    print(paragrafo.text)"
   ]
  },
  {
   "cell_type": "markdown",
   "metadata": {},
   "source": [
    "Podemos também recuperar parágrafos dependendo do estilo dele.\n",
    "\n",
    "O python-docx salva todos os estilos lidos"
   ]
  },
  {
   "cell_type": "code",
   "execution_count": 60,
   "metadata": {},
   "outputs": [
    {
     "name": "stdout",
     "output_type": "stream",
     "text": [
      "\n",
      "O parágrafo abaixo está em negrito:\n",
      "Caso você tenha alguma dificuldade, lembre-se sempre:\n",
      "\n",
      "O parágrafo abaixo está em negrito:\n",
      "Mas caso tenha alguma dúvida nesse processo, a ByLearn estará sempre aqui :)\n",
      "\n",
      "O parágrafo abaixo está em negrito:\n",
      "Sempre problemas, podemos criar o nosso próprio estilo facilmente :)\n"
     ]
    }
   ],
   "source": [
    "for paragrafo in documento.paragraphs:\n",
    "    if paragrafo.style.font.bold:\n",
    "        print('\\nO parágrafo abaixo está em negrito:')\n",
    "        print(paragrafo.text)"
   ]
  },
  {
   "cell_type": "markdown",
   "metadata": {},
   "source": [
    "### Lendo as tabelas"
   ]
  },
  {
   "cell_type": "code",
   "execution_count": 67,
   "metadata": {},
   "outputs": [],
   "source": [
    "dados_tabela = []\n",
    "\n",
    "for tabelas in documento.tables:\n",
    "    for i, linha in enumerate(tabelas.rows):\n",
    "        texto = (cell.text for cell in linha.cells)\n",
    "        \n",
    "        if i == 0:\n",
    "            chaves = tuple(texto)\n",
    "            continue\n",
    "            \n",
    "        linha_dict = dict(zip(chaves,texto))\n",
    "        dados_tabela.append(linha_dict)"
   ]
  },
  {
   "cell_type": "code",
   "execution_count": 68,
   "metadata": {},
   "outputs": [
    {
     "name": "stdout",
     "output_type": "stream",
     "text": [
      "[{'Software do Office': 'Word', 'Prioridade de uso': '10'}, {'Software do Office': 'Excel', 'Prioridade de uso': '9'}, {'Software do Office': 'Power Point', 'Prioridade de uso': '9'}, {'Software do Office': 'Access', 'Prioridade de uso': '3'}, {'Software do Office': 'OneNote', 'Prioridade de uso': '3'}]\n"
     ]
    }
   ],
   "source": [
    "print(dados_tabela)"
   ]
  },
  {
   "cell_type": "code",
   "execution_count": 69,
   "metadata": {},
   "outputs": [
    {
     "name": "stdout",
     "output_type": "stream",
     "text": [
      "{'Software do Office': 'Word', 'Prioridade de uso': '10'}\n"
     ]
    }
   ],
   "source": [
    "print(dados_tabela[0])"
   ]
  },
  {
   "cell_type": "markdown",
   "metadata": {},
   "source": [
    "## Lendo as imagens"
   ]
  },
  {
   "cell_type": "code",
   "execution_count": 70,
   "metadata": {},
   "outputs": [
    {
     "name": "stdout",
     "output_type": "stream",
     "text": [
      "Nome do arquivo: manutd.png\n",
      "Tamanho (em centímetros): 7.62 x 7.62\n"
     ]
    }
   ],
   "source": [
    "for imagem in documento.inline_shapes:\n",
    "    print('Nome do arquivo:',imagem._inline.graphic.graphicData.pic.nvPicPr.cNvPr.name)\n",
    "    print('Tamanho (em centímetros):',imagem.height.cm,'x', imagem.width.cm)"
   ]
  },
  {
   "cell_type": "markdown",
   "metadata": {},
   "source": [
    "# Documentação oficial do docx\n",
    "\n",
    "link: https://python-docx.readthedocs.io/en/latest/"
   ]
  },
  {
   "cell_type": "code",
   "execution_count": null,
   "metadata": {},
   "outputs": [],
   "source": []
  }
 ],
 "metadata": {
  "kernelspec": {
   "display_name": "Python 3",
   "language": "python",
   "name": "python3"
  },
  "language_info": {
   "codemirror_mode": {
    "name": "ipython",
    "version": 3
   },
   "file_extension": ".py",
   "mimetype": "text/x-python",
   "name": "python",
   "nbconvert_exporter": "python",
   "pygments_lexer": "ipython3",
   "version": "3.8.5"
  }
 },
 "nbformat": 4,
 "nbformat_minor": 4
}
