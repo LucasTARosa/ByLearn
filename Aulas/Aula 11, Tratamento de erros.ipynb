{
 "cells": [
  {
   "cell_type": "markdown",
   "metadata": {},
   "source": [
    "# Tratamento de Erros e Exceções\n",
    "Segundo a documentação do Python, há pelo menos dois tipos distintos de erros: Erros de sintaxe e exceções.  \n",
    "\n",
    "\n",
    "Os erros de sintaxe apontam para a linha de nosso script e, normalmente são fáceis de corrigir, veja um exemplo abaixo. Neste erro esquecemos de finalizar a string com o sinal de aspas."
   ]
  },
  {
   "cell_type": "code",
   "execution_count": 1,
   "metadata": {},
   "outputs": [
    {
     "ename": "SyntaxError",
     "evalue": "EOL while scanning string literal (<ipython-input-1-f1719531684e>, line 1)",
     "output_type": "error",
     "traceback": [
      "\u001b[1;36m  File \u001b[1;32m\"<ipython-input-1-f1719531684e>\"\u001b[1;36m, line \u001b[1;32m1\u001b[0m\n\u001b[1;33m    print('Esqueci o sinal de aspas)\u001b[0m\n\u001b[1;37m                                    ^\u001b[0m\n\u001b[1;31mSyntaxError\u001b[0m\u001b[1;31m:\u001b[0m EOL while scanning string literal\n"
     ]
    }
   ],
   "source": [
    "# Erro => Ocasionado pelo programador -> Código não compila por erro nosso na hora de programar\n",
    "print('Esqueci o sinal de aspas)"
   ]
  },
  {
   "cell_type": "markdown",
   "metadata": {},
   "source": [
    "Por outro lado, mesmo que seu código esteja sintaticamente correto, é possível ocorrer um erro em tempo de execução. Também denominadas simplesmente por exceções.  \n",
    "\n",
    "O tratamento dessas exceções devem nos auxiliar a entender e depurar o código.  \n",
    "\n",
    "Veja abaixo um exemplo de exceção não tratada"
   ]
  },
  {
   "cell_type": "code",
   "execution_count": 3,
   "metadata": {},
   "outputs": [
    {
     "ename": "ZeroDivisionError",
     "evalue": "division by zero",
     "output_type": "error",
     "traceback": [
      "\u001b[1;31m---------------------------------------------------------------------------\u001b[0m",
      "\u001b[1;31mZeroDivisionError\u001b[0m                         Traceback (most recent call last)",
      "\u001b[1;32m<ipython-input-3-267783c7a9b7>\u001b[0m in \u001b[0;36m<module>\u001b[1;34m\u001b[0m\n\u001b[0;32m      6\u001b[0m     \u001b[1;32mreturn\u001b[0m \u001b[0mnumero1\u001b[0m \u001b[1;33m/\u001b[0m \u001b[0mnumero2\u001b[0m\u001b[1;33m\u001b[0m\u001b[1;33m\u001b[0m\u001b[0m\n\u001b[0;32m      7\u001b[0m \u001b[1;33m\u001b[0m\u001b[0m\n\u001b[1;32m----> 8\u001b[1;33m \u001b[0mdivisao\u001b[0m\u001b[1;33m(\u001b[0m\u001b[1;33m)\u001b[0m\u001b[1;33m\u001b[0m\u001b[1;33m\u001b[0m\u001b[0m\n\u001b[0m",
      "\u001b[1;32m<ipython-input-3-267783c7a9b7>\u001b[0m in \u001b[0;36mdivisao\u001b[1;34m()\u001b[0m\n\u001b[0;32m      4\u001b[0m \u001b[1;33m\u001b[0m\u001b[0m\n\u001b[0;32m      5\u001b[0m \u001b[1;32mdef\u001b[0m \u001b[0mdivisao\u001b[0m\u001b[1;33m(\u001b[0m\u001b[1;33m)\u001b[0m\u001b[1;33m:\u001b[0m\u001b[1;33m\u001b[0m\u001b[1;33m\u001b[0m\u001b[0m\n\u001b[1;32m----> 6\u001b[1;33m     \u001b[1;32mreturn\u001b[0m \u001b[0mnumero1\u001b[0m \u001b[1;33m/\u001b[0m \u001b[0mnumero2\u001b[0m\u001b[1;33m\u001b[0m\u001b[1;33m\u001b[0m\u001b[0m\n\u001b[0m\u001b[0;32m      7\u001b[0m \u001b[1;33m\u001b[0m\u001b[0m\n\u001b[0;32m      8\u001b[0m \u001b[0mdivisao\u001b[0m\u001b[1;33m(\u001b[0m\u001b[1;33m)\u001b[0m\u001b[1;33m\u001b[0m\u001b[1;33m\u001b[0m\u001b[0m\n",
      "\u001b[1;31mZeroDivisionError\u001b[0m: division by zero"
     ]
    }
   ],
   "source": [
    "# Exceção -> 'não dava' para prever -> Foi algo acidental -> Foi algo intencional -> Sintaxe 'correta'\n",
    "numero1 = 1 # input\n",
    "numero2 = 0 # input\n",
    "\n",
    "def divisao():\n",
    "    return numero1 / numero2\n",
    "\n",
    "divisao()"
   ]
  },
  {
   "cell_type": "markdown",
   "metadata": {},
   "source": [
    "Para evitar exceções, nós podemos realizar tratamentos prévios.  \n",
    "\n",
    "Sendo assim, tentamos prever o erro e evitar que ele ocorra, ou ao menos avisar ao usuário sobre o erro."
   ]
  },
  {
   "cell_type": "markdown",
   "metadata": {},
   "source": [
    "Para isso usaremos **try** e **except**, onde:  \n",
    "**try:** tentar executar uma ação  \n",
    "**except:** caso der erro, entra no except"
   ]
  },
  {
   "cell_type": "code",
   "execution_count": 4,
   "metadata": {},
   "outputs": [
    {
     "name": "stdout",
     "output_type": "stream",
     "text": [
      "Por favor, não divida por zero\n"
     ]
    }
   ],
   "source": [
    "try: # tentar\n",
    "    print(1/0)\n",
    "except: # deu erro -> deu ruim\n",
    "    print('Por favor, não divida por zero')"
   ]
  },
  {
   "cell_type": "markdown",
   "metadata": {},
   "source": [
    "Para executar apenas se não der erro, podemos colocar o bloco **else**  \n",
    "**Else** só entrará caso não entrar no **except** "
   ]
  },
  {
   "cell_type": "code",
   "execution_count": 6,
   "metadata": {},
   "outputs": [
    {
     "name": "stdout",
     "output_type": "stream",
     "text": [
      "Por favor, não divida por zero\n"
     ]
    }
   ],
   "source": [
    "try: # tentar\n",
    "    print(1/0)\n",
    "except ZeroDivisionError: # deu erro -> deu ruim\n",
    "    print('Por favor, não divida por zero')\n",
    "except:\n",
    "    print('Alguma outra coisa deu errada')"
   ]
  },
  {
   "cell_type": "code",
   "execution_count": 11,
   "metadata": {},
   "outputs": [
    {
     "name": "stdout",
     "output_type": "stream",
     "text": [
      "Número: a\n",
      "Coloque apenas números\n",
      "10\n"
     ]
    }
   ],
   "source": [
    "try:\n",
    "    n = int(input('Número: '))\n",
    "except ValueError:\n",
    "    print('Coloque apenas números')\n",
    "print(n)"
   ]
  },
  {
   "cell_type": "code",
   "execution_count": 16,
   "metadata": {},
   "outputs": [
    {
     "name": "stdout",
     "output_type": "stream",
     "text": [
      "Número: True\n",
      "Coloque apenas números inteiros\n"
     ]
    }
   ],
   "source": [
    "try:\n",
    "    n = int(input('Número: '))\n",
    "except ValueError:\n",
    "    print('Coloque apenas números inteiros')\n",
    "else:\n",
    "    print(n)"
   ]
  },
  {
   "cell_type": "markdown",
   "metadata": {},
   "source": [
    "**Podemos tratar mais de uma exceção ao mesmo tempo!**"
   ]
  },
  {
   "cell_type": "code",
   "execution_count": 19,
   "metadata": {},
   "outputs": [
    {
     "name": "stdout",
     "output_type": "stream",
     "text": [
      "Número: 5\n",
      "Número: 5\n",
      "1.0\n"
     ]
    }
   ],
   "source": [
    "try:\n",
    "    n = int(input('Número: '))\n",
    "    m = int(input('Número: '))\n",
    "    x = n / m\n",
    "except ZeroDivisionError:\n",
    "    print('Não divida por zero')\n",
    "except ValueError:\n",
    "    print('Insira apenas números inteiros')\n",
    "else:\n",
    "    print(x)"
   ]
  },
  {
   "cell_type": "code",
   "execution_count": 20,
   "metadata": {},
   "outputs": [
    {
     "name": "stdout",
     "output_type": "stream",
     "text": [
      "Número: 5\n",
      "Número: 0\n",
      "Erro: Coloque números inteiros diferentes de zero\n"
     ]
    }
   ],
   "source": [
    "try:\n",
    "    n = int(input('Número: '))\n",
    "    m = int(input('Número: '))\n",
    "    x = n / m\n",
    "except (ZeroDivisionError, ValueError):\n",
    "    print('Erro: Coloque números inteiros diferentes de zero')\n",
    "else:\n",
    "    print(x)"
   ]
  },
  {
   "cell_type": "markdown",
   "metadata": {},
   "source": [
    "O **finally** sempre executa no final do tratamento, tenha ele dado erro ou não"
   ]
  },
  {
   "cell_type": "code",
   "execution_count": 21,
   "metadata": {},
   "outputs": [
    {
     "name": "stdout",
     "output_type": "stream",
     "text": [
      "Número: 129\n",
      "Número: 3\n",
      "43.0\n",
      "Ufa, finalmente eu terminei esta operação\n"
     ]
    }
   ],
   "source": [
    "try:\n",
    "    n = int(input('Número: '))\n",
    "    m = int(input('Número: '))\n",
    "    x = n / m\n",
    "except (ZeroDivisionError, ValueError):\n",
    "    print('Erro: Coloque números inteiros diferentes de zero')\n",
    "else:\n",
    "    print(x)\n",
    "finally:\n",
    "    print('Ufa, finalmente eu terminei esta operação')"
   ]
  },
  {
   "cell_type": "markdown",
   "metadata": {},
   "source": [
    "## Desafios do Try/Except\n",
    "### Desafio de arrumar a calculadora"
   ]
  },
  {
   "cell_type": "code",
   "execution_count": 29,
   "metadata": {},
   "outputs": [],
   "source": [
    "class calculator(object):\n",
    "    def somar(self, primeiro_valor, segundo_valor):\n",
    "        return primeiro_valor + segundo_valor\n",
    "    \n",
    "    def subtrair(self, primeiro_valor, segundo_valor):\n",
    "        return primeiro_valor - segundo_valor\n",
    "    \n",
    "    def multiplicar(self, primeiro_valor, segundo_valor):\n",
    "        return primeiro_valor * segundo_valor\n",
    "    \n",
    "    def dividir(self, primeiro_valor, segundo_valor):\n",
    "        try:\n",
    "            return primeiro_valor / segundo_valor\n",
    "        except ZeroDivisionError:\n",
    "            print('Não é possível dividir por zero')"
   ]
  },
  {
   "cell_type": "code",
   "execution_count": 30,
   "metadata": {},
   "outputs": [],
   "source": [
    "calc = calculator()"
   ]
  },
  {
   "cell_type": "code",
   "execution_count": 31,
   "metadata": {},
   "outputs": [
    {
     "name": "stdout",
     "output_type": "stream",
     "text": [
      "Não é possível dividir por zero\n"
     ]
    }
   ],
   "source": [
    "calc.dividir(5,0)"
   ]
  },
  {
   "cell_type": "markdown",
   "metadata": {},
   "source": [
    "### Desafio de arrumar a classe alunos"
   ]
  },
  {
   "cell_type": "code",
   "execution_count": 53,
   "metadata": {},
   "outputs": [],
   "source": [
    "class alunos(object):\n",
    "    \n",
    "    def __init__(self):\n",
    "        self.nome = input('Insira o nome do aluno: ')\n",
    "        print(f'O nome do aluno é {self.nome}')\n",
    "    \n",
    "    def inserir_notas(self):\n",
    "        self.nota1 = float(input(f'Insira a nota da p1 do aluno {self.nome}: '))\n",
    "        self.nota2 = float(input(f'Insira a nota da p2 do aluno {self.nome}: '))\n",
    "        \n",
    "    def calcular_media(self):\n",
    "        try:\n",
    "            self.media = (self.nota1 + self.nota2) / 2\n",
    "            print(f'A média do aluno {self.nome} é {self.media}')\n",
    "            if self.media >= 6:\n",
    "                self.status = True\n",
    "            else:\n",
    "                self.status = False\n",
    "        except AttributeError:\n",
    "            print(f'Você ainda não inseriu as notas do aluno {self.nome}, utilize a função inserir_notas()')\n",
    "    \n",
    "    def mostrar_informacoes(self):\n",
    "        try:\n",
    "            if self.status:\n",
    "                  print(f'O aluno {self.nome} teve a média {self.media}, portanto ele está aprovado. \\nParabéns!!!')\n",
    "            else:\n",
    "                  print(f'O aluno {self.nome} teve a média {self.media}, portanto ele está reprovado. \\nTente novamente no próximo semestre')\n",
    "        except:\n",
    "            print('Desculpe, ainda não pude calcular a média, utilize a função calcular_media()')"
   ]
  },
  {
   "cell_type": "code",
   "execution_count": 54,
   "metadata": {},
   "outputs": [
    {
     "name": "stdout",
     "output_type": "stream",
     "text": [
      "Insira o nome do aluno: Guilherme\n",
      "O nome do aluno é Guilherme\n"
     ]
    }
   ],
   "source": [
    "aluno1 = alunos()"
   ]
  },
  {
   "cell_type": "code",
   "execution_count": 35,
   "metadata": {},
   "outputs": [
    {
     "name": "stdout",
     "output_type": "stream",
     "text": [
      "Insira a nota da p1 do aluno João: 8\n",
      "Insira a nota da p2 do aluno João: 7.5\n"
     ]
    }
   ],
   "source": [
    "aluno1.inserir_notas()"
   ]
  },
  {
   "cell_type": "code",
   "execution_count": 55,
   "metadata": {},
   "outputs": [
    {
     "name": "stdout",
     "output_type": "stream",
     "text": [
      "Você ainda não inseriu as notas do aluno Guilherme, utilize a função inserir_notas()\n"
     ]
    }
   ],
   "source": [
    "aluno1.calcular_media()"
   ]
  },
  {
   "cell_type": "code",
   "execution_count": 56,
   "metadata": {},
   "outputs": [
    {
     "name": "stdout",
     "output_type": "stream",
     "text": [
      "Desculpe, ainda não pude calcular a média, utilize a função calcular_media()\n"
     ]
    }
   ],
   "source": [
    "aluno1.mostrar_informacoes()"
   ]
  },
  {
   "cell_type": "code",
   "execution_count": null,
   "metadata": {},
   "outputs": [],
   "source": []
  },
  {
   "cell_type": "code",
   "execution_count": null,
   "metadata": {},
   "outputs": [],
   "source": []
  }
 ],
 "metadata": {
  "kernelspec": {
   "display_name": "Python 3",
   "language": "python",
   "name": "python3"
  },
  "language_info": {
   "codemirror_mode": {
    "name": "ipython",
    "version": 3
   },
   "file_extension": ".py",
   "mimetype": "text/x-python",
   "name": "python",
   "nbconvert_exporter": "python",
   "pygments_lexer": "ipython3",
   "version": "3.8.5"
  }
 },
 "nbformat": 4,
 "nbformat_minor": 4
}
