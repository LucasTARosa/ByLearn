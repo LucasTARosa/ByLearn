{
 "cells": [
  {
   "cell_type": "markdown",
   "metadata": {},
   "source": [
    "\"Na computação tudo é zero ou um\" - Qualquer um sobre computação  \n",
    "Tipo de dado mais simples é o booleano -> Tipo Lógico;  \n",
    "Booleano aceitam apenas dois valores (True/False) (0/1) (Sim/Não)  \n",
    "Em eletrônica usamos lâmpada -> acesa (verdadeiro/1/sim) ou Apagada (falso/0/não)  "
   ]
  },
  {
   "cell_type": "code",
   "execution_count": 1,
   "metadata": {},
   "outputs": [
    {
     "name": "stdout",
     "output_type": "stream",
     "text": [
      "<class 'bool'>\n"
     ]
    }
   ],
   "source": [
    "boolean = True\n",
    "print(type(boolean))"
   ]
  },
  {
   "cell_type": "code",
   "execution_count": 2,
   "metadata": {},
   "outputs": [
    {
     "data": {
      "text/plain": [
       "True"
      ]
     },
     "execution_count": 2,
     "metadata": {},
     "output_type": "execute_result"
    }
   ],
   "source": [
    "boolean"
   ]
  },
  {
   "cell_type": "code",
   "execution_count": 3,
   "metadata": {},
   "outputs": [
    {
     "name": "stdout",
     "output_type": "stream",
     "text": [
      "<class 'bool'>\n"
     ]
    },
    {
     "data": {
      "text/plain": [
       "False"
      ]
     },
     "execution_count": 3,
     "metadata": {},
     "output_type": "execute_result"
    }
   ],
   "source": [
    "boolean = False\n",
    "print(type(boolean))\n",
    "boolean"
   ]
  },
  {
   "cell_type": "code",
   "execution_count": 4,
   "metadata": {},
   "outputs": [
    {
     "name": "stdout",
     "output_type": "stream",
     "text": [
      "2\n"
     ]
    }
   ],
   "source": [
    "boolean = True\n",
    "numero = 1\n",
    "soma = numero + boolean\n",
    "print(soma)"
   ]
  },
  {
   "cell_type": "code",
   "execution_count": 5,
   "metadata": {},
   "outputs": [],
   "source": [
    "# Se (portugues) => if (inglês)\n",
    "# se não (português) => else (inglês)"
   ]
  },
  {
   "cell_type": "markdown",
   "metadata": {},
   "source": [
    "# If e Else\n",
    "O IF é uma estrutura de condição => avalia se uma expressão ou condição é verdadeira.  \n",
    "Se for (verdadeira) ele executa aquela execução própria dele.  \n",
    "Caso não for, ele executa a execução do **else** (caso não exista)."
   ]
  },
  {
   "cell_type": "code",
   "execution_count": 6,
   "metadata": {},
   "outputs": [
    {
     "name": "stdout",
     "output_type": "stream",
     "text": [
      "A lógica é verdadeira\n"
     ]
    }
   ],
   "source": [
    "logica = True\n",
    "\n",
    "if True: # não estamos trabalhando com a variável\n",
    "    print('A lógica é verdadeira')"
   ]
  },
  {
   "cell_type": "code",
   "execution_count": 7,
   "metadata": {},
   "outputs": [
    {
     "name": "stdout",
     "output_type": "stream",
     "text": [
      "A lógica é verdadeira\n"
     ]
    }
   ],
   "source": [
    "logica = False\n",
    "\n",
    "if True: # não estamos trabalhando com a variável\n",
    "    print('A lógica é verdadeira')"
   ]
  },
  {
   "cell_type": "code",
   "execution_count": 8,
   "metadata": {},
   "outputs": [
    {
     "name": "stdout",
     "output_type": "stream",
     "text": [
      "A lógica não é verdadeira\n"
     ]
    }
   ],
   "source": [
    "logica = False\n",
    "\n",
    "if logica:\n",
    "    print('A lógica é verdadeira')\n",
    "else:\n",
    "    print('A lógica não é verdadeira')"
   ]
  },
  {
   "cell_type": "code",
   "execution_count": 9,
   "metadata": {},
   "outputs": [
    {
     "name": "stdout",
     "output_type": "stream",
     "text": [
      "A lógica é verdadeira\n"
     ]
    }
   ],
   "source": [
    "logica = True\n",
    "\n",
    "if logica:\n",
    "    print('A lógica é verdadeira')\n",
    "else:\n",
    "    print('A lógica não é verdadeira')"
   ]
  },
  {
   "cell_type": "markdown",
   "metadata": {},
   "source": [
    "**Cuidado: as execuções de if/else devem estar dentro do seu escopo**"
   ]
  },
  {
   "cell_type": "code",
   "execution_count": 10,
   "metadata": {},
   "outputs": [
    {
     "name": "stdout",
     "output_type": "stream",
     "text": [
      "A lógica é verdadeira\n",
      "A lógica não é verdadeira\n"
     ]
    }
   ],
   "source": [
    "logica = True\n",
    "\n",
    "if logica:\n",
    "    print('A lógica é verdadeira')\n",
    "\n",
    "print('A lógica não é verdadeira') # não está mais do \"interesse\" (controle) do if"
   ]
  },
  {
   "cell_type": "markdown",
   "metadata": {},
   "source": [
    "## If e Else para diferente de True/False (booleanos)"
   ]
  },
  {
   "cell_type": "code",
   "execution_count": 13,
   "metadata": {},
   "outputs": [
    {
     "name": "stdout",
     "output_type": "stream",
     "text": [
      "Digite a sua primeira nota: 8\n",
      "Digite a sua segunda nota: 10\n",
      "Parabéns, você passou de ano!\n"
     ]
    }
   ],
   "source": [
    "def main():\n",
    "    nota1 = int(input('Digite a sua primeira nota: '))\n",
    "    nota2 = int(input('Digite a sua segunda nota: '))\n",
    "    \n",
    "    # Sendo a média da escola 6\n",
    "    # Para passar de ano preciso ter uma nota maior ou igual a 6\n",
    "    \n",
    "    media = (nota1 + nota2) / 2\n",
    "    \n",
    "    if media >= 6:\n",
    "        print('Parabéns, você passou de ano!')\n",
    "    else:\n",
    "        print('Você não passou de ano')\n",
    "    \n",
    "main()"
   ]
  },
  {
   "cell_type": "markdown",
   "metadata": {},
   "source": [
    "## Desafio 4.1 - Número mágico\n",
    "\n",
    "Um mágico pede para alguem da plateia pensar num número de um a cinco.  \n",
    "Você escolhe (define) o número.  \n",
    "Você pedirá para o mágico escolher o número que você pensou (input).  \n",
    "\n",
    "Se o valor do mágico for menor que o seu número, você irá dizer para o mágico aumentar o valor do chute.  \n",
    "Se o valor do mágico for maior que o seu número, você irá dizer para o mágico diminuir o valor do chute.  \n",
    "Se o valor do mágico for igual ao seu número, você irá dizer para o mágico que ele acertou."
   ]
  },
  {
   "cell_type": "code",
   "execution_count": 16,
   "metadata": {},
   "outputs": [
    {
     "name": "stdout",
     "output_type": "stream",
     "text": [
      "Mágico, diga o seu número: 4\n",
      "Parabéns, você acertou o número que imaginei\n"
     ]
    }
   ],
   "source": [
    "def main():\n",
    "    numero = int(input('Mágico, diga o seu número: '))\n",
    "    numero_escolhido = 4\n",
    "    \n",
    "    if numero < numero_escolhido:\n",
    "        print('Você chutou muito baixo')\n",
    "    elif numero == numero_escolhido:\n",
    "        print('Parabéns, você acertou o número que imaginei')\n",
    "    else:\n",
    "        print('Você chutou muito alto')\n",
    "main()"
   ]
  },
  {
   "cell_type": "markdown",
   "metadata": {},
   "source": [
    "## \"Checagens\" (operadores lógicos)\n",
    "**>**  -> maior que  \n",
    "**<**  -> menor que  \n",
    "**>=** -> maior ou igual a  \n",
    "**<=** -> menor ou igual a  \n",
    "**==** -> igual a  \n",
    "**!=** -> diferente que  "
   ]
  },
  {
   "cell_type": "code",
   "execution_count": 20,
   "metadata": {},
   "outputs": [
    {
     "name": "stdout",
     "output_type": "stream",
     "text": [
      "Os números são diferentes\n"
     ]
    }
   ],
   "source": [
    "def main():\n",
    "    numero1 = 2\n",
    "    numero2 = 3\n",
    "    \n",
    "    if numero1 != numero2:\n",
    "        print('Os números são diferentes')\n",
    "    else:\n",
    "        print('Os números são iguais')\n",
    "main()"
   ]
  },
  {
   "cell_type": "markdown",
   "metadata": {},
   "source": [
    "Apenas **uma** execução pode ser feita por bloco de condição (apenas o primeiro IF verdadeiro)"
   ]
  },
  {
   "cell_type": "code",
   "execution_count": 22,
   "metadata": {},
   "outputs": [
    {
     "name": "stdout",
     "output_type": "stream",
     "text": [
      "Felipe\n"
     ]
    }
   ],
   "source": [
    "def main():\n",
    "    char = 'f'\n",
    "    char2 = 'b'\n",
    "    \n",
    "    # Início do bloco\n",
    "    if char == 'f':\n",
    "        print('Felipe')\n",
    "    elif char2 == 'b':\n",
    "        print('ByLearn')\n",
    "    else:\n",
    "        print('Python')\n",
    "    # Final do bloco\n",
    "        \n",
    "main()"
   ]
  },
  {
   "cell_type": "markdown",
   "metadata": {},
   "source": [
    "## Para ter mais de uma condição, usamos AND para que todas sejam verdade\n",
    "## Para ter ao menos uma condição verdadeira, utilizamos o OR"
   ]
  },
  {
   "cell_type": "code",
   "execution_count": 27,
   "metadata": {},
   "outputs": [
    {
     "name": "stdout",
     "output_type": "stream",
     "text": [
      "Python\n"
     ]
    }
   ],
   "source": [
    "def main():\n",
    "    char1 = 'g'\n",
    "    char2 = 'g'\n",
    "    \n",
    "    # Se 1 for F -> Felipe\n",
    "    # Se 2 for B -> ByLearn\n",
    "    # Se nenhum dos dois -> Python\n",
    "    # Se 1 e 2 -> Felipe e ByLearn\n",
    "    \n",
    "    if char1 == 'f' and char2 == 'b':\n",
    "        print('Felipe e ByLearn')\n",
    "    elif char1 == 'f':\n",
    "        print('Felipe')\n",
    "    elif char2 == 'b':\n",
    "        print('ByLearn')\n",
    "    else:\n",
    "        print('Python')\n",
    "    \n",
    "    \n",
    "main ()"
   ]
  },
  {
   "cell_type": "code",
   "execution_count": 28,
   "metadata": {},
   "outputs": [
    {
     "name": "stdout",
     "output_type": "stream",
     "text": [
      "Você acertou em pelo menos um dos chutes\n"
     ]
    }
   ],
   "source": [
    "def main():\n",
    "    numero1 = 2\n",
    "    numero2 = 3\n",
    "    numero3 = 5\n",
    "    \n",
    "    numero_escolhido = 3\n",
    "    \n",
    "    if (numero1 == 3) or (numero2 == 3) or (numero5 == 3):\n",
    "        print('Você acertou em pelo menos um dos chutes')\n",
    "    else:\n",
    "        print('Você errou todos os chutes')\n",
    "        \n",
    "main()"
   ]
  },
  {
   "cell_type": "code",
   "execution_count": 29,
   "metadata": {},
   "outputs": [
    {
     "name": "stdout",
     "output_type": "stream",
     "text": [
      "Uma delas é verdadeira\n"
     ]
    }
   ],
   "source": [
    "def main():\n",
    "    cond1 = False\n",
    "    cond2 = True\n",
    "    \n",
    "    if cond1 and cond2:\n",
    "        print('Todas são verdadeiras')\n",
    "    elif cond1 or cond2:\n",
    "        print('Uma delas é verdadeira')\n",
    "    else:\n",
    "        print('Ambas são falsas')\n",
    "\n",
    "main()"
   ]
  },
  {
   "cell_type": "code",
   "execution_count": 30,
   "metadata": {},
   "outputs": [
    {
     "name": "stdout",
     "output_type": "stream",
     "text": [
      "Todas são verdadeiras\n"
     ]
    }
   ],
   "source": [
    "def main():\n",
    "    cond1 = True\n",
    "    cond2 = True\n",
    "    \n",
    "    if cond1 and cond2:\n",
    "        print('Todas são verdadeiras')\n",
    "    elif cond1 or cond2:\n",
    "        print('Uma delas é verdadeira')\n",
    "    else:\n",
    "        print('Ambas são falsas')\n",
    "\n",
    "main()"
   ]
  },
  {
   "cell_type": "code",
   "execution_count": null,
   "metadata": {},
   "outputs": [],
   "source": []
  }
 ],
 "metadata": {
  "kernelspec": {
   "display_name": "Python 3",
   "language": "python",
   "name": "python3"
  },
  "language_info": {
   "codemirror_mode": {
    "name": "ipython",
    "version": 3
   },
   "file_extension": ".py",
   "mimetype": "text/x-python",
   "name": "python",
   "nbconvert_exporter": "python",
   "pygments_lexer": "ipython3",
   "version": "3.8.5"
  }
 },
 "nbformat": 4,
 "nbformat_minor": 4
}
