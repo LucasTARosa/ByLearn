{
 "cells": [
  {
   "cell_type": "markdown",
   "id": "8a8c5c99",
   "metadata": {},
   "source": [
    "# Interagindo com o Excel utilizando Python"
   ]
  },
  {
   "cell_type": "code",
   "execution_count": 1,
   "id": "57d9c824",
   "metadata": {},
   "outputs": [
    {
     "name": "stdout",
     "output_type": "stream",
     "text": [
      "Requirement already satisfied: openpyxl in c:\\programdata\\anaconda3\\lib\\site-packages (3.0.7)\n",
      "Requirement already satisfied: et-xmlfile in c:\\programdata\\anaconda3\\lib\\site-packages (from openpyxl) (1.0.1)\n"
     ]
    }
   ],
   "source": [
    "!pip install openpyxl"
   ]
  },
  {
   "cell_type": "markdown",
   "id": "792a7906",
   "metadata": {},
   "source": [
    "Workbook => pasta de trabalho  \n",
    "Worksheet => planilha  \n",
    "\n",
    "Vamos criar:  \n",
    "Workbook => Relatório Anual  \n",
    "Worksheet => meses (janeiro, fevereiro..)  \n",
    "\n",
    "wb (Relatório anual):  \n",
    "- ws (janeiro)  \n",
    "- ws (fevereiro)  \n",
    "- ws (março)  "
   ]
  },
  {
   "cell_type": "code",
   "execution_count": 2,
   "id": "a79e9875",
   "metadata": {},
   "outputs": [],
   "source": [
    "from openpyxl import Workbook"
   ]
  },
  {
   "cell_type": "code",
   "execution_count": 3,
   "id": "24018dde",
   "metadata": {},
   "outputs": [],
   "source": [
    "pasta = Workbook()"
   ]
  },
  {
   "cell_type": "code",
   "execution_count": 4,
   "id": "520ee119",
   "metadata": {},
   "outputs": [
    {
     "data": {
      "text/plain": [
       "openpyxl.workbook.workbook.Workbook"
      ]
     },
     "execution_count": 4,
     "metadata": {},
     "output_type": "execute_result"
    }
   ],
   "source": [
    "type(pasta)"
   ]
  },
  {
   "cell_type": "code",
   "execution_count": 5,
   "id": "13664827",
   "metadata": {},
   "outputs": [],
   "source": [
    "pasta.save('arquivo.xlsx')"
   ]
  },
  {
   "cell_type": "code",
   "execution_count": 6,
   "id": "6d321717",
   "metadata": {},
   "outputs": [],
   "source": [
    "from openpyxl import load_workbook"
   ]
  },
  {
   "cell_type": "code",
   "execution_count": 7,
   "id": "bb8f765a",
   "metadata": {},
   "outputs": [],
   "source": [
    "pasta_existente = load_workbook('arquivo_existente.xlsx')"
   ]
  },
  {
   "cell_type": "code",
   "execution_count": 8,
   "id": "3d693b9e",
   "metadata": {},
   "outputs": [
    {
     "data": {
      "text/plain": [
       "openpyxl.workbook.workbook.Workbook"
      ]
     },
     "execution_count": 8,
     "metadata": {},
     "output_type": "execute_result"
    }
   ],
   "source": [
    "type(pasta_existente)"
   ]
  },
  {
   "cell_type": "code",
   "execution_count": 9,
   "id": "85d90f2b",
   "metadata": {},
   "outputs": [],
   "source": [
    "copia_pasta_existente = pasta_existente.save('copia_arquivo_existente.xlsx')"
   ]
  },
  {
   "cell_type": "markdown",
   "id": "fde22d5e",
   "metadata": {},
   "source": [
    "## Trabalhando com planilhas"
   ]
  },
  {
   "cell_type": "code",
   "execution_count": 10,
   "id": "f0f7e400",
   "metadata": {},
   "outputs": [
    {
     "data": {
      "text/plain": [
       "<Worksheet \"Criando Planilha\">"
      ]
     },
     "execution_count": 10,
     "metadata": {},
     "output_type": "execute_result"
    }
   ],
   "source": [
    "pasta.create_sheet('Criando Planilha')"
   ]
  },
  {
   "cell_type": "code",
   "execution_count": 11,
   "id": "c4ea03fd",
   "metadata": {},
   "outputs": [
    {
     "data": {
      "text/plain": [
       "<Worksheet \"Minha planilha dois\">"
      ]
     },
     "execution_count": 11,
     "metadata": {},
     "output_type": "execute_result"
    }
   ],
   "source": [
    "pasta.create_sheet('Minha planilha dois')"
   ]
  },
  {
   "cell_type": "code",
   "execution_count": 12,
   "id": "8e33ef6e",
   "metadata": {},
   "outputs": [
    {
     "data": {
      "text/plain": [
       "<Worksheet \"Minha planilha dois (correta)\">"
      ]
     },
     "execution_count": 12,
     "metadata": {},
     "output_type": "execute_result"
    }
   ],
   "source": [
    "pasta.create_sheet('Minha planilha dois (correta)', 1)"
   ]
  },
  {
   "cell_type": "code",
   "execution_count": 13,
   "id": "57331360",
   "metadata": {},
   "outputs": [],
   "source": [
    "pasta.save('arquivo.xlsx')"
   ]
  },
  {
   "cell_type": "code",
   "execution_count": 14,
   "id": "9cdba9c2",
   "metadata": {},
   "outputs": [],
   "source": [
    "planilha = pasta.create_sheet('Planilha retornada')"
   ]
  },
  {
   "cell_type": "code",
   "execution_count": 15,
   "id": "6a7305e2",
   "metadata": {},
   "outputs": [],
   "source": [
    "planilha2 = pasta.create_sheet('Segunda Planilha retornada')"
   ]
  },
  {
   "cell_type": "code",
   "execution_count": 16,
   "id": "ce845dc4",
   "metadata": {},
   "outputs": [
    {
     "data": {
      "text/plain": [
       "openpyxl.worksheet.worksheet.Worksheet"
      ]
     },
     "execution_count": 16,
     "metadata": {},
     "output_type": "execute_result"
    }
   ],
   "source": [
    "type(planilha)"
   ]
  },
  {
   "cell_type": "code",
   "execution_count": 17,
   "id": "00c8bff9",
   "metadata": {},
   "outputs": [
    {
     "data": {
      "text/plain": [
       "openpyxl.worksheet.worksheet.Worksheet"
      ]
     },
     "execution_count": 17,
     "metadata": {},
     "output_type": "execute_result"
    }
   ],
   "source": [
    "type(planilha2)"
   ]
  },
  {
   "cell_type": "code",
   "execution_count": 18,
   "id": "295dcb95",
   "metadata": {},
   "outputs": [],
   "source": [
    "nome = planilha.title"
   ]
  },
  {
   "cell_type": "code",
   "execution_count": 19,
   "id": "fd200ee9",
   "metadata": {},
   "outputs": [
    {
     "name": "stdout",
     "output_type": "stream",
     "text": [
      "O nome da planilha é Planilha retornada\n"
     ]
    }
   ],
   "source": [
    "print('O nome da planilha é', nome)"
   ]
  },
  {
   "cell_type": "code",
   "execution_count": 20,
   "id": "436111f6",
   "metadata": {},
   "outputs": [],
   "source": [
    "nome2 = planilha2.title"
   ]
  },
  {
   "cell_type": "code",
   "execution_count": 21,
   "id": "330b487f",
   "metadata": {},
   "outputs": [
    {
     "name": "stdout",
     "output_type": "stream",
     "text": [
      "o nome da planilha é Segunda Planilha retornada\n"
     ]
    }
   ],
   "source": [
    "print('o nome da planilha é', nome2)"
   ]
  },
  {
   "cell_type": "code",
   "execution_count": 22,
   "id": "d1b1bc68",
   "metadata": {},
   "outputs": [],
   "source": [
    "planilha2.title = 'Novo nome'"
   ]
  },
  {
   "cell_type": "code",
   "execution_count": 23,
   "id": "e34d8f54",
   "metadata": {},
   "outputs": [
    {
     "name": "stdout",
     "output_type": "stream",
     "text": [
      "o nome da planilha é Segunda Planilha retornada\n"
     ]
    }
   ],
   "source": [
    "print('o nome da planilha é', nome2)"
   ]
  },
  {
   "cell_type": "code",
   "execution_count": 24,
   "id": "eeb69a3b",
   "metadata": {},
   "outputs": [
    {
     "data": {
      "text/plain": [
       "[<Worksheet \"Sheet\">,\n",
       " <Worksheet \"Minha planilha dois (correta)\">,\n",
       " <Worksheet \"Criando Planilha\">,\n",
       " <Worksheet \"Minha planilha dois\">,\n",
       " <Worksheet \"Planilha retornada\">,\n",
       " <Worksheet \"Novo nome\">]"
      ]
     },
     "execution_count": 24,
     "metadata": {},
     "output_type": "execute_result"
    }
   ],
   "source": [
    "pasta.worksheets"
   ]
  },
  {
   "cell_type": "code",
   "execution_count": 25,
   "id": "eddf33f0",
   "metadata": {},
   "outputs": [
    {
     "data": {
      "text/plain": [
       "['Sheet',\n",
       " 'Minha planilha dois (correta)',\n",
       " 'Criando Planilha',\n",
       " 'Minha planilha dois',\n",
       " 'Planilha retornada',\n",
       " 'Novo nome']"
      ]
     },
     "execution_count": 25,
     "metadata": {},
     "output_type": "execute_result"
    }
   ],
   "source": [
    "pasta.sheetnames"
   ]
  },
  {
   "cell_type": "code",
   "execution_count": 26,
   "id": "05a146a5",
   "metadata": {},
   "outputs": [],
   "source": [
    "lista_planilhas = pasta.worksheets"
   ]
  },
  {
   "cell_type": "code",
   "execution_count": 27,
   "id": "bffe899c",
   "metadata": {},
   "outputs": [
    {
     "data": {
      "text/plain": [
       "<Worksheet \"Sheet\">"
      ]
     },
     "execution_count": 27,
     "metadata": {},
     "output_type": "execute_result"
    }
   ],
   "source": [
    "lista_planilhas[0]"
   ]
  },
  {
   "cell_type": "code",
   "execution_count": 28,
   "id": "098e091d",
   "metadata": {},
   "outputs": [],
   "source": [
    "lista_nomes = pasta.sheetnames"
   ]
  },
  {
   "cell_type": "code",
   "execution_count": 29,
   "id": "4c653cdf",
   "metadata": {},
   "outputs": [
    {
     "data": {
      "text/plain": [
       "'Sheet'"
      ]
     },
     "execution_count": 29,
     "metadata": {},
     "output_type": "execute_result"
    }
   ],
   "source": [
    "lista_nomes[0]"
   ]
  },
  {
   "cell_type": "code",
   "execution_count": 30,
   "id": "2d584f4c",
   "metadata": {},
   "outputs": [],
   "source": [
    "lista_nomes[0] = 'Sheet 1'"
   ]
  },
  {
   "cell_type": "code",
   "execution_count": 31,
   "id": "292a4eb0",
   "metadata": {},
   "outputs": [
    {
     "data": {
      "text/plain": [
       "['Sheet',\n",
       " 'Minha planilha dois (correta)',\n",
       " 'Criando Planilha',\n",
       " 'Minha planilha dois',\n",
       " 'Planilha retornada',\n",
       " 'Novo nome']"
      ]
     },
     "execution_count": 31,
     "metadata": {},
     "output_type": "execute_result"
    }
   ],
   "source": [
    "pasta.sheetnames"
   ]
  },
  {
   "cell_type": "code",
   "execution_count": 32,
   "id": "1aa0be0d",
   "metadata": {},
   "outputs": [],
   "source": [
    "lista_planilhas[0].title = 'Sheet 1'"
   ]
  },
  {
   "cell_type": "code",
   "execution_count": 33,
   "id": "c0a779b1",
   "metadata": {},
   "outputs": [
    {
     "data": {
      "text/plain": [
       "['Sheet 1',\n",
       " 'Minha planilha dois (correta)',\n",
       " 'Criando Planilha',\n",
       " 'Minha planilha dois',\n",
       " 'Planilha retornada',\n",
       " 'Novo nome']"
      ]
     },
     "execution_count": 33,
     "metadata": {},
     "output_type": "execute_result"
    }
   ],
   "source": [
    "pasta.sheetnames"
   ]
  },
  {
   "cell_type": "code",
   "execution_count": 34,
   "id": "65de56d7",
   "metadata": {},
   "outputs": [
    {
     "data": {
      "text/plain": [
       "<Worksheet \"Sheet 1\">"
      ]
     },
     "execution_count": 34,
     "metadata": {},
     "output_type": "execute_result"
    }
   ],
   "source": [
    "pasta.active"
   ]
  },
  {
   "cell_type": "code",
   "execution_count": 35,
   "id": "a2b47273",
   "metadata": {},
   "outputs": [],
   "source": [
    "pasta.active = pasta.worksheets[1]"
   ]
  },
  {
   "cell_type": "code",
   "execution_count": 36,
   "id": "9ead13c5",
   "metadata": {},
   "outputs": [
    {
     "data": {
      "text/plain": [
       "<Worksheet \"Minha planilha dois (correta)\">"
      ]
     },
     "execution_count": 36,
     "metadata": {},
     "output_type": "execute_result"
    }
   ],
   "source": [
    "pasta.active"
   ]
  },
  {
   "cell_type": "code",
   "execution_count": 37,
   "id": "86a3256e",
   "metadata": {},
   "outputs": [],
   "source": [
    "pasta.worksheets[1].title = 'Abril'"
   ]
  },
  {
   "cell_type": "code",
   "execution_count": 38,
   "id": "b6192e64",
   "metadata": {},
   "outputs": [
    {
     "data": {
      "text/plain": [
       "<Worksheet \"Abril\">"
      ]
     },
     "execution_count": 38,
     "metadata": {},
     "output_type": "execute_result"
    }
   ],
   "source": [
    "pasta.active"
   ]
  },
  {
   "cell_type": "code",
   "execution_count": 39,
   "id": "91689f2c",
   "metadata": {},
   "outputs": [
    {
     "data": {
      "text/plain": [
       "list"
      ]
     },
     "execution_count": 39,
     "metadata": {},
     "output_type": "execute_result"
    }
   ],
   "source": [
    "type(pasta.worksheets)"
   ]
  },
  {
   "cell_type": "code",
   "execution_count": 40,
   "id": "a7278c7a",
   "metadata": {},
   "outputs": [],
   "source": [
    "posicao = 3"
   ]
  },
  {
   "cell_type": "code",
   "execution_count": 41,
   "id": "d98de4ca",
   "metadata": {},
   "outputs": [],
   "source": [
    "indice = posicao -1"
   ]
  },
  {
   "cell_type": "code",
   "execution_count": 42,
   "id": "055df10d",
   "metadata": {},
   "outputs": [
    {
     "data": {
      "text/plain": [
       "2"
      ]
     },
     "execution_count": 42,
     "metadata": {},
     "output_type": "execute_result"
    }
   ],
   "source": [
    "indice"
   ]
  },
  {
   "cell_type": "code",
   "execution_count": 43,
   "id": "50b8eb95",
   "metadata": {},
   "outputs": [],
   "source": [
    "terceira_planilha = pasta.worksheets[indice]"
   ]
  },
  {
   "cell_type": "code",
   "execution_count": 44,
   "id": "17e5aaf2",
   "metadata": {},
   "outputs": [
    {
     "data": {
      "text/plain": [
       "<Worksheet \"Criando Planilha\">"
      ]
     },
     "execution_count": 44,
     "metadata": {},
     "output_type": "execute_result"
    }
   ],
   "source": [
    "terceira_planilha"
   ]
  },
  {
   "cell_type": "code",
   "execution_count": 45,
   "id": "31fe67a0",
   "metadata": {},
   "outputs": [
    {
     "name": "stdout",
     "output_type": "stream",
     "text": [
      "<Worksheet \"Minha planilha dois\">\n"
     ]
    }
   ],
   "source": [
    "possivel_planilha = pasta.worksheets[3]\n",
    "print(possivel_planilha)"
   ]
  },
  {
   "cell_type": "code",
   "execution_count": 46,
   "id": "05f36dc9",
   "metadata": {},
   "outputs": [],
   "source": [
    "possivel_planilha = pasta['Abril']"
   ]
  },
  {
   "cell_type": "code",
   "execution_count": 47,
   "id": "1a3adb20",
   "metadata": {},
   "outputs": [
    {
     "data": {
      "text/plain": [
       "<Worksheet \"Abril\">"
      ]
     },
     "execution_count": 47,
     "metadata": {},
     "output_type": "execute_result"
    }
   ],
   "source": [
    "possivel_planilha"
   ]
  },
  {
   "cell_type": "code",
   "execution_count": 48,
   "id": "7a464ae1",
   "metadata": {},
   "outputs": [
    {
     "data": {
      "text/plain": [
       "'Abril'"
      ]
     },
     "execution_count": 48,
     "metadata": {},
     "output_type": "execute_result"
    }
   ],
   "source": [
    "possivel_planilha.title"
   ]
  },
  {
   "cell_type": "code",
   "execution_count": 49,
   "id": "d36430cb",
   "metadata": {},
   "outputs": [
    {
     "name": "stdout",
     "output_type": "stream",
     "text": [
      "Qual o nome da planilha? abril\n"
     ]
    }
   ],
   "source": [
    "nome = input('Qual o nome da planilha? ')"
   ]
  },
  {
   "cell_type": "code",
   "execution_count": 50,
   "id": "97302db7",
   "metadata": {},
   "outputs": [
    {
     "name": "stdout",
     "output_type": "stream",
     "text": [
      "Não possui o nome\n"
     ]
    }
   ],
   "source": [
    "if nome in pasta.sheetnames:\n",
    "    print('Possui o nome')\n",
    "    planilha_selecionada = pasta[nome]\n",
    "else:\n",
    "    print('Não possui o nome')"
   ]
  },
  {
   "cell_type": "code",
   "execution_count": 51,
   "id": "e61f88d4",
   "metadata": {},
   "outputs": [
    {
     "data": {
      "text/plain": [
       "['Sheet 1',\n",
       " 'Abril',\n",
       " 'Criando Planilha',\n",
       " 'Minha planilha dois',\n",
       " 'Planilha retornada',\n",
       " 'Novo nome']"
      ]
     },
     "execution_count": 51,
     "metadata": {},
     "output_type": "execute_result"
    }
   ],
   "source": [
    "pasta.sheetnames"
   ]
  },
  {
   "cell_type": "code",
   "execution_count": 52,
   "id": "2317befd",
   "metadata": {},
   "outputs": [
    {
     "data": {
      "text/plain": [
       "6"
      ]
     },
     "execution_count": 52,
     "metadata": {},
     "output_type": "execute_result"
    }
   ],
   "source": [
    "len(pasta.worksheets)"
   ]
  },
  {
   "cell_type": "code",
   "execution_count": 53,
   "id": "ade9b2db",
   "metadata": {},
   "outputs": [
    {
     "name": "stdout",
     "output_type": "stream",
     "text": [
      "Digite o índice da planilha: 1\n",
      "Possui o índice\n",
      "Abril\n"
     ]
    }
   ],
   "source": [
    "indice = int(input('Digite o índice da planilha: '))\n",
    "\n",
    "planilha_selecionada = None\n",
    "\n",
    "if indice < len(pasta.worksheets) and indice >= 0:\n",
    "    print('Possui o índice')\n",
    "    planilha_selecionada = pasta.worksheets[indice]\n",
    "else:\n",
    "    print('Não possui o índice')\n",
    "    \n",
    "if planilha_selecionada is not None:\n",
    "    print(planilha_selecionada.title)"
   ]
  },
  {
   "cell_type": "code",
   "execution_count": 54,
   "id": "84686cf7",
   "metadata": {},
   "outputs": [],
   "source": [
    "pasta.worksheets[0].sheet_properties.tabColor = '34EBB7'"
   ]
  },
  {
   "cell_type": "markdown",
   "id": "ffa691f3",
   "metadata": {},
   "source": [
    "## Trabalhando com células"
   ]
  },
  {
   "cell_type": "code",
   "execution_count": 55,
   "id": "3a41902c",
   "metadata": {},
   "outputs": [],
   "source": [
    "celula_A1 = planilha['A1']"
   ]
  },
  {
   "cell_type": "code",
   "execution_count": 56,
   "id": "0e8b1413",
   "metadata": {},
   "outputs": [
    {
     "data": {
      "text/plain": [
       "<Cell 'Planilha retornada'.A1>"
      ]
     },
     "execution_count": 56,
     "metadata": {},
     "output_type": "execute_result"
    }
   ],
   "source": [
    "celula_A1"
   ]
  },
  {
   "cell_type": "code",
   "execution_count": 57,
   "id": "3fee8758",
   "metadata": {},
   "outputs": [],
   "source": [
    "outra_celula = planilha['D7']"
   ]
  },
  {
   "cell_type": "code",
   "execution_count": 58,
   "id": "cfc8838b",
   "metadata": {},
   "outputs": [
    {
     "data": {
      "text/plain": [
       "<Cell 'Planilha retornada'.D7>"
      ]
     },
     "execution_count": 58,
     "metadata": {},
     "output_type": "execute_result"
    }
   ],
   "source": [
    "outra_celula"
   ]
  },
  {
   "cell_type": "code",
   "execution_count": 59,
   "id": "55596616",
   "metadata": {},
   "outputs": [],
   "source": [
    "mais_uma_celula = pasta.worksheets[0]['B3']"
   ]
  },
  {
   "cell_type": "code",
   "execution_count": 60,
   "id": "d5de0c2a",
   "metadata": {},
   "outputs": [
    {
     "data": {
      "text/plain": [
       "<Cell 'Sheet 1'.B3>"
      ]
     },
     "execution_count": 60,
     "metadata": {},
     "output_type": "execute_result"
    }
   ],
   "source": [
    "mais_uma_celula"
   ]
  },
  {
   "cell_type": "code",
   "execution_count": 61,
   "id": "18259daa",
   "metadata": {},
   "outputs": [],
   "source": [
    "celula = planilha.cell(row=4, column=2) # Linha 4, coluna 2 (B4)"
   ]
  },
  {
   "cell_type": "code",
   "execution_count": 62,
   "id": "e8d44a5c",
   "metadata": {},
   "outputs": [
    {
     "data": {
      "text/plain": [
       "<Cell 'Planilha retornada'.B4>"
      ]
     },
     "execution_count": 62,
     "metadata": {},
     "output_type": "execute_result"
    }
   ],
   "source": [
    "celula"
   ]
  },
  {
   "cell_type": "code",
   "execution_count": 63,
   "id": "d30af645",
   "metadata": {},
   "outputs": [],
   "source": [
    "# nome => coluna linha (B4)\n",
    "# posição => Linha coluna (row=4, column=2)"
   ]
  },
  {
   "cell_type": "code",
   "execution_count": 64,
   "id": "b8c502f9",
   "metadata": {},
   "outputs": [],
   "source": [
    "celula.value"
   ]
  },
  {
   "cell_type": "code",
   "execution_count": 65,
   "id": "76f9913a",
   "metadata": {},
   "outputs": [],
   "source": [
    "celula.value = 10"
   ]
  },
  {
   "cell_type": "code",
   "execution_count": 66,
   "id": "f95fe8d3",
   "metadata": {},
   "outputs": [
    {
     "name": "stdout",
     "output_type": "stream",
     "text": [
      "10\n"
     ]
    }
   ],
   "source": [
    "print(celula.value)"
   ]
  },
  {
   "cell_type": "code",
   "execution_count": 67,
   "id": "941101d8",
   "metadata": {},
   "outputs": [
    {
     "data": {
      "text/plain": [
       "10"
      ]
     },
     "execution_count": 67,
     "metadata": {},
     "output_type": "execute_result"
    }
   ],
   "source": [
    "planilha['b4'].value"
   ]
  },
  {
   "cell_type": "code",
   "execution_count": 68,
   "id": "aa563ad4",
   "metadata": {},
   "outputs": [],
   "source": [
    "pasta.active['F8'].value = 'Lucas Rosa'"
   ]
  },
  {
   "cell_type": "code",
   "execution_count": 69,
   "id": "b19f1a70",
   "metadata": {},
   "outputs": [
    {
     "data": {
      "text/plain": [
       "'Lucas Rosa'"
      ]
     },
     "execution_count": 69,
     "metadata": {},
     "output_type": "execute_result"
    }
   ],
   "source": [
    "pasta.active.cell(row=8, column=6).value"
   ]
  },
  {
   "cell_type": "code",
   "execution_count": 70,
   "id": "720a3854",
   "metadata": {},
   "outputs": [],
   "source": [
    "pasta.save('arquivo.xlsx')"
   ]
  },
  {
   "cell_type": "code",
   "execution_count": 97,
   "id": "e60adbf0",
   "metadata": {},
   "outputs": [],
   "source": [
    "from openpyxl import Workbook\n",
    "\n",
    "nova_pasta = Workbook()\n",
    "nova_planilha = nova_pasta.create_sheet('Nova Planilha')"
   ]
  },
  {
   "cell_type": "code",
   "execution_count": 98,
   "id": "307ebbd9",
   "metadata": {
    "scrolled": true
   },
   "outputs": [
    {
     "data": {
      "text/plain": [
       "((<Cell 'Nova Planilha'.A1>,\n",
       "  <Cell 'Nova Planilha'.B1>,\n",
       "  <Cell 'Nova Planilha'.C1>),\n",
       " (<Cell 'Nova Planilha'.A2>,\n",
       "  <Cell 'Nova Planilha'.B2>,\n",
       "  <Cell 'Nova Planilha'.C2>),\n",
       " (<Cell 'Nova Planilha'.A3>,\n",
       "  <Cell 'Nova Planilha'.B3>,\n",
       "  <Cell 'Nova Planilha'.C3>))"
      ]
     },
     "execution_count": 98,
     "metadata": {},
     "output_type": "execute_result"
    }
   ],
   "source": [
    "nova_planilha['A1':'c3']"
   ]
  },
  {
   "cell_type": "code",
   "execution_count": 99,
   "id": "a8629e25",
   "metadata": {},
   "outputs": [
    {
     "name": "stdout",
     "output_type": "stream",
     "text": [
      "<Worksheet \"Nova Planilha\">\n"
     ]
    }
   ],
   "source": [
    "print(nova_planilha)"
   ]
  },
  {
   "cell_type": "code",
   "execution_count": 85,
   "id": "5925b182",
   "metadata": {},
   "outputs": [
    {
     "data": {
      "text/plain": [
       "((<Cell 'Nova Planilha'.A2>,\n",
       "  <Cell 'Nova Planilha'.B2>,\n",
       "  <Cell 'Nova Planilha'.C2>,\n",
       "  <Cell 'Nova Planilha'.D2>,\n",
       "  <Cell 'Nova Planilha'.E2>,\n",
       "  <Cell 'Nova Planilha'.F2>,\n",
       "  <Cell 'Nova Planilha'.G2>,\n",
       "  <Cell 'Nova Planilha'.H2>,\n",
       "  <Cell 'Nova Planilha'.I2>,\n",
       "  <Cell 'Nova Planilha'.J2>),\n",
       " (<Cell 'Nova Planilha'.A3>,\n",
       "  <Cell 'Nova Planilha'.B3>,\n",
       "  <Cell 'Nova Planilha'.C3>,\n",
       "  <Cell 'Nova Planilha'.D3>,\n",
       "  <Cell 'Nova Planilha'.E3>,\n",
       "  <Cell 'Nova Planilha'.F3>,\n",
       "  <Cell 'Nova Planilha'.G3>,\n",
       "  <Cell 'Nova Planilha'.H3>,\n",
       "  <Cell 'Nova Planilha'.I3>,\n",
       "  <Cell 'Nova Planilha'.J3>))"
      ]
     },
     "execution_count": 85,
     "metadata": {},
     "output_type": "execute_result"
    }
   ],
   "source": [
    "nova_planilha['2':'3']"
   ]
  },
  {
   "cell_type": "code",
   "execution_count": 74,
   "id": "d8848e97",
   "metadata": {},
   "outputs": [
    {
     "name": "stdout",
     "output_type": "stream",
     "text": [
      "Linha:  (<Cell 'Nova Planilha'.A1>, <Cell 'Nova Planilha'.B1>, <Cell 'Nova Planilha'.C1>, <Cell 'Nova Planilha'.D1>, <Cell 'Nova Planilha'.E1>, <Cell 'Nova Planilha'.F1>, <Cell 'Nova Planilha'.G1>, <Cell 'Nova Planilha'.H1>, <Cell 'Nova Planilha'.I1>, <Cell 'Nova Planilha'.J1>)\n",
      "Linha:  (<Cell 'Nova Planilha'.A2>, <Cell 'Nova Planilha'.B2>, <Cell 'Nova Planilha'.C2>, <Cell 'Nova Planilha'.D2>, <Cell 'Nova Planilha'.E2>, <Cell 'Nova Planilha'.F2>, <Cell 'Nova Planilha'.G2>, <Cell 'Nova Planilha'.H2>, <Cell 'Nova Planilha'.I2>, <Cell 'Nova Planilha'.J2>)\n",
      "Linha:  (<Cell 'Nova Planilha'.A3>, <Cell 'Nova Planilha'.B3>, <Cell 'Nova Planilha'.C3>, <Cell 'Nova Planilha'.D3>, <Cell 'Nova Planilha'.E3>, <Cell 'Nova Planilha'.F3>, <Cell 'Nova Planilha'.G3>, <Cell 'Nova Planilha'.H3>, <Cell 'Nova Planilha'.I3>, <Cell 'Nova Planilha'.J3>)\n"
     ]
    }
   ],
   "source": [
    "for linha in nova_planilha.iter_rows(min_row = 1, max_row = 3, max_col = 10):\n",
    "    print('Linha: ', linha)"
   ]
  },
  {
   "cell_type": "code",
   "execution_count": 75,
   "id": "8c032fdf",
   "metadata": {},
   "outputs": [],
   "source": [
    "intervalo_colunas = nova_planilha['B':'D']"
   ]
  },
  {
   "cell_type": "code",
   "execution_count": 76,
   "id": "1a731a3b",
   "metadata": {},
   "outputs": [
    {
     "data": {
      "text/plain": [
       "((<Cell 'Nova Planilha'.B1>,\n",
       "  <Cell 'Nova Planilha'.B2>,\n",
       "  <Cell 'Nova Planilha'.B3>),\n",
       " (<Cell 'Nova Planilha'.C1>,\n",
       "  <Cell 'Nova Planilha'.C2>,\n",
       "  <Cell 'Nova Planilha'.C3>),\n",
       " (<Cell 'Nova Planilha'.D1>,\n",
       "  <Cell 'Nova Planilha'.D2>,\n",
       "  <Cell 'Nova Planilha'.D3>))"
      ]
     },
     "execution_count": 76,
     "metadata": {},
     "output_type": "execute_result"
    }
   ],
   "source": [
    "intervalo_colunas"
   ]
  },
  {
   "cell_type": "code",
   "execution_count": 77,
   "id": "95a6c773",
   "metadata": {},
   "outputs": [
    {
     "name": "stdout",
     "output_type": "stream",
     "text": [
      "Coluna:  (<Cell 'Nova Planilha'.A5>, <Cell 'Nova Planilha'.A6>, <Cell 'Nova Planilha'.A7>)\n",
      "Coluna:  (<Cell 'Nova Planilha'.B5>, <Cell 'Nova Planilha'.B6>, <Cell 'Nova Planilha'.B7>)\n",
      "Coluna:  (<Cell 'Nova Planilha'.C5>, <Cell 'Nova Planilha'.C6>, <Cell 'Nova Planilha'.C7>)\n"
     ]
    }
   ],
   "source": [
    "for coluna in nova_planilha.iter_cols(min_row = 5, max_row = 7, min_col = 1, max_col = 3):\n",
    "    print('Coluna: ', coluna)"
   ]
  },
  {
   "cell_type": "code",
   "execution_count": 78,
   "id": "79079126",
   "metadata": {},
   "outputs": [
    {
     "data": {
      "text/plain": [
       "(<Cell 'Nova Planilha'.C1>,\n",
       " <Cell 'Nova Planilha'.C2>,\n",
       " <Cell 'Nova Planilha'.C3>,\n",
       " <Cell 'Nova Planilha'.C4>,\n",
       " <Cell 'Nova Planilha'.C5>,\n",
       " <Cell 'Nova Planilha'.C6>,\n",
       " <Cell 'Nova Planilha'.C7>)"
      ]
     },
     "execution_count": 78,
     "metadata": {},
     "output_type": "execute_result"
    }
   ],
   "source": [
    "coluna_c = nova_planilha['C']\n",
    "coluna_c"
   ]
  },
  {
   "cell_type": "code",
   "execution_count": 79,
   "id": "b5085c2f",
   "metadata": {},
   "outputs": [
    {
     "data": {
      "text/plain": [
       "[(<Cell 'Nova Planilha'.A1>,\n",
       "  <Cell 'Nova Planilha'.B1>,\n",
       "  <Cell 'Nova Planilha'.C1>,\n",
       "  <Cell 'Nova Planilha'.D1>,\n",
       "  <Cell 'Nova Planilha'.E1>,\n",
       "  <Cell 'Nova Planilha'.F1>,\n",
       "  <Cell 'Nova Planilha'.G1>,\n",
       "  <Cell 'Nova Planilha'.H1>,\n",
       "  <Cell 'Nova Planilha'.I1>,\n",
       "  <Cell 'Nova Planilha'.J1>),\n",
       " (<Cell 'Nova Planilha'.A2>,\n",
       "  <Cell 'Nova Planilha'.B2>,\n",
       "  <Cell 'Nova Planilha'.C2>,\n",
       "  <Cell 'Nova Planilha'.D2>,\n",
       "  <Cell 'Nova Planilha'.E2>,\n",
       "  <Cell 'Nova Planilha'.F2>,\n",
       "  <Cell 'Nova Planilha'.G2>,\n",
       "  <Cell 'Nova Planilha'.H2>,\n",
       "  <Cell 'Nova Planilha'.I2>,\n",
       "  <Cell 'Nova Planilha'.J2>),\n",
       " (<Cell 'Nova Planilha'.A3>,\n",
       "  <Cell 'Nova Planilha'.B3>,\n",
       "  <Cell 'Nova Planilha'.C3>,\n",
       "  <Cell 'Nova Planilha'.D3>,\n",
       "  <Cell 'Nova Planilha'.E3>,\n",
       "  <Cell 'Nova Planilha'.F3>,\n",
       "  <Cell 'Nova Planilha'.G3>,\n",
       "  <Cell 'Nova Planilha'.H3>,\n",
       "  <Cell 'Nova Planilha'.I3>,\n",
       "  <Cell 'Nova Planilha'.J3>),\n",
       " (<Cell 'Nova Planilha'.A4>,\n",
       "  <Cell 'Nova Planilha'.B4>,\n",
       "  <Cell 'Nova Planilha'.C4>,\n",
       "  <Cell 'Nova Planilha'.D4>,\n",
       "  <Cell 'Nova Planilha'.E4>,\n",
       "  <Cell 'Nova Planilha'.F4>,\n",
       "  <Cell 'Nova Planilha'.G4>,\n",
       "  <Cell 'Nova Planilha'.H4>,\n",
       "  <Cell 'Nova Planilha'.I4>,\n",
       "  <Cell 'Nova Planilha'.J4>),\n",
       " (<Cell 'Nova Planilha'.A5>,\n",
       "  <Cell 'Nova Planilha'.B5>,\n",
       "  <Cell 'Nova Planilha'.C5>,\n",
       "  <Cell 'Nova Planilha'.D5>,\n",
       "  <Cell 'Nova Planilha'.E5>,\n",
       "  <Cell 'Nova Planilha'.F5>,\n",
       "  <Cell 'Nova Planilha'.G5>,\n",
       "  <Cell 'Nova Planilha'.H5>,\n",
       "  <Cell 'Nova Planilha'.I5>,\n",
       "  <Cell 'Nova Planilha'.J5>),\n",
       " (<Cell 'Nova Planilha'.A6>,\n",
       "  <Cell 'Nova Planilha'.B6>,\n",
       "  <Cell 'Nova Planilha'.C6>,\n",
       "  <Cell 'Nova Planilha'.D6>,\n",
       "  <Cell 'Nova Planilha'.E6>,\n",
       "  <Cell 'Nova Planilha'.F6>,\n",
       "  <Cell 'Nova Planilha'.G6>,\n",
       "  <Cell 'Nova Planilha'.H6>,\n",
       "  <Cell 'Nova Planilha'.I6>,\n",
       "  <Cell 'Nova Planilha'.J6>),\n",
       " (<Cell 'Nova Planilha'.A7>,\n",
       "  <Cell 'Nova Planilha'.B7>,\n",
       "  <Cell 'Nova Planilha'.C7>,\n",
       "  <Cell 'Nova Planilha'.D7>,\n",
       "  <Cell 'Nova Planilha'.E7>,\n",
       "  <Cell 'Nova Planilha'.F7>,\n",
       "  <Cell 'Nova Planilha'.G7>,\n",
       "  <Cell 'Nova Planilha'.H7>,\n",
       "  <Cell 'Nova Planilha'.I7>,\n",
       "  <Cell 'Nova Planilha'.J7>)]"
      ]
     },
     "execution_count": 79,
     "metadata": {},
     "output_type": "execute_result"
    }
   ],
   "source": [
    "list(nova_planilha.rows)"
   ]
  },
  {
   "cell_type": "code",
   "execution_count": 80,
   "id": "414a8a48",
   "metadata": {},
   "outputs": [
    {
     "data": {
      "text/plain": [
       "[(<Cell 'Nova Planilha'.A1>,\n",
       "  <Cell 'Nova Planilha'.A2>,\n",
       "  <Cell 'Nova Planilha'.A3>,\n",
       "  <Cell 'Nova Planilha'.A4>,\n",
       "  <Cell 'Nova Planilha'.A5>,\n",
       "  <Cell 'Nova Planilha'.A6>,\n",
       "  <Cell 'Nova Planilha'.A7>),\n",
       " (<Cell 'Nova Planilha'.B1>,\n",
       "  <Cell 'Nova Planilha'.B2>,\n",
       "  <Cell 'Nova Planilha'.B3>,\n",
       "  <Cell 'Nova Planilha'.B4>,\n",
       "  <Cell 'Nova Planilha'.B5>,\n",
       "  <Cell 'Nova Planilha'.B6>,\n",
       "  <Cell 'Nova Planilha'.B7>),\n",
       " (<Cell 'Nova Planilha'.C1>,\n",
       "  <Cell 'Nova Planilha'.C2>,\n",
       "  <Cell 'Nova Planilha'.C3>,\n",
       "  <Cell 'Nova Planilha'.C4>,\n",
       "  <Cell 'Nova Planilha'.C5>,\n",
       "  <Cell 'Nova Planilha'.C6>,\n",
       "  <Cell 'Nova Planilha'.C7>),\n",
       " (<Cell 'Nova Planilha'.D1>,\n",
       "  <Cell 'Nova Planilha'.D2>,\n",
       "  <Cell 'Nova Planilha'.D3>,\n",
       "  <Cell 'Nova Planilha'.D4>,\n",
       "  <Cell 'Nova Planilha'.D5>,\n",
       "  <Cell 'Nova Planilha'.D6>,\n",
       "  <Cell 'Nova Planilha'.D7>),\n",
       " (<Cell 'Nova Planilha'.E1>,\n",
       "  <Cell 'Nova Planilha'.E2>,\n",
       "  <Cell 'Nova Planilha'.E3>,\n",
       "  <Cell 'Nova Planilha'.E4>,\n",
       "  <Cell 'Nova Planilha'.E5>,\n",
       "  <Cell 'Nova Planilha'.E6>,\n",
       "  <Cell 'Nova Planilha'.E7>),\n",
       " (<Cell 'Nova Planilha'.F1>,\n",
       "  <Cell 'Nova Planilha'.F2>,\n",
       "  <Cell 'Nova Planilha'.F3>,\n",
       "  <Cell 'Nova Planilha'.F4>,\n",
       "  <Cell 'Nova Planilha'.F5>,\n",
       "  <Cell 'Nova Planilha'.F6>,\n",
       "  <Cell 'Nova Planilha'.F7>),\n",
       " (<Cell 'Nova Planilha'.G1>,\n",
       "  <Cell 'Nova Planilha'.G2>,\n",
       "  <Cell 'Nova Planilha'.G3>,\n",
       "  <Cell 'Nova Planilha'.G4>,\n",
       "  <Cell 'Nova Planilha'.G5>,\n",
       "  <Cell 'Nova Planilha'.G6>,\n",
       "  <Cell 'Nova Planilha'.G7>),\n",
       " (<Cell 'Nova Planilha'.H1>,\n",
       "  <Cell 'Nova Planilha'.H2>,\n",
       "  <Cell 'Nova Planilha'.H3>,\n",
       "  <Cell 'Nova Planilha'.H4>,\n",
       "  <Cell 'Nova Planilha'.H5>,\n",
       "  <Cell 'Nova Planilha'.H6>,\n",
       "  <Cell 'Nova Planilha'.H7>),\n",
       " (<Cell 'Nova Planilha'.I1>,\n",
       "  <Cell 'Nova Planilha'.I2>,\n",
       "  <Cell 'Nova Planilha'.I3>,\n",
       "  <Cell 'Nova Planilha'.I4>,\n",
       "  <Cell 'Nova Planilha'.I5>,\n",
       "  <Cell 'Nova Planilha'.I6>,\n",
       "  <Cell 'Nova Planilha'.I7>),\n",
       " (<Cell 'Nova Planilha'.J1>,\n",
       "  <Cell 'Nova Planilha'.J2>,\n",
       "  <Cell 'Nova Planilha'.J3>,\n",
       "  <Cell 'Nova Planilha'.J4>,\n",
       "  <Cell 'Nova Planilha'.J5>,\n",
       "  <Cell 'Nova Planilha'.J6>,\n",
       "  <Cell 'Nova Planilha'.J7>)]"
      ]
     },
     "execution_count": 80,
     "metadata": {},
     "output_type": "execute_result"
    }
   ],
   "source": [
    "list(nova_planilha.columns)"
   ]
  },
  {
   "cell_type": "code",
   "execution_count": 81,
   "id": "e5a8a1ce",
   "metadata": {},
   "outputs": [
    {
     "name": "stdout",
     "output_type": "stream",
     "text": [
      "None\n",
      "None\n",
      "None\n",
      "None\n",
      "None\n",
      "None\n",
      "None\n",
      "None\n",
      "None\n",
      "None\n",
      "None\n",
      "None\n",
      "None\n",
      "None\n",
      "None\n",
      "None\n",
      "None\n",
      "None\n",
      "None\n",
      "None\n",
      "None\n",
      "None\n",
      "None\n",
      "None\n",
      "None\n",
      "None\n",
      "None\n",
      "None\n",
      "None\n",
      "None\n",
      "None\n",
      "None\n",
      "None\n",
      "None\n",
      "None\n",
      "None\n",
      "None\n",
      "None\n",
      "None\n",
      "None\n",
      "None\n",
      "None\n",
      "None\n",
      "None\n",
      "None\n",
      "None\n",
      "None\n",
      "None\n",
      "None\n",
      "None\n",
      "None\n",
      "None\n",
      "None\n",
      "None\n",
      "None\n",
      "None\n",
      "None\n",
      "None\n",
      "None\n",
      "None\n",
      "None\n",
      "None\n",
      "None\n",
      "None\n",
      "None\n",
      "None\n",
      "None\n",
      "None\n",
      "None\n",
      "None\n"
     ]
    }
   ],
   "source": [
    "for linha in nova_planilha.values:\n",
    "    for valor in linha:\n",
    "        print(valor)"
   ]
  },
  {
   "cell_type": "code",
   "execution_count": 101,
   "id": "fcd67d6d",
   "metadata": {},
   "outputs": [],
   "source": [
    "nova_planilha['a1'].value = 'A1'\n",
    "nova_planilha['a2'].value = 'A2'\n",
    "nova_planilha['a3'].value = 'A3'\n",
    "nova_planilha['b1'].value = 'B1'\n",
    "nova_planilha['b2'].value = 'B2'\n",
    "nova_planilha['b3'].value = 'B3'\n",
    "nova_planilha['c1'].value = 'C1'\n",
    "nova_planilha['c2'].value = 'C2'\n",
    "nova_planilha['c3'].value = 'C3'\n"
   ]
  },
  {
   "cell_type": "code",
   "execution_count": 102,
   "id": "e31d0685",
   "metadata": {},
   "outputs": [
    {
     "name": "stdout",
     "output_type": "stream",
     "text": [
      "A1                        B1                        C1                        \n",
      "A2                        B2                        C2                        \n",
      "A3                        B3                        C3                        \n"
     ]
    }
   ],
   "source": [
    "for linha in nova_planilha.values:\n",
    "    for valor in linha:\n",
    "        if valor == None:\n",
    "            valor = 'None'\n",
    "        print('{:<25}'.format(valor), end=' ')\n",
    "    print()"
   ]
  },
  {
   "cell_type": "code",
   "execution_count": 116,
   "id": "4ac5e55d",
   "metadata": {},
   "outputs": [
    {
     "name": "stdout",
     "output_type": "stream",
     "text": [
      "Linhas: 0 x Colunas: 0\n"
     ]
    }
   ],
   "source": [
    "nova_pasta = Workbook()\n",
    "nova_planilha = nova_pasta.active\n",
    "\n",
    "print(f'Linhas: {len(list(nova_planilha.rows))} x Colunas: {len(list(nova_planilha.columns))}')"
   ]
  },
  {
   "cell_type": "code",
   "execution_count": 107,
   "id": "84d26d40",
   "metadata": {},
   "outputs": [
    {
     "name": "stdout",
     "output_type": "stream",
     "text": [
      "Linhas: 4 x Colunas: 3\n"
     ]
    }
   ],
   "source": [
    "celula = nova_planilha['c4']\n",
    "\n",
    "print(f'Linhas: {len(list(nova_planilha.rows))} x Colunas: {len(list(nova_planilha.columns))}')"
   ]
  },
  {
   "cell_type": "code",
   "execution_count": 117,
   "id": "88c1a46e",
   "metadata": {},
   "outputs": [
    {
     "name": "stdout",
     "output_type": "stream",
     "text": [
      "Linhas: 10 x Colunas: 10\n"
     ]
    }
   ],
   "source": [
    "celula = nova_planilha['j10']\n",
    "\n",
    "print(f'Linhas: {len(list(nova_planilha.rows))} x Colunas: {len(list(nova_planilha.columns))}')"
   ]
  },
  {
   "cell_type": "code",
   "execution_count": 118,
   "id": "512d565d",
   "metadata": {},
   "outputs": [],
   "source": [
    "nova_pasta.save('exemplo.xlsx')"
   ]
  },
  {
   "cell_type": "code",
   "execution_count": 119,
   "id": "e021ffef",
   "metadata": {},
   "outputs": [],
   "source": [
    "nova_planilha.merge_cells('b2:d2') # mesclar e centralizar"
   ]
  },
  {
   "cell_type": "code",
   "execution_count": 123,
   "id": "8680af54",
   "metadata": {},
   "outputs": [
    {
     "name": "stdout",
     "output_type": "stream",
     "text": [
      "yyyy-mm-dd h:mm:ss\n"
     ]
    }
   ],
   "source": [
    "import datetime\n",
    "\n",
    "planilha['a4'] = datetime.datetime(2019,12,31)\n",
    "print(planilha['a4'].number_format)"
   ]
  },
  {
   "cell_type": "code",
   "execution_count": 124,
   "id": "41d2f416",
   "metadata": {},
   "outputs": [
    {
     "name": "stdout",
     "output_type": "stream",
     "text": [
      "General\n"
     ]
    }
   ],
   "source": [
    "planilha['a5'] = 2.05\n",
    "print(planilha['a5'].number_format)"
   ]
  },
  {
   "cell_type": "code",
   "execution_count": 126,
   "id": "92b9807d",
   "metadata": {},
   "outputs": [
    {
     "name": "stdout",
     "output_type": "stream",
     "text": [
      "# ##0.00\n"
     ]
    }
   ],
   "source": [
    "planilha['a7'] = 1245.25\n",
    "planilha['a7'].number_format = '# ##0.00'\n",
    "print(planilha['a7'].number_format)"
   ]
  },
  {
   "cell_type": "code",
   "execution_count": 128,
   "id": "f1c7bc3c",
   "metadata": {},
   "outputs": [],
   "source": [
    "nova_pasta.save('teste de formatação.xlsx')"
   ]
  },
  {
   "cell_type": "code",
   "execution_count": 129,
   "id": "a909e2bd",
   "metadata": {},
   "outputs": [],
   "source": [
    "pasta = Workbook()\n",
    "planilha = pasta.create_sheet('Planilha')"
   ]
  },
  {
   "cell_type": "code",
   "execution_count": 130,
   "id": "a595706e",
   "metadata": {},
   "outputs": [],
   "source": [
    "from openpyxl.drawing.image import Image"
   ]
  },
  {
   "cell_type": "code",
   "execution_count": 131,
   "id": "4b36cd40",
   "metadata": {},
   "outputs": [],
   "source": [
    "imagem = Image('bylearn.jpg')\n",
    "planilha.add_image(imagem,'d5')"
   ]
  },
  {
   "cell_type": "code",
   "execution_count": 132,
   "id": "bcf1f699",
   "metadata": {},
   "outputs": [],
   "source": [
    "pasta.save('inserindo imagem.xlsx')"
   ]
  },
  {
   "cell_type": "code",
   "execution_count": 133,
   "id": "e978607d",
   "metadata": {},
   "outputs": [],
   "source": [
    "from openpyxl.chart import BarChart\n",
    "# http://bit.ly/2luaLiy -> todos os tipos de gráficos"
   ]
  },
  {
   "cell_type": "code",
   "execution_count": 134,
   "id": "84f9a348",
   "metadata": {},
   "outputs": [],
   "source": [
    "from openpyxl.chart import Reference, Series"
   ]
  },
  {
   "cell_type": "code",
   "execution_count": 135,
   "id": "287a1b2d",
   "metadata": {},
   "outputs": [],
   "source": [
    "pasta = Workbook()\n",
    "planilha = pasta.create_sheet('Graficos')"
   ]
  },
  {
   "cell_type": "code",
   "execution_count": 136,
   "id": "7cf9f05a",
   "metadata": {},
   "outputs": [],
   "source": [
    "for i in range(10):\n",
    "    planilha.append([i])"
   ]
  },
  {
   "cell_type": "code",
   "execution_count": 137,
   "id": "b3f0e51c",
   "metadata": {},
   "outputs": [],
   "source": [
    "pasta.save('teste grafico.xlsx')"
   ]
  },
  {
   "cell_type": "code",
   "execution_count": 138,
   "id": "9c480b15",
   "metadata": {},
   "outputs": [],
   "source": [
    "# Criar o gráfico\n",
    "grafico = BarChart()\n",
    "\n",
    "serie = Reference(planilha, min_col = 1, max_col = 1, min_row = 1, max_row = 10)\n",
    "\n",
    "grafico.add_data(serie)\n",
    "\n",
    "planilha.add_chart(grafico, 'e15')\n",
    "\n",
    "pasta.save('teste grafico.xlsx')"
   ]
  },
  {
   "cell_type": "code",
   "execution_count": 139,
   "id": "412e9835",
   "metadata": {},
   "outputs": [],
   "source": [
    "pasta = Workbook()\n",
    "planilha = pasta.active\n",
    "planilha.title = 'Gráfico Completo'"
   ]
  },
  {
   "cell_type": "code",
   "execution_count": 140,
   "id": "dafb4503",
   "metadata": {},
   "outputs": [],
   "source": [
    "dados = [\n",
    "    ('Número Original', 'Número ao Quadrado', 'Número ao Cubo'),\n",
    "    (1, 1, 1),\n",
    "    (2, 4, 8),\n",
    "    (3, 9, 27),\n",
    "    (4, 16, 64),\n",
    "    (5, 25, 125)\n",
    "]"
   ]
  },
  {
   "cell_type": "code",
   "execution_count": 141,
   "id": "bf152dd8",
   "metadata": {},
   "outputs": [],
   "source": [
    "for linha in dados:\n",
    "    planilha.append(linha)"
   ]
  },
  {
   "cell_type": "code",
   "execution_count": 143,
   "id": "3d2e5d50",
   "metadata": {},
   "outputs": [],
   "source": [
    "grafico = BarChart()\n",
    "\n",
    "grafico.x_axis.title = 'Número original'\n",
    "grafico.y_axis.title = 'Valor Resultado'\n",
    "\n",
    "grafico.title = 'Número ao Quadrado e ao Cubo'"
   ]
  },
  {
   "cell_type": "code",
   "execution_count": 144,
   "id": "c56fa361",
   "metadata": {},
   "outputs": [],
   "source": [
    "categoria = Reference(planilha, min_col=1, max_col=1, min_row=2, max_row=6)"
   ]
  },
  {
   "cell_type": "code",
   "execution_count": 145,
   "id": "97e283c3",
   "metadata": {},
   "outputs": [],
   "source": [
    "valores = Reference(planilha, min_col=2, max_col=3, min_row=1, max_row=6)"
   ]
  },
  {
   "cell_type": "code",
   "execution_count": 146,
   "id": "fbd2155d",
   "metadata": {},
   "outputs": [],
   "source": [
    "grafico.set_categories(categoria)"
   ]
  },
  {
   "cell_type": "code",
   "execution_count": 147,
   "id": "6a51df6a",
   "metadata": {},
   "outputs": [],
   "source": [
    "grafico.add_data(valores, titles_from_data=True)"
   ]
  },
  {
   "cell_type": "code",
   "execution_count": 148,
   "id": "09e19a7f",
   "metadata": {},
   "outputs": [],
   "source": [
    "planilha.add_chart(grafico,'e8')"
   ]
  },
  {
   "cell_type": "code",
   "execution_count": 149,
   "id": "c34e291d",
   "metadata": {},
   "outputs": [],
   "source": [
    "pasta.save('grafico complexo.xlsx')"
   ]
  },
  {
   "cell_type": "code",
   "execution_count": 154,
   "id": "5957fc1a",
   "metadata": {},
   "outputs": [],
   "source": [
    "pasta = Workbook()\n",
    "planilha = pasta.active\n",
    "planilha.title = 'SOMA'\n",
    "planilha['c3'] = '=sum(1,5)'\n",
    "pasta.save('soma.xlsx')"
   ]
  },
  {
   "cell_type": "markdown",
   "id": "5a634f13",
   "metadata": {},
   "source": [
    "# Formatação de texto"
   ]
  },
  {
   "cell_type": "code",
   "execution_count": 2,
   "id": "b1c58bbf",
   "metadata": {},
   "outputs": [],
   "source": [
    "from openpyxl.styles import PatternFill, Border, Side, Alignment, Protection, Font, Color"
   ]
  },
  {
   "cell_type": "code",
   "execution_count": 3,
   "id": "ad7c1780",
   "metadata": {},
   "outputs": [],
   "source": [
    "font = Font(name='Calibri', size=11)"
   ]
  },
  {
   "cell_type": "markdown",
   "id": "e4c8601e",
   "metadata": {},
   "source": [
    "## Fonte\n",
    "\n",
    "name = nome da fonte  \n",
    "size = tamanho  \n",
    "bold = negrito  \n",
    "italic  = itálico  \n",
    "vertAlign = alinhamento vertical  \n",
    "underline = underline  \n",
    "strike = traçado  \n",
    "color = cor (hexadecimal - aarrggbb) "
   ]
  },
  {
   "cell_type": "code",
   "execution_count": 5,
   "id": "4cbef676",
   "metadata": {},
   "outputs": [],
   "source": [
    "fonte = Font(\n",
    "    name='Arial',\n",
    "    size=13,\n",
    "    bold=True,\n",
    "    strike=False,\n",
    "    color='FF008080'\n",
    ")"
   ]
  },
  {
   "cell_type": "code",
   "execution_count": 7,
   "id": "ce626832",
   "metadata": {},
   "outputs": [],
   "source": [
    "preenchimento = PatternFill(\n",
    "    fill_type='solid',\n",
    "    fgColor='FFB4DCE4',\n",
    "    bgColor='000000'\n",
    ")"
   ]
  },
  {
   "cell_type": "code",
   "execution_count": 8,
   "id": "3cd14413",
   "metadata": {},
   "outputs": [],
   "source": [
    "borda = Border(\n",
    "    left=Side(border_style='thin', color='ffff0000'),\n",
    "    right=Side(border_style='thin', color='ffff0000'),\n",
    "    bottom=Side(border_style='thin', color='ffff0000'),\n",
    "    top=Side(border_style='thin', color='ffff0000')\n",
    ")"
   ]
  },
  {
   "cell_type": "code",
   "execution_count": 16,
   "id": "abfbda03",
   "metadata": {},
   "outputs": [],
   "source": [
    "formato = number_format = 'General'"
   ]
  },
  {
   "cell_type": "code",
   "execution_count": 18,
   "id": "b2ac5c95",
   "metadata": {},
   "outputs": [],
   "source": [
    "alinhamento = Alignment(\n",
    "        horizontal='center',\n",
    "        vertical='center',\n",
    "        wrap_text=True,\n",
    "        shrink_to_fit=False\n",
    ")"
   ]
  },
  {
   "cell_type": "code",
   "execution_count": 19,
   "id": "d6f2d3f2",
   "metadata": {},
   "outputs": [],
   "source": [
    "protecao = Protection(\n",
    "    locked=True, # não permitir mudança\n",
    "    hidden=False # ocultar a célula\n",
    ")"
   ]
  },
  {
   "cell_type": "markdown",
   "id": "9113279d",
   "metadata": {},
   "source": [
    "## Aplicando formatação"
   ]
  },
  {
   "cell_type": "code",
   "execution_count": 23,
   "id": "9c63aaa8",
   "metadata": {},
   "outputs": [],
   "source": [
    "from openpyxl import Workbook\n",
    "\n",
    "pasta = Workbook()\n",
    "planilha = pasta.create_sheet('Minha planilha customizada')\n",
    "\n",
    "celula_b3 = planilha['B3']\n",
    "celula_b3.value = 'Sou o B3'\n",
    "\n",
    "fonte2 = Font(color='ffbb00')\n",
    "preenchimento2 = PatternFill(fill_type='solid', fgColor='ffff00ff')\n",
    "\n",
    "celula_b3.font = fonte2\n",
    "celula_b3.fill = preenchimento2\n",
    "\n",
    "celula_a1 = planilha['A1']\n",
    "celula_a1.value = '5'\n",
    "\n",
    "celula_a1.font = fonte\n",
    "celula_a1.fill = preenchimento\n",
    "celula_a1.border = borda\n",
    "celula_a1.alignment = alinhamento\n",
    "celula_a1.number_format = number_format\n",
    "celula_a1.protection = protecao"
   ]
  },
  {
   "cell_type": "code",
   "execution_count": 24,
   "id": "38bebee6",
   "metadata": {},
   "outputs": [],
   "source": [
    "pasta.save('customizado.xlsx')"
   ]
  },
  {
   "cell_type": "markdown",
   "id": "71d97160",
   "metadata": {},
   "source": [
    "## Copiando estilo de fontes"
   ]
  },
  {
   "cell_type": "code",
   "execution_count": 35,
   "id": "a3d58cc1",
   "metadata": {},
   "outputs": [],
   "source": [
    "from copy import copy"
   ]
  },
  {
   "cell_type": "code",
   "execution_count": 33,
   "id": "16a5cac7",
   "metadata": {},
   "outputs": [],
   "source": [
    "fonte_padrao = Font(\n",
    "    name = 'Arial',\n",
    "    size = 13,\n",
    "    color = '008080'\n",
    ")"
   ]
  },
  {
   "cell_type": "code",
   "execution_count": 36,
   "id": "2e933514",
   "metadata": {},
   "outputs": [],
   "source": [
    "fonte_padrao_negrito = copy(fonte_padrao)\n",
    "fonte_padrao_negrito.bold = True"
   ]
  },
  {
   "cell_type": "code",
   "execution_count": 37,
   "id": "2807114a",
   "metadata": {},
   "outputs": [],
   "source": [
    "fonte_padrao_italico = copy(fonte_padrao)\n",
    "fonte_padrao_italico.italic = True"
   ]
  },
  {
   "cell_type": "markdown",
   "id": "f910d82c",
   "metadata": {},
   "source": [
    "## Estilizando intervalos"
   ]
  },
  {
   "cell_type": "code",
   "execution_count": 38,
   "id": "908eff90",
   "metadata": {},
   "outputs": [],
   "source": [
    "coluna_a = planilha.column_dimensions['A']\n",
    "\n",
    "coluna_a.font = Font(bold=True)"
   ]
  },
  {
   "cell_type": "code",
   "execution_count": 39,
   "id": "37f6c363",
   "metadata": {},
   "outputs": [],
   "source": [
    "linha_1 = planilha.row_dimensions[1]\n",
    "linha_1.font = fonte_padrao"
   ]
  },
  {
   "cell_type": "code",
   "execution_count": 40,
   "id": "ce9e5dae",
   "metadata": {},
   "outputs": [],
   "source": [
    "for linha in planilha.iter_rows():\n",
    "    for celula in linha:\n",
    "        celula.font = fonte_padrao"
   ]
  },
  {
   "cell_type": "markdown",
   "id": "e38012bf",
   "metadata": {},
   "source": [
    "link para a documentação dos estilos  \n",
    "https://openpyxl.readthedocs.io/en/stable/_modules/index.html"
   ]
  },
  {
   "cell_type": "markdown",
   "id": "a2a7ad7e",
   "metadata": {},
   "source": [
    "# Desafio Final"
   ]
  },
  {
   "cell_type": "code",
   "execution_count": 7,
   "id": "5af3b285",
   "metadata": {},
   "outputs": [],
   "source": [
    "# Imports necessários\n",
    "from openpyxl.workbook import Workbook\n",
    "from openpyxl.drawing.image import Image\n",
    "from openpyxl.chart import BarChart, Reference, Series\n",
    "\n",
    "# Criar um workbook\n",
    "pasta = Workbook()\n",
    "\n",
    "# Renomear a planilha inicial e mudar as cores\n",
    "planilha_numeros = pasta.worksheets[0]\n",
    "planilha_numeros.title = 'Números'\n",
    "planilha_numeros.sheet_properties.tabColor = '8334eb'\n",
    "\n",
    "# Criando outras planilhas\n",
    "planilha_bylearn = pasta.create_sheet('ByLearn')\n",
    "planilha_bylearn.sheet_properties.tabColor = '34ebb7'\n",
    "\n",
    "planilha_imagem = pasta.create_sheet('Imagem')\n",
    "planilha_imagem.sheet_properties.tabColor = '80bf82'\n",
    "\n",
    "planilha_graficos = pasta.create_sheet('Gráficos')\n",
    "planilha_graficos.sheet_properties.tabColor = 'cf9a4c'\n",
    "\n",
    "# ------Planilha Números-------\n",
    "# Inserir valores de dois em dois\n",
    "# 5 linhas, 10 colunas\n",
    "\n",
    "i = 0\n",
    "for linha in range(5):\n",
    "    for coluna in range(10):\n",
    "        celula = planilha_numeros.cell(row = linha+1, column = coluna+1, value = i)\n",
    "        i += 2\n",
    "\n",
    "# ------Planilha ByLearn--------\n",
    "planilha_bylearn['a1'] = 'Rede Social'\n",
    "planilha_bylearn['b1'] = 'Link'\n",
    "\n",
    "# Lista com os valores\n",
    "lista = [\n",
    "    ['Facebook', '@bylearn'],\n",
    "    ['Instagram', '@bylearn'],\n",
    "    ['Youtube', '@bylearn'],\n",
    "    ['Dojô (blog)', 'dojo.bylearn.com.br']\n",
    "]\n",
    "\n",
    "# Insere linhas na planilha\n",
    "for linha in lista:\n",
    "    planilha_bylearn.append(linha)\n",
    "\n",
    "# -------Planilha Imagem------\n",
    "imagem = Image('bylearn.jpg')\n",
    "planilha_imagem.add_image(imagem, 'a1')\n",
    "\n",
    "# -------Planilha Gráficos------\n",
    "# criando os dados\n",
    "dados = [\n",
    "    ('Prova', 'Competidor 1', 'Competidor 2'),\n",
    "    ('Futebol', 10, 30),\n",
    "    ('Vôlei', 30, 10),\n",
    "    ('Basquete', 50, 39),\n",
    "    ('Natação', 8, 2),\n",
    "    ('Corrida', 3, 9)\n",
    "]\n",
    "\n",
    "# inserindo os dados na planilha\n",
    "for linha in dados:\n",
    "    planilha_graficos.append(linha)\n",
    "\n",
    "# criando o gráfico de barras\n",
    "grafico = BarChart()\n",
    "grafico.title = 'Competição Esportiva'\n",
    "grafico.y_axis.title = 'Pontuação'\n",
    "grafico.x_axis.title = 'Prova'\n",
    "\n",
    "# Configurando as referências\n",
    "pontuacao = Reference(planilha_graficos, min_col = 2, max_col=3, min_row = 1, max_row = 7)\n",
    "categorias_jogos = Reference(planilha_graficos, min_col = 1, max_col = 1, min_row=2, max_row = 7)\n",
    "\n",
    "# Configurando os valores no gráfico\n",
    "grafico.add_data(pontuacao, titles_from_data=True)\n",
    "\n",
    "# Configurando as categorias do gráfico\n",
    "grafico.set_categories(categorias_jogos)\n",
    "\n",
    "# Adicionar o gráfico\n",
    "planilha_graficos.add_chart(grafico, 'a10')\n",
    "\n",
    "\n",
    "# salvamos o arquivo\n",
    "pasta.save('Teste_arquivo_final.xlsx')"
   ]
  },
  {
   "cell_type": "code",
   "execution_count": null,
   "id": "b37e3837",
   "metadata": {},
   "outputs": [],
   "source": []
  }
 ],
 "metadata": {
  "kernelspec": {
   "display_name": "Python 3",
   "language": "python",
   "name": "python3"
  },
  "language_info": {
   "codemirror_mode": {
    "name": "ipython",
    "version": 3
   },
   "file_extension": ".py",
   "mimetype": "text/x-python",
   "name": "python",
   "nbconvert_exporter": "python",
   "pygments_lexer": "ipython3",
   "version": "3.8.8"
  }
 },
 "nbformat": 4,
 "nbformat_minor": 5
}
