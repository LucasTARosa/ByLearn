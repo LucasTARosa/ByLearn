{
 "cells": [
  {
   "cell_type": "markdown",
   "metadata": {},
   "source": [
    "# Necessidade de se trabalhar com listas\n",
    "A necessidade se dá pela repetição constante de vários valores do mesmo tipo, onde precisamos de uma maneira mais fácil de trabalhar com tais valores"
   ]
  },
  {
   "cell_type": "code",
   "execution_count": 1,
   "metadata": {},
   "outputs": [
    {
     "name": "stdout",
     "output_type": "stream",
     "text": [
      "60\n"
     ]
    }
   ],
   "source": [
    "def main ():\n",
    "    num1 = 10\n",
    "    num2 = 11\n",
    "    num3 = 12\n",
    "    num4 = 13\n",
    "    num5 = 14\n",
    "    soma = num1 + num2 + num3 + num4 + num5\n",
    "    print(soma)\n",
    "\n",
    "main()"
   ]
  },
  {
   "cell_type": "code",
   "execution_count": 4,
   "metadata": {},
   "outputs": [
    {
     "name": "stdout",
     "output_type": "stream",
     "text": [
      "O aluno Lucas ficou com a média de 9.0\n",
      "A aluna Luana ficou com a média de 8.666666666666666\n",
      "O aluno João ficou com a média de 7.333333333333333\n"
     ]
    }
   ],
   "source": [
    "def main():\n",
    "    aluno1 = 'Lucas'\n",
    "    aluno2 = 'Luana'\n",
    "    aluno3 = 'João'\n",
    "    prova1_1 = 8\n",
    "    prova1_2 = 10\n",
    "    prova1_3 = 9\n",
    "    prova2_1 = 10\n",
    "    prova2_2 = 9\n",
    "    prova2_3 = 7\n",
    "    prova3_1 = 9\n",
    "    prova3_2 = 8\n",
    "    prova3_3 = 5\n",
    "    media1 = (prova1_1 + prova2_1 + prova3_1) / 3\n",
    "    media2 = (prova2_1 + prova2_2 + prova2_3) / 3\n",
    "    media3 = (prova3_1 + prova3_2 + prova3_3) / 3\n",
    "    print(f'O aluno {aluno1} ficou com a média de {media1}')\n",
    "    print(f'A aluna {aluno2} ficou com a média de {media2}')\n",
    "    print(f'O aluno {aluno3} ficou com a média de {media3}')\n",
    "    \n",
    "main()"
   ]
  },
  {
   "cell_type": "markdown",
   "metadata": {},
   "source": [
    "**Motivação das listas**  \n",
    "Trabalhar com vários valores relacionados em uma só variável"
   ]
  },
  {
   "cell_type": "code",
   "execution_count": 5,
   "metadata": {},
   "outputs": [],
   "source": [
    "def main():\n",
    "    #Todos os possíveis alunos\n",
    "    #Lucas, Luana e João\n",
    "    # As notas respectivas dos alunos\n",
    "    \n",
    "    #média de [primeiro aluno] = [notas do 1º] / 2\n",
    "    # Para todos -> média do [atual] = notas do atual] / 2\n",
    "    pass"
   ]
  },
  {
   "cell_type": "markdown",
   "metadata": {},
   "source": [
    "## Criando listas\n",
    "Listas são tipos de dados que armazenam vários valores em uma variável.  \n",
    "Em listas, nós trabalhamos com índes.  \n",
    "**índices começam sempre por zero**"
   ]
  },
  {
   "cell_type": "code",
   "execution_count": 6,
   "metadata": {},
   "outputs": [],
   "source": [
    "alunos = ['Lucas', 'Luana', 'João']\n",
    "notas = [[8, 10, 9], [10, 9, 7], [9, 8, 5]]\n"
   ]
  },
  {
   "cell_type": "code",
   "execution_count": 7,
   "metadata": {},
   "outputs": [
    {
     "name": "stdout",
     "output_type": "stream",
     "text": [
      "Lucas\n",
      "Luana\n",
      "João\n"
     ]
    }
   ],
   "source": [
    "print(alunos[0])\n",
    "print(alunos[1])\n",
    "print(alunos[2])"
   ]
  },
  {
   "cell_type": "code",
   "execution_count": 10,
   "metadata": {},
   "outputs": [
    {
     "name": "stdout",
     "output_type": "stream",
     "text": [
      "Rafael\n"
     ]
    }
   ],
   "source": [
    "alunos[2] = 'Rafael' #Desta forma simples é possível atualizar um índice de uma lista\n",
    "print(alunos[2])"
   ]
  },
  {
   "cell_type": "code",
   "execution_count": 12,
   "metadata": {},
   "outputs": [
    {
     "name": "stdout",
     "output_type": "stream",
     "text": [
      "['Lucas', 'Luana', 'Rafael', 'Gustavo', 'Gustavo']\n",
      "Gustavo\n"
     ]
    }
   ],
   "source": [
    "alunos.append('Gustavo') #Com o método append é possível adicionar um item em uma dada lista\n",
    "print(alunos)\n",
    "print(alunos[3])"
   ]
  },
  {
   "cell_type": "markdown",
   "metadata": {},
   "source": [
    "## Métodos alternativos de criar listas"
   ]
  },
  {
   "cell_type": "code",
   "execution_count": 17,
   "metadata": {},
   "outputs": [],
   "source": [
    "lista = [1,2,3,4]\n",
    "lista2 = ['a','b','c']\n",
    "lista3 = ['a','b',2,3]\n",
    "lista_alunos = []"
   ]
  },
  {
   "cell_type": "code",
   "execution_count": 18,
   "metadata": {},
   "outputs": [],
   "source": [
    "#Funções built in são funções externas\n",
    "\n",
    "lista_built_in = list() #equivale a lista = []\n",
    "variavel_para_lista = 12\n",
    "lista_built_in_cheia = list(['a',2, variavel_para_lista])"
   ]
  },
  {
   "cell_type": "markdown",
   "metadata": {},
   "source": [
    "## Copiando uma lista para outra (atribuindo o valor)\n",
    " A lista B passa a referenciar a lista A, então, uma alteração em B também altera A (e vice-versa)."
   ]
  },
  {
   "cell_type": "code",
   "execution_count": 1,
   "metadata": {},
   "outputs": [
    {
     "name": "stdout",
     "output_type": "stream",
     "text": [
      "[1, 2, 3, 4]\n",
      "[1, 2, 3, 4]\n"
     ]
    }
   ],
   "source": [
    "lista_a = [1,2,3]\n",
    "lista_b = lista_a\n",
    "lista_b.append(4)\n",
    "print(lista_a)\n",
    "print(lista_b)"
   ]
  },
  {
   "cell_type": "markdown",
   "metadata": {},
   "source": [
    "## Clonar uma lista (passar os valores dela para outra\n",
    "Quando trabalhamos com colchetes ([:]), trabalhamos com os elementos da lista e não com o objeto dela."
   ]
  },
  {
   "cell_type": "code",
   "execution_count": 2,
   "metadata": {},
   "outputs": [
    {
     "name": "stdout",
     "output_type": "stream",
     "text": [
      "[1, 2, 3]\n",
      "[1, 2, 3, 4]\n"
     ]
    }
   ],
   "source": [
    "lista_a = [1, 2, 3]\n",
    "lista_b = lista_a[:]\n",
    "lista_b.append(4)\n",
    "print(lista_a)\n",
    "print(lista_b)"
   ]
  },
  {
   "cell_type": "markdown",
   "metadata": {},
   "source": [
    "## Recuperando elementos da lista\n",
    "Para pegar um valor da lista, usamos o índice do elemento que queremos"
   ]
  },
  {
   "cell_type": "code",
   "execution_count": 3,
   "metadata": {},
   "outputs": [
    {
     "name": "stdout",
     "output_type": "stream",
     "text": [
      "1\n",
      "2\n",
      "3\n"
     ]
    }
   ],
   "source": [
    "lista_a = [1, 2, 3]\n",
    "elemento1 = lista_a[0]\n",
    "elemento2 = lista_a[1]\n",
    "elemento3 = lista_a[2]\n",
    "print(elemento1)\n",
    "print(elemento2)\n",
    "print(elemento3)"
   ]
  },
  {
   "cell_type": "markdown",
   "metadata": {},
   "source": [
    "Para recuperarmos com mais de um elemento, vamos pegar uma **fatia** da lista  \n",
    "Fatia funciona da seguinte maneira:  \n",
    "- Nós queremos da posição X até a posição Y  \n",
    "- Então nós queremos [X:Y]  \n",
    "- Ou seja...[inicial : final]  \n",
    "\n",
    "Caso não tenha um dos valores da fatia, pegaremos TUDO daquele 'lado'  \n",
    "Exemplo:  \n",
    "- Para lista [1:4] -> Pegamos elementos entre 1 e 4  \n",
    "- Para lista [:4] -> Pegamos elementos até 4  \n",
    "- Para lista [2:] -> Pegamos elementos a partir do 2"
   ]
  },
  {
   "cell_type": "code",
   "execution_count": 4,
   "metadata": {},
   "outputs": [
    {
     "name": "stdout",
     "output_type": "stream",
     "text": [
      "[1, 2, 3]\n",
      "[0, 1, 2, 3]\n",
      "[2, 3, 4, 5, 6, 7, 8, 9, 10]\n"
     ]
    }
   ],
   "source": [
    "lista = [0,1,2,3,4,5,6,7,8,9,10]\n",
    "primeiro_teste = lista[1:4]\n",
    "segundo_teste = lista[:4]\n",
    "terceiro_teste = lista[2:]\n",
    "print(primeiro_teste)\n",
    "print(segundo_teste)\n",
    "print(terceiro_teste)"
   ]
  },
  {
   "cell_type": "markdown",
   "metadata": {},
   "source": [
    "### Sempre que trabalhamos com intervalos (range) o limite inferior é INCLUSIVO e o superior é EXCLUSIVO\n",
    "\n",
    "De maneira informal: O primeiro valor (menor) entra no intervalo, já o último valor(maior) não entra"
   ]
  },
  {
   "cell_type": "code",
   "execution_count": 5,
   "metadata": {},
   "outputs": [],
   "source": [
    "lista_a = [1, 2, 3]\n",
    "lista_b = lista_a[:] # DE TUDO : ATÉ TUDO = todos"
   ]
  },
  {
   "cell_type": "markdown",
   "metadata": {},
   "source": [
    "A fatia [:] significa \"pegue tudo da lista\""
   ]
  },
  {
   "cell_type": "markdown",
   "metadata": {},
   "source": [
    "## Juntando listas (join)\n",
    "Serve para 'somar' (juntar) duas ou mais listas"
   ]
  },
  {
   "cell_type": "code",
   "execution_count": 7,
   "metadata": {},
   "outputs": [
    {
     "name": "stdout",
     "output_type": "stream",
     "text": [
      "[1, 2, 3, 10, 9, 8, 10]\n"
     ]
    }
   ],
   "source": [
    "lista1 = [1,2,3]\n",
    "lista2 = [10,9]\n",
    "lista3 = [8,10]\n",
    "lista_soma = lista1 + lista2\n",
    "lista_soma = lista_soma + lista3\n",
    "print(lista_soma)"
   ]
  },
  {
   "cell_type": "code",
   "execution_count": 8,
   "metadata": {},
   "outputs": [
    {
     "name": "stdout",
     "output_type": "stream",
     "text": [
      "[1, 2, 3, 10, 9]\n",
      "[1, 2, 3, 10, 9, 8, 10]\n"
     ]
    }
   ],
   "source": [
    "lista1 = [1,2,3]\n",
    "lista2 = [10,9]\n",
    "lista3 = [8,10]\n",
    "lista_soma = lista1 + lista2\n",
    "print(lista_soma)\n",
    "lista_soma += lista3\n",
    "print(lista_soma)"
   ]
  },
  {
   "cell_type": "markdown",
   "metadata": {},
   "source": [
    "## Funções Nativas para listas"
   ]
  },
  {
   "cell_type": "markdown",
   "metadata": {},
   "source": [
    "### Primeira função: append()\n",
    "Esta função é utilizada para inserir um elemento na lista"
   ]
  },
  {
   "cell_type": "code",
   "execution_count": 9,
   "metadata": {},
   "outputs": [
    {
     "name": "stdout",
     "output_type": "stream",
     "text": [
      "['um', 'dois', 'três', 'quatro']\n"
     ]
    }
   ],
   "source": [
    "#append() -> insere um elemento na lista\n",
    "numeros = ['um']\n",
    "numeros.append('dois')\n",
    "numeros.append('três')\n",
    "numeros.append('quatro')\n",
    "print(numeros)"
   ]
  },
  {
   "cell_type": "markdown",
   "metadata": {},
   "source": [
    "## Segunda função: index()\n",
    "Esta função é utilizada para retornar o índice de um determinado elemento na lista"
   ]
  },
  {
   "cell_type": "code",
   "execution_count": 15,
   "metadata": {},
   "outputs": [
    {
     "name": "stdout",
     "output_type": "stream",
     "text": [
      "2\n",
      "Tonon\n"
     ]
    }
   ],
   "source": [
    "labiq = ['Tonon','Lucas','Luana','Eduardo']\n",
    "print(labiq.index('Luana'))\n",
    "print(labiq[0])"
   ]
  },
  {
   "cell_type": "markdown",
   "metadata": {},
   "source": [
    "## Extra: função in()\n",
    "Indica se o elemento está ou não na lista. Checa a existencia (ou não existencia) do elemento"
   ]
  },
  {
   "cell_type": "code",
   "execution_count": 19,
   "metadata": {
    "scrolled": true
   },
   "outputs": [
    {
     "data": {
      "text/plain": [
       "False"
      ]
     },
     "execution_count": 19,
     "metadata": {},
     "output_type": "execute_result"
    }
   ],
   "source": [
    "'Gioavane' in labiq"
   ]
  },
  {
   "cell_type": "code",
   "execution_count": 20,
   "metadata": {},
   "outputs": [
    {
     "data": {
      "text/plain": [
       "True"
      ]
     },
     "execution_count": 20,
     "metadata": {},
     "output_type": "execute_result"
    }
   ],
   "source": [
    "'Lucas' in labiq"
   ]
  },
  {
   "cell_type": "markdown",
   "metadata": {},
   "source": [
    "## Terceira função: insert()\n",
    "É utilizada para inserir um elemento na lista, mas diferente do append, é possível selecionar o índice em que este elemento é adicionado"
   ]
  },
  {
   "cell_type": "code",
   "execution_count": 16,
   "metadata": {},
   "outputs": [
    {
     "name": "stdout",
     "output_type": "stream",
     "text": [
      "['gato', 'cachorro', 'hamster']\n",
      "['gato', 'cachorro', 'hamster', 'furao']\n",
      "['gato', 'furão', 'cachorro', 'hamster']\n"
     ]
    }
   ],
   "source": [
    "animais = ['gato','cachorro','hamster']\n",
    "print(animais)\n",
    "animais.append('furao')\n",
    "print(animais)\n",
    "animais = ['gato','cachorro','hamster']\n",
    "animais.insert(1,'furão')\n",
    "print(animais)"
   ]
  },
  {
   "cell_type": "markdown",
   "metadata": {},
   "source": [
    "## Quarta função: remove()\n",
    "Remove um determinado elemento"
   ]
  },
  {
   "cell_type": "code",
   "execution_count": 21,
   "metadata": {},
   "outputs": [
    {
     "name": "stdout",
     "output_type": "stream",
     "text": [
      "['gato', 'cachorro', 'hamster']\n"
     ]
    }
   ],
   "source": [
    "animais.remove('furão')\n",
    "print(animais)"
   ]
  },
  {
   "cell_type": "markdown",
   "metadata": {},
   "source": [
    "## Quinta função: pop()\n",
    "Remove um elemento em um determinado índice"
   ]
  },
  {
   "cell_type": "code",
   "execution_count": 22,
   "metadata": {},
   "outputs": [
    {
     "name": "stdout",
     "output_type": "stream",
     "text": [
      "['gato', 'furão', 'cachorro', 'hamster']\n",
      "['gato', 'furão', 'hamster']\n"
     ]
    }
   ],
   "source": [
    "animais = ['gato', 'furão', 'cachorro', 'hamster']\n",
    "print(animais)\n",
    "animais.pop(2)\n",
    "print(animais)"
   ]
  },
  {
   "cell_type": "markdown",
   "metadata": {},
   "source": [
    "## Sexta função: del\n",
    "Remove um elemento em um determinado índice"
   ]
  },
  {
   "cell_type": "code",
   "execution_count": 23,
   "metadata": {},
   "outputs": [
    {
     "name": "stdout",
     "output_type": "stream",
     "text": [
      "['gato', 'furão', 'cachorro', 'hamster']\n",
      "['gato', 'furão', 'hamster']\n"
     ]
    }
   ],
   "source": [
    "animais = ['gato', 'furão', 'cachorro', 'hamster']\n",
    "print(animais)\n",
    "del(animais[2])\n",
    "print(animais)"
   ]
  },
  {
   "cell_type": "markdown",
   "metadata": {},
   "source": [
    "## Sétima função: sort()\n",
    "Ordena os nossos números"
   ]
  },
  {
   "cell_type": "code",
   "execution_count": 24,
   "metadata": {},
   "outputs": [
    {
     "name": "stdout",
     "output_type": "stream",
     "text": [
      "[4, 14, 11, 28, 12]\n",
      "[4, 11, 12, 14, 28]\n"
     ]
    }
   ],
   "source": [
    "aniversarios = [4,14,11,28,12]\n",
    "print(aniversarios)\n",
    "aniversarios.sort()\n",
    "print(aniversarios)"
   ]
  },
  {
   "cell_type": "markdown",
   "metadata": {},
   "source": [
    "## Oitava função: sorted \n",
    "também funciona para ordenar a lista"
   ]
  },
  {
   "cell_type": "code",
   "execution_count": 26,
   "metadata": {},
   "outputs": [
    {
     "name": "stdout",
     "output_type": "stream",
     "text": [
      "[4, 14, 11, 28, 12]\n",
      "[4, 11, 12, 14, 28]\n",
      "[4, 14, 11, 28, 12]\n"
     ]
    }
   ],
   "source": [
    "aniversarios = [4,14,11,28,12]\n",
    "print(aniversarios)\n",
    "print(sorted(aniversarios))\n",
    "print(aniversarios)"
   ]
  },
  {
   "cell_type": "markdown",
   "metadata": {},
   "source": [
    "A diferença entre sort e sorted é que o sort interage diretamente com a lista, alterando ela definitivamente. Já o sorted é uma ordenação \"temporária\""
   ]
  },
  {
   "cell_type": "markdown",
   "metadata": {},
   "source": [
    "## Manipulação de string"
   ]
  },
  {
   "cell_type": "code",
   "execution_count": 27,
   "metadata": {},
   "outputs": [
    {
     "name": "stdout",
     "output_type": "stream",
     "text": [
      "B\n",
      "y\n"
     ]
    }
   ],
   "source": [
    "#Caractere é uma letra só\n",
    "char = 'c'\n",
    "#String é um \"conjunto\" de caracteres\n",
    "string_palavra = 'Lucas'\n",
    "string_frase = 'O Lucas é muito legal'\n",
    "\n",
    "#Vetor (array) -> Sequencia de elementos do mesmo tipo\n",
    "#String é um vetor (array) de caracteres\n",
    "\n",
    "string = 'ByLearn'\n",
    "print(string[0])\n",
    "print(string[1])"
   ]
  },
  {
   "cell_type": "code",
   "execution_count": 28,
   "metadata": {},
   "outputs": [
    {
     "ename": "TypeError",
     "evalue": "'str' object does not support item assignment",
     "output_type": "error",
     "traceback": [
      "\u001b[1;31m---------------------------------------------------------------------------\u001b[0m",
      "\u001b[1;31mTypeError\u001b[0m                                 Traceback (most recent call last)",
      "\u001b[1;32m<ipython-input-28-38651dae39ba>\u001b[0m in \u001b[0;36m<module>\u001b[1;34m\u001b[0m\n\u001b[0;32m      1\u001b[0m \u001b[0mpalavra\u001b[0m \u001b[1;33m=\u001b[0m \u001b[1;34m'teste'\u001b[0m\u001b[1;33m\u001b[0m\u001b[1;33m\u001b[0m\u001b[0m\n\u001b[1;32m----> 2\u001b[1;33m \u001b[0mpalavra\u001b[0m\u001b[1;33m[\u001b[0m\u001b[1;36m2\u001b[0m\u001b[1;33m]\u001b[0m \u001b[1;33m=\u001b[0m \u001b[1;34m'z'\u001b[0m\u001b[1;33m\u001b[0m\u001b[1;33m\u001b[0m\u001b[0m\n\u001b[0m",
      "\u001b[1;31mTypeError\u001b[0m: 'str' object does not support item assignment"
     ]
    }
   ],
   "source": [
    "palavra = 'teste'\n",
    "palavra[2] = 'z'"
   ]
  },
  {
   "cell_type": "code",
   "execution_count": 29,
   "metadata": {},
   "outputs": [],
   "source": [
    "nova_palavra = palavra[:2] + 'z' + palavra[3:]"
   ]
  },
  {
   "cell_type": "code",
   "execution_count": 30,
   "metadata": {},
   "outputs": [
    {
     "name": "stdout",
     "output_type": "stream",
     "text": [
      "tezte\n"
     ]
    }
   ],
   "source": [
    "print(nova_palavra)"
   ]
  },
  {
   "cell_type": "markdown",
   "metadata": {},
   "source": [
    "Para realizar a troca de um índice em strings, é possível realizar o fatiamento da string"
   ]
  },
  {
   "cell_type": "code",
   "execution_count": 31,
   "metadata": {},
   "outputs": [
    {
     "name": "stdout",
     "output_type": "stream",
     "text": [
      "f\n"
     ]
    }
   ],
   "source": [
    "palavra = 'abcdef'\n",
    "print(palavra[-1])"
   ]
  },
  {
   "cell_type": "code",
   "execution_count": 32,
   "metadata": {},
   "outputs": [],
   "source": [
    "nova_palavra = palavra[:] + 'ghijkl'"
   ]
  },
  {
   "cell_type": "code",
   "execution_count": 33,
   "metadata": {},
   "outputs": [
    {
     "name": "stdout",
     "output_type": "stream",
     "text": [
      "abcdefghijkl\n"
     ]
    }
   ],
   "source": [
    "print(nova_palavra)"
   ]
  },
  {
   "cell_type": "markdown",
   "metadata": {},
   "source": [
    "### Pesquisa em strings"
   ]
  },
  {
   "cell_type": "code",
   "execution_count": 34,
   "metadata": {},
   "outputs": [
    {
     "data": {
      "text/plain": [
       "True"
      ]
     },
     "execution_count": 34,
     "metadata": {},
     "output_type": "execute_result"
    }
   ],
   "source": [
    "'b' in 'abc'"
   ]
  },
  {
   "cell_type": "code",
   "execution_count": 35,
   "metadata": {},
   "outputs": [
    {
     "data": {
      "text/plain": [
       "False"
      ]
     },
     "execution_count": 35,
     "metadata": {},
     "output_type": "execute_result"
    }
   ],
   "source": [
    "'d' in 'abc'"
   ]
  },
  {
   "cell_type": "code",
   "execution_count": 36,
   "metadata": {},
   "outputs": [
    {
     "data": {
      "text/plain": [
       "False"
      ]
     },
     "execution_count": 36,
     "metadata": {},
     "output_type": "execute_result"
    }
   ],
   "source": [
    "'b' not in 'abc'"
   ]
  },
  {
   "cell_type": "code",
   "execution_count": 37,
   "metadata": {},
   "outputs": [
    {
     "data": {
      "text/plain": [
       "True"
      ]
     },
     "execution_count": 37,
     "metadata": {},
     "output_type": "execute_result"
    }
   ],
   "source": [
    "'d' not in 'abc'"
   ]
  },
  {
   "cell_type": "code",
   "execution_count": 38,
   "metadata": {},
   "outputs": [
    {
     "name": "stdout",
     "output_type": "stream",
     "text": [
      "Lucas\n"
     ]
    }
   ],
   "source": [
    "string = 'Lu' + 'cas'\n",
    "print(string)"
   ]
  },
  {
   "cell_type": "code",
   "execution_count": 39,
   "metadata": {},
   "outputs": [
    {
     "name": "stdout",
     "output_type": "stream",
     "text": [
      "LuCas\n"
     ]
    }
   ],
   "source": [
    "string2 = 'Lu' + 'Cas'\n",
    "print(string2)"
   ]
  },
  {
   "cell_type": "markdown",
   "metadata": {},
   "source": [
    "**alterar entre minúsculo e maiúsculo**"
   ]
  },
  {
   "cell_type": "code",
   "execution_count": 40,
   "metadata": {},
   "outputs": [
    {
     "name": "stdout",
     "output_type": "stream",
     "text": [
      "Lucas\n"
     ]
    }
   ],
   "source": [
    "string3 = 'Lu' + 'Cas'.lower()\n",
    "print(string3)"
   ]
  },
  {
   "cell_type": "code",
   "execution_count": 41,
   "metadata": {},
   "outputs": [
    {
     "name": "stdout",
     "output_type": "stream",
     "text": [
      "LuCAS\n"
     ]
    }
   ],
   "source": [
    "string4 = 'Lu' + 'Cas'.upper()\n",
    "print(string4)"
   ]
  },
  {
   "cell_type": "markdown",
   "metadata": {},
   "source": [
    "**Tamanho da string**"
   ]
  },
  {
   "cell_type": "code",
   "execution_count": 42,
   "metadata": {},
   "outputs": [
    {
     "name": "stdout",
     "output_type": "stream",
     "text": [
      "5\n"
     ]
    }
   ],
   "source": [
    "teste = 'teste'\n",
    "print(len(teste))"
   ]
  },
  {
   "cell_type": "code",
   "execution_count": 43,
   "metadata": {},
   "outputs": [
    {
     "name": "stdout",
     "output_type": "stream",
     "text": [
      "['t', 'e', 's', 't', 'e']\n",
      "5\n"
     ]
    }
   ],
   "source": [
    "lista = ['t','e','s','t','e']\n",
    "print(lista)\n",
    "print(len(lista))"
   ]
  },
  {
   "cell_type": "markdown",
   "metadata": {},
   "source": [
    "**Checar se todos os caracteres são letras**"
   ]
  },
  {
   "cell_type": "code",
   "execution_count": 46,
   "metadata": {},
   "outputs": [
    {
     "name": "stdout",
     "output_type": "stream",
     "text": [
      "True\n",
      "False\n",
      "False\n",
      "False\n"
     ]
    }
   ],
   "source": [
    "print('abc'.isalpha())\n",
    "print('1fg'.isalpha())\n",
    "print('123'.isalpha())\n",
    "print('_+20-;'.isalpha())"
   ]
  },
  {
   "cell_type": "code",
   "execution_count": 45,
   "metadata": {},
   "outputs": [
    {
     "name": "stdout",
     "output_type": "stream",
     "text": [
      "<class 'int'>\n",
      "<class 'str'>\n"
     ]
    }
   ],
   "source": [
    "numero = 123\n",
    "print(type(numero))\n",
    "print(type(str(numero)))"
   ]
  },
  {
   "cell_type": "markdown",
   "metadata": {},
   "source": [
    "**Remover espaços em branco tanto no início quanto no fim**"
   ]
  },
  {
   "cell_type": "code",
   "execution_count": 47,
   "metadata": {},
   "outputs": [
    {
     "data": {
      "text/plain": [
       "'Sobrando espaços'"
      ]
     },
     "execution_count": 47,
     "metadata": {},
     "output_type": "execute_result"
    }
   ],
   "source": [
    "'   Sobrando espaços    '.strip()"
   ]
  },
  {
   "cell_type": "markdown",
   "metadata": {},
   "source": [
    "**Juntas os itens da string através de um delimitador**"
   ]
  },
  {
   "cell_type": "code",
   "execution_count": 48,
   "metadata": {},
   "outputs": [
    {
     "data": {
      "text/plain": [
       "'a,b,c'"
      ]
     },
     "execution_count": 48,
     "metadata": {},
     "output_type": "execute_result"
    }
   ],
   "source": [
    "','.join('abc')"
   ]
  },
  {
   "cell_type": "code",
   "execution_count": 49,
   "metadata": {},
   "outputs": [
    {
     "data": {
      "text/plain": [
       "'a, b, c'"
      ]
     },
     "execution_count": 49,
     "metadata": {},
     "output_type": "execute_result"
    }
   ],
   "source": [
    "', '.join('abc')"
   ]
  },
  {
   "cell_type": "markdown",
   "metadata": {},
   "source": [
    "**Separar uma string através de um delimitador**"
   ]
  },
  {
   "cell_type": "code",
   "execution_count": 50,
   "metadata": {},
   "outputs": [
    {
     "data": {
      "text/plain": [
       "['n', 'o', 'm', 'e']"
      ]
     },
     "execution_count": 50,
     "metadata": {},
     "output_type": "execute_result"
    }
   ],
   "source": [
    "string = 'n o m e'\n",
    "string.split()"
   ]
  },
  {
   "cell_type": "code",
   "execution_count": 52,
   "metadata": {},
   "outputs": [
    {
     "data": {
      "text/plain": [
       "['n', 'o', 'm', 'e']"
      ]
     },
     "execution_count": 52,
     "metadata": {},
     "output_type": "execute_result"
    }
   ],
   "source": [
    "string = 'n,o,m,e'\n",
    "string.split(',')"
   ]
  },
  {
   "cell_type": "code",
   "execution_count": 53,
   "metadata": {},
   "outputs": [
    {
     "data": {
      "text/plain": [
       "['nome']"
      ]
     },
     "execution_count": 53,
     "metadata": {},
     "output_type": "execute_result"
    }
   ],
   "source": [
    "string = 'nome'\n",
    "string.split()"
   ]
  },
  {
   "cell_type": "code",
   "execution_count": null,
   "metadata": {},
   "outputs": [],
   "source": []
  }
 ],
 "metadata": {
  "kernelspec": {
   "display_name": "Python 3",
   "language": "python",
   "name": "python3"
  },
  "language_info": {
   "codemirror_mode": {
    "name": "ipython",
    "version": 3
   },
   "file_extension": ".py",
   "mimetype": "text/x-python",
   "name": "python",
   "nbconvert_exporter": "python",
   "pygments_lexer": "ipython3",
   "version": "3.8.5"
  }
 },
 "nbformat": 4,
 "nbformat_minor": 4
}
