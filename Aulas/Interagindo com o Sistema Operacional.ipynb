{
 "cells": [
  {
   "cell_type": "markdown",
   "metadata": {},
   "source": [
    "# Interagindo com o Sistem Operacional\n",
    "\n",
    "Para interagirmos com o Sistema Operacional, precisamos do pacote OS"
   ]
  },
  {
   "cell_type": "code",
   "execution_count": 2,
   "metadata": {},
   "outputs": [],
   "source": [
    "import os"
   ]
  },
  {
   "cell_type": "markdown",
   "metadata": {},
   "source": [
    "Para pegar o nome do sistema operacional, usamos **os.name**"
   ]
  },
  {
   "cell_type": "code",
   "execution_count": 2,
   "metadata": {},
   "outputs": [
    {
     "data": {
      "text/plain": [
       "'nt'"
      ]
     },
     "execution_count": 2,
     "metadata": {},
     "output_type": "execute_result"
    }
   ],
   "source": [
    "os.name # nt = windows"
   ]
  },
  {
   "cell_type": "markdown",
   "metadata": {},
   "source": [
    "Também podemos pegar através do namespace **platform**, usando o **platform.system()**"
   ]
  },
  {
   "cell_type": "code",
   "execution_count": 4,
   "metadata": {},
   "outputs": [
    {
     "data": {
      "text/plain": [
       "'Windows'"
      ]
     },
     "execution_count": 4,
     "metadata": {},
     "output_type": "execute_result"
    }
   ],
   "source": [
    "import platform # verificação da plataforma\n",
    "platform.system()"
   ]
  },
  {
   "cell_type": "markdown",
   "metadata": {},
   "source": [
    "Para pegar informações do ambiente, como valores de diretórios importantes, utilizamos o **os.environ**"
   ]
  },
  {
   "cell_type": "code",
   "execution_count": 7,
   "metadata": {},
   "outputs": [
    {
     "data": {
      "text/plain": [
       "environ{'ALLUSERSPROFILE': 'C:\\\\ProgramData',\n",
       "        'APPDATA': 'C:\\\\Users\\\\Lucas\\\\AppData\\\\Roaming',\n",
       "        'CHOCOLATEYINSTALL': 'C:\\\\ProgramData\\\\chocolatey',\n",
       "        'CHOCOLATEYLASTPATHUPDATE': '132665244538380752',\n",
       "        'COMMONPROGRAMFILES': 'C:\\\\Program Files\\\\Common Files',\n",
       "        'COMMONPROGRAMFILES(X86)': 'C:\\\\Program Files (x86)\\\\Common Files',\n",
       "        'COMMONPROGRAMW6432': 'C:\\\\Program Files\\\\Common Files',\n",
       "        'COMPUTERNAME': 'LUCAS',\n",
       "        'COMSPEC': 'C:\\\\WINDOWS\\\\system32\\\\cmd.exe',\n",
       "        'DRIVERDATA': 'C:\\\\Windows\\\\System32\\\\Drivers\\\\DriverData',\n",
       "        'GRADLE_HOME': 'D:\\\\Programas\\\\Gradle\\\\gradle-7.0',\n",
       "        'HOMEDRIVE': 'C:',\n",
       "        'HOMEPATH': '\\\\Users\\\\Lucas',\n",
       "        'INTELLIJ IDEA COMMUNITY EDITION': 'D:\\\\Programas\\\\IntelliJ IDEA Community Edition 2021.1\\\\bin;',\n",
       "        'JAVA_HOME': 'D:\\\\Programas\\\\Java\\\\Java 11',\n",
       "        'LOCALAPPDATA': 'C:\\\\Users\\\\Lucas\\\\AppData\\\\Local',\n",
       "        'LOGONSERVER': '\\\\\\\\LUCAS',\n",
       "        'MAVEN_HOME': 'D:\\\\Programas\\\\apache-maven-3.8.1',\n",
       "        'NUMBER_OF_PROCESSORS': '6',\n",
       "        'OMP_NUM_THREADS': '6',\n",
       "        'ONEDRIVE': 'C:\\\\Users\\\\Lucas\\\\OneDrive',\n",
       "        'ONEDRIVECONSUMER': 'C:\\\\Users\\\\Lucas\\\\OneDrive',\n",
       "        'OS': 'Windows_NT',\n",
       "        'PATH': 'D:\\\\Programas\\\\Anaconda3;D:\\\\Programas\\\\Anaconda3\\\\Library\\\\mingw-w64\\\\bin;D:\\\\Programas\\\\Anaconda3\\\\Library\\\\usr\\\\bin;D:\\\\Programas\\\\Anaconda3\\\\Library\\\\bin;D:\\\\Programas\\\\Anaconda3\\\\Scripts;C:\\\\Python39\\\\Scripts\\\\;C:\\\\Python39\\\\;D:\\\\Programas\\\\Anaconda3;D:\\\\Programas\\\\Anaconda3\\\\Library\\\\mingw-w64\\\\bin;D:\\\\Programas\\\\Anaconda3\\\\Library\\\\usr\\\\bin;D:\\\\Programas\\\\Anaconda3\\\\Library\\\\bin;D:\\\\Programas\\\\Anaconda3\\\\Scripts;C:\\\\Program Files\\\\Common Files\\\\Oracle\\\\Java\\\\javapath;C:\\\\Windows\\\\system32;C:\\\\Windows;C:\\\\Windows\\\\System32\\\\Wbem;C:\\\\Windows\\\\System32\\\\WindowsPowerShell\\\\v1.0\\\\;C:\\\\Windows\\\\System32\\\\OpenSSH\\\\;C:\\\\Program Files (x86)\\\\Intel\\\\Intel(R) Management Engine Components\\\\DAL;C:\\\\Program Files\\\\Intel\\\\Intel(R) Management Engine Components\\\\DAL;C:\\\\Program Files\\\\NVIDIA Corporation\\\\NVIDIA NvDLISR;C:\\\\Program Files (x86)\\\\NVIDIA Corporation\\\\PhysX\\\\Common;C:\\\\WINDOWS\\\\system32;C:\\\\WINDOWS;C:\\\\WINDOWS\\\\System32\\\\Wbem;C:\\\\WINDOWS\\\\System32\\\\WindowsPowerShell\\\\v1.0\\\\;C:\\\\WINDOWS\\\\System32\\\\OpenSSH\\\\;C:\\\\Program Files\\\\Microsoft SQL Server\\\\120\\\\Tools\\\\Binn\\\\;C:\\\\Program Files\\\\Git\\\\cmd;C:\\\\Program Files\\\\MongoDB\\\\Server\\\\4.4\\\\bin;D:\\\\Programas\\\\apache-maven-3.8.1\\\\bin;D:\\\\Programas\\\\Gradle\\\\gradle-7.0\\\\bin;D:\\\\Programas\\\\Java\\\\Java 11\\\\bin;D:\\\\Programas\\\\NojeJS\\\\;C:\\\\ProgramData\\\\chocolatey\\\\bin;C:\\\\Users\\\\Lucas\\\\AppData\\\\Local\\\\Microsoft\\\\WindowsApps;D:\\\\Programas\\\\IntelliJ IDEA Community Edition 2021.1\\\\bin;;D:\\\\Programas\\\\Microsoft VS Code\\\\bin;C:\\\\Program Files\\\\JetBrains\\\\PyCharm Community Edition 2021.1.1\\\\bin;;C:\\\\Users\\\\Lucas\\\\AppData\\\\Roaming\\\\npm',\n",
       "        'PATHEXT': '.COM;.EXE;.BAT;.CMD;.VBS;.VBE;.JS;.JSE;.WSF;.WSH;.MSC;.PY;.PYW',\n",
       "        'PROCESSOR_ARCHITECTURE': 'AMD64',\n",
       "        'PROCESSOR_IDENTIFIER': 'Intel64 Family 6 Model 158 Stepping 13, GenuineIntel',\n",
       "        'PROCESSOR_LEVEL': '6',\n",
       "        'PROCESSOR_REVISION': '9e0d',\n",
       "        'PROGRAMDATA': 'C:\\\\ProgramData',\n",
       "        'PROGRAMFILES': 'C:\\\\Program Files',\n",
       "        'PROGRAMFILES(X86)': 'C:\\\\Program Files (x86)',\n",
       "        'PROGRAMW6432': 'C:\\\\Program Files',\n",
       "        'PSMODULEPATH': 'C:\\\\Program Files\\\\WindowsPowerShell\\\\Modules;C:\\\\WINDOWS\\\\system32\\\\WindowsPowerShell\\\\v1.0\\\\Modules;C:\\\\Program Files\\\\Intel\\\\Wired Networking\\\\',\n",
       "        'PUBLIC': 'C:\\\\Users\\\\Public',\n",
       "        'PYCHARM COMMUNITY EDITION': 'C:\\\\Program Files\\\\JetBrains\\\\PyCharm Community Edition 2021.1.1\\\\bin;',\n",
       "        'RTOOLS40_HOME': 'D:\\\\Programas\\\\rtools40',\n",
       "        'SESSIONNAME': 'Console',\n",
       "        'SYSTEMDRIVE': 'C:',\n",
       "        'SYSTEMROOT': 'C:\\\\WINDOWS',\n",
       "        'TEMP': 'C:\\\\Users\\\\Lucas\\\\AppData\\\\Local\\\\Temp',\n",
       "        'TMP': 'C:\\\\Users\\\\Lucas\\\\AppData\\\\Local\\\\Temp',\n",
       "        'USERDOMAIN': 'LUCAS',\n",
       "        'USERDOMAIN_ROAMINGPROFILE': 'LUCAS',\n",
       "        'USERNAME': 'Lucas',\n",
       "        'USERPROFILE': 'C:\\\\Users\\\\Lucas',\n",
       "        'WINDIR': 'C:\\\\WINDOWS',\n",
       "        'CONDA_PREFIX': 'D:\\\\Programas\\\\Anaconda3',\n",
       "        'JPY_INTERRUPT_EVENT': '2560',\n",
       "        'IPY_INTERRUPT_EVENT': '2560',\n",
       "        'JPY_PARENT_PID': '2552',\n",
       "        'TERM': 'xterm-color',\n",
       "        'CLICOLOR': '1',\n",
       "        'PAGER': 'cat',\n",
       "        'GIT_PAGER': 'cat',\n",
       "        'MPLBACKEND': 'module://ipykernel.pylab.backend_inline'}"
      ]
     },
     "execution_count": 7,
     "metadata": {},
     "output_type": "execute_result"
    }
   ],
   "source": [
    "os.environ"
   ]
  },
  {
   "cell_type": "markdown",
   "metadata": {},
   "source": [
    "Para pegar o id do meu processo atual, utilizamos o **os.getpid()**"
   ]
  },
  {
   "cell_type": "code",
   "execution_count": 9,
   "metadata": {},
   "outputs": [
    {
     "data": {
      "text/plain": [
       "18148"
      ]
     },
     "execution_count": 9,
     "metadata": {},
     "output_type": "execute_result"
    }
   ],
   "source": [
    "os.getpid()"
   ]
  },
  {
   "cell_type": "markdown",
   "metadata": {},
   "source": [
    "Para pegar o diretório atual, eu utilizo **os.getcwd**"
   ]
  },
  {
   "cell_type": "code",
   "execution_count": 3,
   "metadata": {},
   "outputs": [
    {
     "data": {
      "text/plain": [
       "'C:\\\\Users\\\\Lucas\\\\Videos\\\\ByLearn\\\\Curso Python\\\\Aulas\\\\Interagindo com o sistema operacional'"
      ]
     },
     "execution_count": 3,
     "metadata": {},
     "output_type": "execute_result"
    }
   ],
   "source": [
    "os.getcwd()"
   ]
  },
  {
   "cell_type": "markdown",
   "metadata": {},
   "source": [
    "Para pegarmos informações do arquivo atual usamos **__file__**  \n",
    "Para pegarmos apenas o nome do arquivo **os.path.basename(__file__)**  \n",
    "Para pegarmos apenas o nome da pasta **os.path.dirname(__file__)**  \n",
    "Para pegarmos apenas o caminho absoluto **os.path.abspath(__file__)**"
   ]
  },
  {
   "cell_type": "code",
   "execution_count": null,
   "metadata": {},
   "outputs": [],
   "source": [
    "import os\n",
    "\n",
    "# Arquivo atual\n",
    "print('Arquivo atual:',__file__)\n",
    "\n",
    "print('---'*10)\n",
    "# Nome do arquivo\n",
    "print('O nome do arquivo atual é:',os.path.basename(__file__))\n",
    "\n",
    "print('---'*10)\n",
    "# Pasta do arquivo\n",
    "print('Pasta do arquivo:', os.path.dirname(__file__))\n",
    "\n",
    "print('---'*10)\n",
    "# Pasta absoluta\n",
    "print('Nome total (caminho absoluto):',os.path.abspath(__file__))"
   ]
  },
  {
   "cell_type": "markdown",
   "metadata": {},
   "source": [
    "Para listar um diretório, usamos **os.listdir()**  \n",
    "Como parâmetro, podemos enviar o caminho a ser listado.  \n",
    "Caso não enviarmos nenhum parâmetro, iremos ter o nosso diretório atual listado"
   ]
  },
  {
   "cell_type": "code",
   "execution_count": 4,
   "metadata": {},
   "outputs": [
    {
     "data": {
      "text/plain": [
       "['.ipynb_checkpoints',\n",
       " 'arquivo.py',\n",
       " 'Aula+16+-+Interagindo+com+o+Sistema+Operacional.rar',\n",
       " 'Interagindo com o Sistema Operacional.ipynb']"
      ]
     },
     "execution_count": 4,
     "metadata": {},
     "output_type": "execute_result"
    }
   ],
   "source": [
    "os.listdir()"
   ]
  },
  {
   "cell_type": "code",
   "execution_count": 6,
   "metadata": {},
   "outputs": [
    {
     "data": {
      "text/plain": [
       "['$Recycle.Bin',\n",
       " '$WINDOWS.~BT',\n",
       " '$Windows.~WS',\n",
       " '$WinREAgent',\n",
       " '$WINRE_BACKUP_PARTITION.MARKER',\n",
       " 'Autodesk',\n",
       " 'Documents and Settings',\n",
       " 'DumpStack.log',\n",
       " 'DumpStack.log.tmp',\n",
       " 'ESD',\n",
       " 'hiberfil.sys',\n",
       " 'Jogos',\n",
       " 'OneDriveTemp',\n",
       " 'pagefile.sys',\n",
       " 'Pearlabyss',\n",
       " 'PerfLogs',\n",
       " 'Program Files',\n",
       " 'Program Files (x86)',\n",
       " 'ProgramData',\n",
       " 'Python39',\n",
       " 'Recovery',\n",
       " 'swapfile.sys',\n",
       " 'System Volume Information',\n",
       " 'Users',\n",
       " 'Windows',\n",
       " 'Windows10Upgrade']"
      ]
     },
     "execution_count": 6,
     "metadata": {},
     "output_type": "execute_result"
    }
   ],
   "source": [
    "os.listdir('C:\\\\')"
   ]
  },
  {
   "cell_type": "markdown",
   "metadata": {},
   "source": [
    "Para criarmos uma nova pasta, podemos utilizar o comando **os.mkdir()**  \n",
    "Como parâmetro, vamos enviar o local e nome do nosso diretório.  \n",
    "Caso não se passe o local, a pasta será criada no local atual.  "
   ]
  },
  {
   "cell_type": "code",
   "execution_count": 8,
   "metadata": {},
   "outputs": [],
   "source": [
    "os.mkdir('Teste')"
   ]
  },
  {
   "cell_type": "code",
   "execution_count": 9,
   "metadata": {},
   "outputs": [
    {
     "data": {
      "text/plain": [
       "['.ipynb_checkpoints',\n",
       " 'arquivo.py',\n",
       " 'Aula+16+-+Interagindo+com+o+Sistema+Operacional.rar',\n",
       " 'Interagindo com o Sistema Operacional.ipynb',\n",
       " 'Teste']"
      ]
     },
     "execution_count": 9,
     "metadata": {},
     "output_type": "execute_result"
    }
   ],
   "source": [
    "os.listdir()"
   ]
  },
  {
   "cell_type": "code",
   "execution_count": 10,
   "metadata": {},
   "outputs": [],
   "source": [
    "os.mkdir('teste\\segundo_teste')"
   ]
  },
  {
   "cell_type": "code",
   "execution_count": 11,
   "metadata": {},
   "outputs": [
    {
     "data": {
      "text/plain": [
       "['.ipynb_checkpoints',\n",
       " 'arquivo.py',\n",
       " 'Aula+16+-+Interagindo+com+o+Sistema+Operacional.rar',\n",
       " 'Interagindo com o Sistema Operacional.ipynb',\n",
       " 'Teste']"
      ]
     },
     "execution_count": 11,
     "metadata": {},
     "output_type": "execute_result"
    }
   ],
   "source": [
    "os.listdir()"
   ]
  },
  {
   "cell_type": "code",
   "execution_count": 12,
   "metadata": {},
   "outputs": [
    {
     "data": {
      "text/plain": [
       "['segundo_teste']"
      ]
     },
     "execution_count": 12,
     "metadata": {},
     "output_type": "execute_result"
    }
   ],
   "source": [
    "os.listdir('teste')"
   ]
  },
  {
   "cell_type": "markdown",
   "metadata": {},
   "source": [
    "**os.mkdir()** Não funciona com recursividade => Não funciona quando precisamos criar subdiretórios em diretórios não existentes ainda"
   ]
  },
  {
   "cell_type": "code",
   "execution_count": 13,
   "metadata": {
    "collapsed": true
   },
   "outputs": [
    {
     "ename": "OSError",
     "evalue": "[WinError 123] A sintaxe do nome do arquivo, do nome do diretório ou do rótulo do volume está incorreta: 'teste\\terceiro_teste\\\\quarto_teste'",
     "output_type": "error",
     "traceback": [
      "\u001b[1;31m---------------------------------------------------------------------------\u001b[0m",
      "\u001b[1;31mOSError\u001b[0m                                   Traceback (most recent call last)",
      "\u001b[1;32m<ipython-input-13-fb8cd11440ad>\u001b[0m in \u001b[0;36m<module>\u001b[1;34m\u001b[0m\n\u001b[1;32m----> 1\u001b[1;33m \u001b[0mos\u001b[0m\u001b[1;33m.\u001b[0m\u001b[0mmkdir\u001b[0m\u001b[1;33m(\u001b[0m\u001b[1;34m'teste\\terceiro_teste\\quarto_teste'\u001b[0m\u001b[1;33m)\u001b[0m \u001b[1;31m# Retorna erro, pois não funciona com recursividade =>\u001b[0m\u001b[1;33m\u001b[0m\u001b[1;33m\u001b[0m\u001b[0m\n\u001b[0m\u001b[0;32m      2\u001b[0m \u001b[1;31m# não funciona quando precisamos criar subdiretórios\u001b[0m\u001b[1;33m\u001b[0m\u001b[1;33m\u001b[0m\u001b[1;33m\u001b[0m\u001b[0m\n",
      "\u001b[1;31mOSError\u001b[0m: [WinError 123] A sintaxe do nome do arquivo, do nome do diretório ou do rótulo do volume está incorreta: 'teste\\terceiro_teste\\\\quarto_teste'"
     ]
    }
   ],
   "source": [
    "os.mkdir('teste\\terceiro_teste\\quarto_teste') # Retorna erro, pois não funciona com recursividade =>\n",
    "# não funciona quando precisamos criar subdiretórios"
   ]
  },
  {
   "cell_type": "markdown",
   "metadata": {},
   "source": [
    "Para casos recursivos, onde precisamos criar diretórios dentro de diretórios ainda não existentes, nós podemos utilizar o comando **os.makedirs()**"
   ]
  },
  {
   "cell_type": "code",
   "execution_count": 17,
   "metadata": {
    "collapsed": true
   },
   "outputs": [],
   "source": [
    "os.makedirs('teste\\\\terceiro_teste\\\\quarto_teste')"
   ]
  },
  {
   "cell_type": "markdown",
   "metadata": {},
   "source": [
    "Para renomear um arquivo ou diretório, utilizamos a função **os.rename()**  \n",
    "Para isso precisamos enviar 2 parâmetros, sendo eles: source(**Fonte/Origem**), destination (**Destino**)"
   ]
  },
  {
   "cell_type": "code",
   "execution_count": 19,
   "metadata": {},
   "outputs": [],
   "source": [
    "os.rename('teste\\\\arquivo.txt', 'teste\\\\arquivo2.txt')"
   ]
  },
  {
   "cell_type": "code",
   "execution_count": 20,
   "metadata": {},
   "outputs": [],
   "source": [
    "os.rename('teste\\\\segundo_teste','teste\\\\testando')"
   ]
  },
  {
   "cell_type": "markdown",
   "metadata": {},
   "source": [
    "Também consigo mover um arquivo ou diretório utilizando a função **os.rename()**  \n",
    "Conclusão: Podemos renomear *qualquer* parte do caminho, caso mudarmos apenas o nome da pasta, então estamos movendo o arquivo"
   ]
  },
  {
   "cell_type": "code",
   "execution_count": 21,
   "metadata": {},
   "outputs": [],
   "source": [
    "os.rename('Teste\\\\testando\\\\teste.txt','Teste\\\\testando2\\\\text.txt')"
   ]
  },
  {
   "cell_type": "markdown",
   "metadata": {},
   "source": [
    "Para copiarmos um arquivo para outro lugar, podemos utilizar o pacote **shutil**, mais especificamente a função **shutil.copy2**  \n",
    "Para isso precisamos enviar 2 parâmetros, sendo eles: source(**Fonte/Origem**), destination (**Destino**).    \n",
    "Caso não enviarmos o nome do arquivo, ele irá manter o nome original"
   ]
  },
  {
   "cell_type": "code",
   "execution_count": 22,
   "metadata": {},
   "outputs": [],
   "source": [
    "import shutil"
   ]
  },
  {
   "cell_type": "code",
   "execution_count": 23,
   "metadata": {},
   "outputs": [
    {
     "data": {
      "text/plain": [
       "'Teste\\\\testando\\\\testinho.txt'"
      ]
     },
     "execution_count": 23,
     "metadata": {},
     "output_type": "execute_result"
    }
   ],
   "source": [
    "shutil.copy2('Teste\\\\testando2\\\\text.txt','Teste\\\\testando\\\\testinho.txt')"
   ]
  },
  {
   "cell_type": "markdown",
   "metadata": {},
   "source": [
    "Para copiar um diretório inteiro, podemos utilizar o pacote **distutils.dir_util**, importando a função **copy_tree()**"
   ]
  },
  {
   "cell_type": "code",
   "execution_count": 24,
   "metadata": {},
   "outputs": [],
   "source": [
    "from distutils.dir_util import copy_tree"
   ]
  },
  {
   "cell_type": "code",
   "execution_count": 25,
   "metadata": {},
   "outputs": [
    {
     "data": {
      "text/plain": [
       "['Testinho2\\\\arquivo2.txt',\n",
       " 'Testinho2\\\\testando\\\\testinho.txt',\n",
       " 'Testinho2\\\\testando2\\\\text.txt']"
      ]
     },
     "execution_count": 25,
     "metadata": {},
     "output_type": "execute_result"
    }
   ],
   "source": [
    "copy_tree('Teste','Testinho2')"
   ]
  },
  {
   "cell_type": "markdown",
   "metadata": {},
   "source": [
    "Para remover arquivos, eu posso utilizar o **os.remove()**, passando a localização do arquivo por parâmetro  \n",
    "Não posso executar esta função para pastas (diretórios).  \n",
    "\n",
    "Podemos remover pastas vazias com o **os.removedirs()**, passando por parâmetro a localização da pasta.  \n",
    "\n",
    "Para removermos pastas cheias (com arquivos e pastas), podemos utilizar o **shutil.rmtree()**, passando por parâmetro a localização da pasta"
   ]
  },
  {
   "cell_type": "code",
   "execution_count": 26,
   "metadata": {},
   "outputs": [],
   "source": [
    "os.remove('Teste\\\\arquivo2.txt') # Não funciona com pastas (diretórios)"
   ]
  },
  {
   "cell_type": "code",
   "execution_count": 30,
   "metadata": {
    "collapsed": true
   },
   "outputs": [
    {
     "ename": "FileNotFoundError",
     "evalue": "[WinError 2] O sistema não pode encontrar o arquivo especificado: 'Teste\\\\pasta_vazia'",
     "output_type": "error",
     "traceback": [
      "\u001b[1;31m---------------------------------------------------------------------------\u001b[0m",
      "\u001b[1;31mFileNotFoundError\u001b[0m                         Traceback (most recent call last)",
      "\u001b[1;32m<ipython-input-30-c2447a9a9ae2>\u001b[0m in \u001b[0;36m<module>\u001b[1;34m\u001b[0m\n\u001b[1;32m----> 1\u001b[1;33m \u001b[0mos\u001b[0m\u001b[1;33m.\u001b[0m\u001b[0mremovedirs\u001b[0m\u001b[1;33m(\u001b[0m\u001b[1;34m'Teste\\\\pasta_vazia'\u001b[0m\u001b[1;33m)\u001b[0m \u001b[1;31m# Remove apenas pastas vazias\u001b[0m\u001b[1;33m\u001b[0m\u001b[1;33m\u001b[0m\u001b[0m\n\u001b[0m",
      "\u001b[1;32mD:\\Programas\\Anaconda3\\lib\\os.py\u001b[0m in \u001b[0;36mremovedirs\u001b[1;34m(name)\u001b[0m\n\u001b[0;32m    239\u001b[0m \u001b[1;33m\u001b[0m\u001b[0m\n\u001b[0;32m    240\u001b[0m     \"\"\"\n\u001b[1;32m--> 241\u001b[1;33m     \u001b[0mrmdir\u001b[0m\u001b[1;33m(\u001b[0m\u001b[0mname\u001b[0m\u001b[1;33m)\u001b[0m\u001b[1;33m\u001b[0m\u001b[1;33m\u001b[0m\u001b[0m\n\u001b[0m\u001b[0;32m    242\u001b[0m     \u001b[0mhead\u001b[0m\u001b[1;33m,\u001b[0m \u001b[0mtail\u001b[0m \u001b[1;33m=\u001b[0m \u001b[0mpath\u001b[0m\u001b[1;33m.\u001b[0m\u001b[0msplit\u001b[0m\u001b[1;33m(\u001b[0m\u001b[0mname\u001b[0m\u001b[1;33m)\u001b[0m\u001b[1;33m\u001b[0m\u001b[1;33m\u001b[0m\u001b[0m\n\u001b[0;32m    243\u001b[0m     \u001b[1;32mif\u001b[0m \u001b[1;32mnot\u001b[0m \u001b[0mtail\u001b[0m\u001b[1;33m:\u001b[0m\u001b[1;33m\u001b[0m\u001b[1;33m\u001b[0m\u001b[0m\n",
      "\u001b[1;31mFileNotFoundError\u001b[0m: [WinError 2] O sistema não pode encontrar o arquivo especificado: 'Teste\\\\pasta_vazia'"
     ]
    }
   ],
   "source": [
    "os.removedirs('Teste\\\\pasta_vazia') # Remove apenas pastas vazias"
   ]
  },
  {
   "cell_type": "code",
   "execution_count": 31,
   "metadata": {},
   "outputs": [],
   "source": [
    "shutil.rmtree('Teste\\\\terceiro_teste') # Remove tudo"
   ]
  },
  {
   "cell_type": "markdown",
   "metadata": {},
   "source": [
    "## Desafio!"
   ]
  },
  {
   "cell_type": "code",
   "execution_count": 32,
   "metadata": {},
   "outputs": [],
   "source": [
    "os.mkdir('desafio\\\\desafio_1')"
   ]
  },
  {
   "cell_type": "markdown",
   "metadata": {},
   "source": [
    "Para saber se uma **pasta** existe, eu posso usar o **os.path.isdir()**, passando o caminho da pasta como parâmetro  \n",
    "Para saber se um **arquivo** existe, eu posso usar o **os.path.isfile()**, passando o caminho do arquivo como parâmetro"
   ]
  },
  {
   "cell_type": "code",
   "execution_count": 33,
   "metadata": {},
   "outputs": [],
   "source": [
    "import os.path"
   ]
  },
  {
   "cell_type": "code",
   "execution_count": 34,
   "metadata": {},
   "outputs": [
    {
     "data": {
      "text/plain": [
       "True"
      ]
     },
     "execution_count": 34,
     "metadata": {},
     "output_type": "execute_result"
    }
   ],
   "source": [
    "os.path.isdir('desafio')"
   ]
  },
  {
   "cell_type": "code",
   "execution_count": 36,
   "metadata": {},
   "outputs": [],
   "source": [
    "if (not os.path.isdir('desafio')):\n",
    "    os.mkdir('desafio')\n",
    "\n",
    "if (not os.path.isdir('desafio\\\\teste')):\n",
    "    os.mkdir('desafio\\\\teste')"
   ]
  },
  {
   "cell_type": "code",
   "execution_count": 37,
   "metadata": {},
   "outputs": [
    {
     "name": "stdout",
     "output_type": "stream",
     "text": [
      "Arquivo existe\n"
     ]
    }
   ],
   "source": [
    "if (not os.path.isfile('desafio\\\\arquivo.txt')):\n",
    "    print('Arquivo não existe')\n",
    "else:\n",
    "    print('Arquivo existe')"
   ]
  },
  {
   "cell_type": "code",
   "execution_count": null,
   "metadata": {},
   "outputs": [],
   "source": [
    "open('desafio\\\\arquivo.txt', 'w') # Write => Deleta o conteúdo\n",
    "open('desafio\\\\arquivo.txt', 'w+') # Write+ => Cria caso o arquivo não existir\n",
    "open('desafio\\\\arquivo.txt', 'a') # Append => Não deleta o conteúdo"
   ]
  },
  {
   "cell_type": "code",
   "execution_count": 41,
   "metadata": {},
   "outputs": [
    {
     "data": {
      "text/plain": [
       "<_io.TextIOWrapper name='desafio\\\\nome.txt' mode='w+' encoding='cp1252'>"
      ]
     },
     "execution_count": 41,
     "metadata": {},
     "output_type": "execute_result"
    }
   ],
   "source": [
    "open('desafio\\\\nome.txt', 'w+')"
   ]
  },
  {
   "cell_type": "markdown",
   "metadata": {},
   "source": [
    "## Desafio - Pasta e subpastas\n",
    "Criar 10 pastas, onde cada pasta possui 10 arquivos"
   ]
  },
  {
   "cell_type": "code",
   "execution_count": 44,
   "metadata": {},
   "outputs": [],
   "source": [
    "import os\n",
    "\n",
    "diretorio = 'desafio'\n",
    "\n",
    "if not os.path.exists(diretorio):\n",
    "    os.mkdir(diretorio)\n",
    "\n",
    "for i in range(1,51):\n",
    "    if not os.path.exists(diretorio+'\\\\pasta_'+str(i)): # desafio\\\\pasta_\n",
    "        os.mkdir(diretorio+'\\\\pasta_'+str(i))\n",
    "    for j in range(1,51):\n",
    "        open(diretorio+'\\\\pasta_'+str(i)+'\\\\arquivo_'+str(j)+'.txt','w+') # desafio\\\\pasta_{i}\\\\arquivo_{j}.txt"
   ]
  },
  {
   "cell_type": "code",
   "execution_count": null,
   "metadata": {},
   "outputs": [],
   "source": []
  }
 ],
 "metadata": {
  "kernelspec": {
   "display_name": "Python 3",
   "language": "python",
   "name": "python3"
  },
  "language_info": {
   "codemirror_mode": {
    "name": "ipython",
    "version": 3
   },
   "file_extension": ".py",
   "mimetype": "text/x-python",
   "name": "python",
   "nbconvert_exporter": "python",
   "pygments_lexer": "ipython3",
   "version": "3.8.5"
  }
 },
 "nbformat": 4,
 "nbformat_minor": 4
}
