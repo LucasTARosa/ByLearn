{
 "cells": [
  {
   "cell_type": "markdown",
   "metadata": {},
   "source": [
    "# Manipulação de arquivos  "
   ]
  },
  {
   "cell_type": "markdown",
   "metadata": {},
   "source": [
    "# Caminhos de abertura\n",
    "\n",
    "- Caminhos relativos => A partir da pasta atual\n",
    "    - Ex: arquivos//arquivo.txt\n",
    "- Arquivos na pasta atual => apenas o nome do arquivo\n",
    "    - Ex: arquivo.txt\n",
    "- Caminho total => todo o caminho\n",
    "    - Ex: C://caminho//arquivo.txt"
   ]
  },
  {
   "cell_type": "markdown",
   "metadata": {},
   "source": [
    "## Permissões de abertura\n",
    "- 'r' = read => apenas leitura (permissão padrão do Python)\n",
    "- 'a' = append => ler e escrever sem deletar o conteúdo (adicionar conteúdo)\n",
    "- 'w' = write => escrever no arquivo a partir do zero (deleta o conteúdo)\n",
    "- 'w+' = write+ => escrever no arquivo a partir do zero (deletando o conteúdo) e criando caso não exista"
   ]
  },
  {
   "cell_type": "markdown",
   "metadata": {},
   "source": [
    "## Tipos de leitura\n",
    "- 't' = text => arquivo de texto\n",
    "- 'b' = binary => arquivo binário (como imagens)"
   ]
  },
  {
   "cell_type": "code",
   "execution_count": 2,
   "metadata": {},
   "outputs": [
    {
     "name": "stdout",
     "output_type": "stream",
     "text": [
      "<_io.TextIOWrapper name='arquivo.txt' mode='r' encoding='cp1252'>\n"
     ]
    }
   ],
   "source": [
    "f = open('arquivo.txt','r') # read => apenas leitura\n",
    "print(f)"
   ]
  },
  {
   "cell_type": "code",
   "execution_count": 3,
   "metadata": {},
   "outputs": [],
   "source": [
    "f.close()"
   ]
  },
  {
   "cell_type": "code",
   "execution_count": 5,
   "metadata": {},
   "outputs": [
    {
     "name": "stdout",
     "output_type": "stream",
     "text": [
      "<_io.TextIOWrapper name='arquivos//arquivo2.txt' mode='r' encoding='cp1252'>\n"
     ]
    }
   ],
   "source": [
    "g = open('arquivos//arquivo2.txt','r')\n",
    "print(g)"
   ]
  },
  {
   "cell_type": "code",
   "execution_count": 6,
   "metadata": {},
   "outputs": [
    {
     "name": "stdout",
     "output_type": "stream",
     "text": [
      "<_io.TextIOWrapper name='arquivo.txt' mode='a' encoding='cp1252'>\n"
     ]
    }
   ],
   "source": [
    "f = open('arquivo.txt','a') # append => leio e quero adicionar textos\n",
    "print(f)"
   ]
  },
  {
   "cell_type": "code",
   "execution_count": 7,
   "metadata": {},
   "outputs": [
    {
     "name": "stdout",
     "output_type": "stream",
     "text": [
      "<_io.TextIOWrapper name='arquivo.txt' mode='w' encoding='cp1252'>\n"
     ]
    }
   ],
   "source": [
    "f = open('arquivo.txt','w') # write => escrita => quero escrever nesse arquivo a partir do 0\n",
    "print(f)"
   ]
  },
  {
   "cell_type": "code",
   "execution_count": 8,
   "metadata": {},
   "outputs": [
    {
     "ename": "FileNotFoundError",
     "evalue": "[Errno 2] No such file or directory: 'arquivo2.txt'",
     "output_type": "error",
     "traceback": [
      "\u001b[1;31m---------------------------------------------------------------------------\u001b[0m",
      "\u001b[1;31mFileNotFoundError\u001b[0m                         Traceback (most recent call last)",
      "\u001b[1;32m<ipython-input-8-34076aa0fcf5>\u001b[0m in \u001b[0;36m<module>\u001b[1;34m\u001b[0m\n\u001b[1;32m----> 1\u001b[1;33m \u001b[0mf\u001b[0m \u001b[1;33m=\u001b[0m \u001b[0mopen\u001b[0m\u001b[1;33m(\u001b[0m\u001b[1;34m'arquivo2.txt'\u001b[0m\u001b[1;33m)\u001b[0m \u001b[1;31m# arquivo inexistente\u001b[0m\u001b[1;33m\u001b[0m\u001b[1;33m\u001b[0m\u001b[0m\n\u001b[0m",
      "\u001b[1;31mFileNotFoundError\u001b[0m: [Errno 2] No such file or directory: 'arquivo2.txt'"
     ]
    }
   ],
   "source": [
    "f = open('arquivo2.txt') # arquivo inexistente"
   ]
  },
  {
   "cell_type": "code",
   "execution_count": 10,
   "metadata": {},
   "outputs": [
    {
     "name": "stdout",
     "output_type": "stream",
     "text": [
      "<_io.TextIOWrapper name='arquivo2.txt' mode='w+' encoding='cp1252'>\n"
     ]
    }
   ],
   "source": [
    "f = open('arquivo2.txt','w+') # arquivo inexistente, mas cria quando não existe\n",
    "print(f)"
   ]
  },
  {
   "cell_type": "code",
   "execution_count": 2,
   "metadata": {},
   "outputs": [
    {
     "name": "stdout",
     "output_type": "stream",
     "text": [
      "<_io.TextIOWrapper name='arquivo.txt' mode='rt' encoding='cp1252'>\n"
     ]
    }
   ],
   "source": [
    "f = open('arquivo.txt', 'rt') # t = texto => textIOWrapper\n",
    "print(f)"
   ]
  },
  {
   "cell_type": "code",
   "execution_count": 5,
   "metadata": {},
   "outputs": [
    {
     "name": "stdout",
     "output_type": "stream",
     "text": [
      "<_io.BufferedReader name='arquivo.txt'>\n"
     ]
    }
   ],
   "source": [
    "f = open('arquivo.txt', 'rb') # b = binário => BufferedReader\n",
    "print(f)"
   ]
  },
  {
   "cell_type": "markdown",
   "metadata": {},
   "source": [
    "## Leitura do arquivo"
   ]
  },
  {
   "cell_type": "code",
   "execution_count": 6,
   "metadata": {},
   "outputs": [
    {
     "name": "stdout",
     "output_type": "stream",
     "text": [
      "<_io.TextIOWrapper name='arquivo.txt' mode='r' encoding='cp1252'>\n"
     ]
    }
   ],
   "source": [
    "f = open('arquivo.txt') # read\n",
    "print(f)"
   ]
  },
  {
   "cell_type": "markdown",
   "metadata": {},
   "source": [
    "Para ler todo o arquivo em uma string só, usamos o **read( )**"
   ]
  },
  {
   "cell_type": "code",
   "execution_count": 7,
   "metadata": {},
   "outputs": [
    {
     "name": "stdout",
     "output_type": "stream",
     "text": [
      "primeira linha\n",
      "segunda linha\n",
      "terceira linha\n",
      "quarta linha\n",
      "quinta linha\n"
     ]
    }
   ],
   "source": [
    "print(f.read()) # read() => lê todo o arquivo em uma string só"
   ]
  },
  {
   "cell_type": "markdown",
   "metadata": {},
   "source": [
    "Para ler apenas uma linha, utilizamos o **readline( )**"
   ]
  },
  {
   "cell_type": "markdown",
   "metadata": {},
   "source": [
    "A cada execução, o Python lê a próxima linha, ou seja, 'ignora' a leitura das anteriores\n",
    "Em outras palavras, ele 'segue adiante'"
   ]
  },
  {
   "cell_type": "code",
   "execution_count": 9,
   "metadata": {},
   "outputs": [
    {
     "name": "stdout",
     "output_type": "stream",
     "text": [
      "primeira linha\n",
      "\n"
     ]
    }
   ],
   "source": [
    "f = open('arquivo.txt')\n",
    "print(f.readline()) "
   ]
  },
  {
   "cell_type": "code",
   "execution_count": 10,
   "metadata": {},
   "outputs": [
    {
     "name": "stdout",
     "output_type": "stream",
     "text": [
      "segunda linha\n",
      "\n"
     ]
    }
   ],
   "source": [
    "print(f.readline())"
   ]
  },
  {
   "cell_type": "code",
   "execution_count": 11,
   "metadata": {},
   "outputs": [
    {
     "name": "stdout",
     "output_type": "stream",
     "text": [
      "terceira linha\n",
      "\n"
     ]
    }
   ],
   "source": [
    "print(f.readline())"
   ]
  },
  {
   "cell_type": "code",
   "execution_count": 12,
   "metadata": {},
   "outputs": [
    {
     "name": "stdout",
     "output_type": "stream",
     "text": [
      "quarta linha\n",
      "\n"
     ]
    }
   ],
   "source": [
    "print(f.readline())"
   ]
  },
  {
   "cell_type": "code",
   "execution_count": 13,
   "metadata": {},
   "outputs": [
    {
     "name": "stdout",
     "output_type": "stream",
     "text": [
      "quinta linha\n"
     ]
    }
   ],
   "source": [
    "print(f.readline())"
   ]
  },
  {
   "cell_type": "code",
   "execution_count": 14,
   "metadata": {},
   "outputs": [
    {
     "name": "stdout",
     "output_type": "stream",
     "text": [
      "\n"
     ]
    }
   ],
   "source": [
    "print(f.readline())"
   ]
  },
  {
   "cell_type": "code",
   "execution_count": 16,
   "metadata": {},
   "outputs": [
    {
     "name": "stdout",
     "output_type": "stream",
     "text": [
      "['primeira linha\\n', 'segunda linha\\n', 'terceira linha\\n', 'quarta linha\\n', 'quinta linha']\n"
     ]
    }
   ],
   "source": [
    "f = open('arquivo.txt')\n",
    "linhas = f.readlines()\n",
    "print(linhas)"
   ]
  },
  {
   "cell_type": "code",
   "execution_count": 17,
   "metadata": {},
   "outputs": [
    {
     "name": "stdout",
     "output_type": "stream",
     "text": [
      "primeira linha\n",
      "\n"
     ]
    }
   ],
   "source": [
    "print(linhas[0])"
   ]
  },
  {
   "cell_type": "code",
   "execution_count": 18,
   "metadata": {},
   "outputs": [
    {
     "name": "stdout",
     "output_type": "stream",
     "text": [
      "<class 'list'>\n"
     ]
    }
   ],
   "source": [
    "print(type(linhas))"
   ]
  },
  {
   "cell_type": "markdown",
   "metadata": {},
   "source": [
    "**Repare que ao chamarmos pela segunda vez a função retorna uma lista vazia, pois ela, na verdade, retorna as linhas restantes. Como, ao brir o arquivo, restavam todas as linhas, então ela retornou todas as linhas.**"
   ]
  },
  {
   "cell_type": "code",
   "execution_count": 19,
   "metadata": {},
   "outputs": [
    {
     "name": "stdout",
     "output_type": "stream",
     "text": [
      "[]\n"
     ]
    }
   ],
   "source": [
    "linhas2 = f.readlines()\n",
    "print(linhas2)"
   ]
  },
  {
   "cell_type": "code",
   "execution_count": 20,
   "metadata": {},
   "outputs": [],
   "source": [
    "f = open('arquivo.txt')\n",
    "primeira_linha = f.readline() # lê o início do arquivo\n",
    "segunda_linha = f.readline() # move o cabeçote de leitura para frente indo para o 'novo' (ainda não lido) => lê a segunda linha\n",
    "proximas_linhas = f.readlines() # lê as linhas restantes"
   ]
  },
  {
   "cell_type": "code",
   "execution_count": 21,
   "metadata": {},
   "outputs": [
    {
     "name": "stdout",
     "output_type": "stream",
     "text": [
      "Primeira linha: primeira linha\n",
      "\n",
      "Segunda linha: segunda linha\n",
      "\n",
      "Próximas linhas: ['terceira linha\\n', 'quarta linha\\n', 'quinta linha']\n"
     ]
    }
   ],
   "source": [
    "print('Primeira linha:', primeira_linha)\n",
    "print('Segunda linha:', segunda_linha)\n",
    "print('Próximas linhas:', proximas_linhas)"
   ]
  },
  {
   "cell_type": "markdown",
   "metadata": {},
   "source": [
    "**Para ler apenas X caracteres, uso a função read( ) passando a quantidade por parâmetro**"
   ]
  },
  {
   "cell_type": "code",
   "execution_count": 23,
   "metadata": {},
   "outputs": [
    {
     "name": "stdout",
     "output_type": "stream",
     "text": [
      "primeira linha\n",
      "\n"
     ]
    }
   ],
   "source": [
    "f = open('arquivo.txt')\n",
    "print(f.read(15)) # passo por parâmetro a quantidade que quero ler"
   ]
  },
  {
   "cell_type": "markdown",
   "metadata": {},
   "source": [
    "**Podemos percorrer linha por linha através de um loop for**"
   ]
  },
  {
   "cell_type": "code",
   "execution_count": 24,
   "metadata": {},
   "outputs": [
    {
     "name": "stdout",
     "output_type": "stream",
     "text": [
      "primeira linha\n",
      "\n",
      "segunda linha\n",
      "\n",
      "terceira linha\n",
      "\n",
      "quarta linha\n",
      "\n",
      "quinta linha\n"
     ]
    }
   ],
   "source": [
    "f = open('arquivo.txt')\n",
    "for l in f:\n",
    "    print(l)"
   ]
  },
  {
   "cell_type": "markdown",
   "metadata": {},
   "source": [
    "## Abertura e fechamento de arquivo\n",
    "Quando eu abro um arquivo, eu estou dizendo que eu estou usando ele e ele deve permanecer existente até o final do uso.  \n",
    "Quando eu termino de usar, eu preciso informar isso através da função **close( )**"
   ]
  },
  {
   "cell_type": "code",
   "execution_count": 25,
   "metadata": {},
   "outputs": [],
   "source": [
    "f = open('arquivo3.txt') # abrir o arquivo"
   ]
  },
  {
   "cell_type": "code",
   "execution_count": 26,
   "metadata": {},
   "outputs": [],
   "source": [
    "f.close() # Fechei o arquivo"
   ]
  },
  {
   "cell_type": "markdown",
   "metadata": {},
   "source": [
    "## Escrevendo em arquivos\n",
    "lembrete:\n",
    "- 'w' => write => escrever a partir do zero => deleto tudo o que existe\n",
    "- 'a' => append => incremento o conteúdo => adiciono ao que já existe"
   ]
  },
  {
   "cell_type": "code",
   "execution_count": 41,
   "metadata": {},
   "outputs": [],
   "source": [
    "f = open('arquivo2.txt', 'w')\n",
    "f.write('Apaguei todo o conteúdo e escrevi este aqui :)')\n",
    "f.close()"
   ]
  },
  {
   "cell_type": "code",
   "execution_count": 44,
   "metadata": {},
   "outputs": [
    {
     "name": "stdout",
     "output_type": "stream",
     "text": [
      "Apaguei todo o conteúdo e escrevi este aqui :)\n",
      "Estou adicionando também esse conteúdo :)\n"
     ]
    }
   ],
   "source": [
    "f = open('arquivo2.txt', 'r')\n",
    "print(f.read())\n",
    "f.close()"
   ]
  },
  {
   "cell_type": "code",
   "execution_count": 43,
   "metadata": {},
   "outputs": [],
   "source": [
    "f = open('arquivo2.txt', 'a')\n",
    "f.write('\\nEstou adicionando também esse conteúdo :)')\n",
    "f.close()"
   ]
  },
  {
   "cell_type": "code",
   "execution_count": null,
   "metadata": {},
   "outputs": [],
   "source": []
  }
 ],
 "metadata": {
  "kernelspec": {
   "display_name": "Python 3",
   "language": "python",
   "name": "python3"
  },
  "language_info": {
   "codemirror_mode": {
    "name": "ipython",
    "version": 3
   },
   "file_extension": ".py",
   "mimetype": "text/x-python",
   "name": "python",
   "nbconvert_exporter": "python",
   "pygments_lexer": "ipython3",
   "version": "3.8.5"
  }
 },
 "nbformat": 4,
 "nbformat_minor": 4
}
