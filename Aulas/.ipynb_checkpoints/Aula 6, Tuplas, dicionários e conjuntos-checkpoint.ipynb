{
 "cells": [
  {
   "cell_type": "markdown",
   "metadata": {},
   "source": [
    "# Tuplas, dicionários e conjuntos"
   ]
  },
  {
   "cell_type": "markdown",
   "metadata": {},
   "source": [
    "## Listas\n",
    "- Pode-se aumentar ou diminuir algum elemento\n",
    "- Pode-se modificar o valor de um elemento\n",
    "- A lista é a mais utilizada no Python\n",
    "- É inicializável com []"
   ]
  },
  {
   "cell_type": "code",
   "execution_count": null,
   "metadata": {},
   "outputs": [],
   "source": [
    "lista = []\n",
    "lista = [0,1,2,3]\n",
    "lista = [i for i in range (4)]"
   ]
  },
  {
   "cell_type": "markdown",
   "metadata": {},
   "source": [
    "## Tuplas\n",
    "- Tuplas são imutáveis\n",
    "- Útil para dados fixos\n",
    "- Muito mais rápida do que uma lista\n",
    "- É inicializável com ()"
   ]
  },
  {
   "cell_type": "code",
   "execution_count": 6,
   "metadata": {},
   "outputs": [],
   "source": [
    "tupla = ()\n",
    "tupla = (0,1,2)\n",
    "tupla = tuple([i for i in range(5)])"
   ]
  },
  {
   "cell_type": "markdown",
   "metadata": {},
   "source": [
    "## Conjuntos\n",
    "- Não é ordenado\n",
    "- Não aceita valores duplicados\n",
    "- Possui operação dos conjuntos matemáticos\n",
    "- É inicializável com {}"
   ]
  },
  {
   "cell_type": "code",
   "execution_count": 7,
   "metadata": {},
   "outputs": [],
   "source": [
    "conjunto = {'item'}\n",
    "conjunto = {'a', 1, 2, 'b'}"
   ]
  },
  {
   "cell_type": "markdown",
   "metadata": {},
   "source": [
    "## Dicionários\n",
    "- Possuem chave e valor  \n",
    "- São mutáveis  \n",
    "- Não aceitam chaves duplicadas  \n",
    "- É inicializável com {'chave':'valor'}"
   ]
  },
  {
   "cell_type": "code",
   "execution_count": 34,
   "metadata": {},
   "outputs": [],
   "source": [
    "dicionario = {'chave':'valor', 'chave2':'valor2'}"
   ]
  },
  {
   "cell_type": "markdown",
   "metadata": {},
   "source": [
    "### Revisão sobre listas!"
   ]
  },
  {
   "cell_type": "code",
   "execution_count": 3,
   "metadata": {},
   "outputs": [
    {
     "name": "stdout",
     "output_type": "stream",
     "text": [
      "[]\n",
      "<class 'list'>\n",
      "<class 'list'>\n"
     ]
    }
   ],
   "source": [
    "lista = []\n",
    "print(lista)\n",
    "print(type(lista))\n",
    "print(type([]))"
   ]
  },
  {
   "cell_type": "code",
   "execution_count": 4,
   "metadata": {},
   "outputs": [
    {
     "name": "stdout",
     "output_type": "stream",
     "text": [
      "[0, 1, 2, 3, 4, 5, 6, 7, 8, 9, 10]\n"
     ]
    }
   ],
   "source": [
    "lista = [0,1,2,3,4,5,6,7,8,9,10]\n",
    "\n",
    "print(lista)"
   ]
  },
  {
   "cell_type": "code",
   "execution_count": 6,
   "metadata": {},
   "outputs": [
    {
     "name": "stdout",
     "output_type": "stream",
     "text": [
      "[]\n",
      "[0, 1, 2, 3, 4, 5, 6, 7, 8, 9, 10]\n"
     ]
    }
   ],
   "source": [
    "lista = []\n",
    "print(lista)\n",
    "for i in range (11):\n",
    "    lista.append(i)\n",
    "print(lista)"
   ]
  },
  {
   "cell_type": "code",
   "execution_count": 7,
   "metadata": {},
   "outputs": [
    {
     "name": "stdout",
     "output_type": "stream",
     "text": [
      "[0, 1, 2, 3, 4, 5, 6, 7, 8, 9, 10]\n"
     ]
    }
   ],
   "source": [
    "lista = [i for i in range (11)]\n",
    "print(lista)"
   ]
  },
  {
   "cell_type": "code",
   "execution_count": 10,
   "metadata": {},
   "outputs": [
    {
     "name": "stdout",
     "output_type": "stream",
     "text": [
      "[0, 1, 2, 3, 4, 5, 6, 7, 8]\n"
     ]
    }
   ],
   "source": [
    "lista.pop()\n",
    "print(lista)"
   ]
  },
  {
   "cell_type": "code",
   "execution_count": 12,
   "metadata": {},
   "outputs": [
    {
     "name": "stdout",
     "output_type": "stream",
     "text": [
      "2\n",
      "33\n"
     ]
    }
   ],
   "source": [
    "print(lista[2])\n",
    "lista[2] = 33\n",
    "print(lista[2])"
   ]
  },
  {
   "cell_type": "code",
   "execution_count": 13,
   "metadata": {},
   "outputs": [
    {
     "name": "stdout",
     "output_type": "stream",
     "text": [
      "[0, 1, 33, 3, 4, 5, 6, 7, 8]\n",
      "[0, 1, 33, 4, 5, 6, 7, 8]\n"
     ]
    }
   ],
   "source": [
    "print(lista)\n",
    "lista.remove(3)\n",
    "print(lista)"
   ]
  },
  {
   "cell_type": "markdown",
   "metadata": {},
   "source": [
    "## Aula de Tuplas"
   ]
  },
  {
   "cell_type": "code",
   "execution_count": 14,
   "metadata": {},
   "outputs": [
    {
     "name": "stdout",
     "output_type": "stream",
     "text": [
      "()\n",
      "<class 'tuple'>\n",
      "<class 'tuple'>\n"
     ]
    }
   ],
   "source": [
    "tupla = ()\n",
    "print(tupla)\n",
    "print(type(tupla))\n",
    "print(type(()))"
   ]
  },
  {
   "cell_type": "code",
   "execution_count": 15,
   "metadata": {},
   "outputs": [
    {
     "name": "stdout",
     "output_type": "stream",
     "text": [
      "(1, 2, 3)\n",
      "1\n",
      "3\n"
     ]
    }
   ],
   "source": [
    "tupla = (1,2,3) # Tuplas são inicializadas e ficam fixas para sempre\n",
    "print(tupla)\n",
    "print(tupla[0])\n",
    "print(tupla[2])"
   ]
  },
  {
   "cell_type": "code",
   "execution_count": 16,
   "metadata": {},
   "outputs": [
    {
     "ename": "AttributeError",
     "evalue": "'tuple' object has no attribute 'append'",
     "output_type": "error",
     "traceback": [
      "\u001b[1;31m---------------------------------------------------------------------------\u001b[0m",
      "\u001b[1;31mAttributeError\u001b[0m                            Traceback (most recent call last)",
      "\u001b[1;32m<ipython-input-16-47fb176b825b>\u001b[0m in \u001b[0;36m<module>\u001b[1;34m\u001b[0m\n\u001b[1;32m----> 1\u001b[1;33m \u001b[0mtupla\u001b[0m\u001b[1;33m.\u001b[0m\u001b[0mappend\u001b[0m\u001b[1;33m(\u001b[0m\u001b[1;36m4\u001b[0m\u001b[1;33m)\u001b[0m\u001b[1;33m\u001b[0m\u001b[1;33m\u001b[0m\u001b[0m\n\u001b[0m",
      "\u001b[1;31mAttributeError\u001b[0m: 'tuple' object has no attribute 'append'"
     ]
    }
   ],
   "source": [
    "tupla.append(4) # Tupla não permite adicionar novos elementos"
   ]
  },
  {
   "cell_type": "code",
   "execution_count": 17,
   "metadata": {
    "scrolled": false
   },
   "outputs": [
    {
     "ename": "TypeError",
     "evalue": "'tuple' object does not support item assignment",
     "output_type": "error",
     "traceback": [
      "\u001b[1;31m---------------------------------------------------------------------------\u001b[0m",
      "\u001b[1;31mTypeError\u001b[0m                                 Traceback (most recent call last)",
      "\u001b[1;32m<ipython-input-17-8c0bc8964867>\u001b[0m in \u001b[0;36m<module>\u001b[1;34m\u001b[0m\n\u001b[1;32m----> 1\u001b[1;33m \u001b[0mtupla\u001b[0m\u001b[1;33m[\u001b[0m\u001b[1;36m0\u001b[0m\u001b[1;33m]\u001b[0m \u001b[1;33m=\u001b[0m \u001b[1;36m4\u001b[0m\u001b[1;33m\u001b[0m\u001b[1;33m\u001b[0m\u001b[0m\n\u001b[0m\u001b[0;32m      2\u001b[0m \u001b[0mtupla\u001b[0m\u001b[1;33m[\u001b[0m\u001b[1;36m1\u001b[0m\u001b[1;33m]\u001b[0m \u001b[1;33m=\u001b[0m \u001b[1;36m5\u001b[0m\u001b[1;33m\u001b[0m\u001b[1;33m\u001b[0m\u001b[0m\n\u001b[0;32m      3\u001b[0m \u001b[0mtupla\u001b[0m\u001b[1;33m[\u001b[0m\u001b[1;36m2\u001b[0m\u001b[1;33m]\u001b[0m \u001b[1;33m=\u001b[0m \u001b[1;36m6\u001b[0m\u001b[1;33m\u001b[0m\u001b[1;33m\u001b[0m\u001b[0m\n",
      "\u001b[1;31mTypeError\u001b[0m: 'tuple' object does not support item assignment"
     ]
    }
   ],
   "source": [
    "tupla[0] = 4 # Tupla não permite adicionar novos elementos\n",
    "tupla[1] = 5\n",
    "tupla[2] = 6"
   ]
  },
  {
   "cell_type": "markdown",
   "metadata": {},
   "source": [
    "**Conclusão:** Tuplas são imutáveis  \n",
    "Para criarmos ou convertemos um objeto para uma tupla, podemos usar a função tuple()"
   ]
  },
  {
   "cell_type": "code",
   "execution_count": 18,
   "metadata": {},
   "outputs": [
    {
     "name": "stdout",
     "output_type": "stream",
     "text": [
      "<class 'generator'>\n"
     ]
    }
   ],
   "source": [
    "tupla = (i for i in range(10))\n",
    "print(type(tupla))"
   ]
  },
  {
   "cell_type": "code",
   "execution_count": 19,
   "metadata": {},
   "outputs": [
    {
     "name": "stdout",
     "output_type": "stream",
     "text": [
      "[0, 1, 2, 3, 4, 5, 6, 7, 8, 9, 10]\n",
      "<class 'list'>\n"
     ]
    }
   ],
   "source": [
    "tupla = ([i for i in range (11)])\n",
    "print(tupla)\n",
    "print(type(tupla))"
   ]
  },
  {
   "cell_type": "code",
   "execution_count": 20,
   "metadata": {},
   "outputs": [
    {
     "name": "stdout",
     "output_type": "stream",
     "text": [
      "(0, 1, 2, 3, 4, 5, 6, 7, 8, 9, 10)\n",
      "<class 'tuple'>\n"
     ]
    }
   ],
   "source": [
    "tupla = tuple([i for i in range (11)])\n",
    "print(tupla)\n",
    "print(type(tupla))"
   ]
  },
  {
   "cell_type": "code",
   "execution_count": 23,
   "metadata": {},
   "outputs": [
    {
     "name": "stdout",
     "output_type": "stream",
     "text": [
      "<class 'list'>\n",
      "<class 'tuple'>\n"
     ]
    }
   ],
   "source": [
    "lista = [1,2,3,4]\n",
    "tupla = tuple(lista)\n",
    "print(type(lista))\n",
    "print(type(tupla))"
   ]
  },
  {
   "cell_type": "markdown",
   "metadata": {},
   "source": [
    "Podemos transformar uma lista em tupla e vice-versa, dessa forma, podemos editar seus valores"
   ]
  },
  {
   "cell_type": "code",
   "execution_count": 24,
   "metadata": {},
   "outputs": [
    {
     "name": "stdout",
     "output_type": "stream",
     "text": [
      "(1, 2, 3, 4, 5)\n",
      "[1, 2, 'Teste', 5, 6]\n"
     ]
    }
   ],
   "source": [
    "tupla = (1,2,3,4,5)\n",
    "lista = list(tupla)\n",
    "lista.append(6)\n",
    "lista[2] = 'Teste'\n",
    "lista.remove(4)\n",
    "print(tupla)\n",
    "print(lista)"
   ]
  },
  {
   "cell_type": "markdown",
   "metadata": {},
   "source": [
    "**Operações gerais para estruturas de dados tuplas, dicionários, conjuntos e tuplas!**"
   ]
  },
  {
   "cell_type": "code",
   "execution_count": 25,
   "metadata": {},
   "outputs": [
    {
     "name": "stdout",
     "output_type": "stream",
     "text": [
      "1\n",
      "(1, 2, 3)\n",
      "5\n",
      "True\n",
      "False\n",
      "1\n",
      "2\n",
      "3\n",
      "4\n",
      "5\n"
     ]
    }
   ],
   "source": [
    "tupla = (1,2,3,4,5)\n",
    "print(tupla[0])\n",
    "print(tupla[0:3])\n",
    "print(len(tupla))\n",
    "print(3 in tupla)\n",
    "print(6 in tupla)\n",
    "\n",
    "for i in tupla:\n",
    "    print(i)"
   ]
  },
  {
   "cell_type": "markdown",
   "metadata": {},
   "source": [
    "## Aula sobre conjuntos (sets)\n",
    "Vem da teoria dos conjuntos matemáticos, tendo todas as operações que eles possuem"
   ]
  },
  {
   "cell_type": "code",
   "execution_count": 2,
   "metadata": {},
   "outputs": [
    {
     "name": "stdout",
     "output_type": "stream",
     "text": [
      "{'teste'}\n",
      "<class 'set'>\n"
     ]
    }
   ],
   "source": [
    "# lista = []\n",
    "# tupla = ()\n",
    "# conjunto = {}\n",
    "\n",
    "conjunto = {'teste'}\n",
    "print(conjunto)\n",
    "print(type(conjunto))"
   ]
  },
  {
   "cell_type": "markdown",
   "metadata": {},
   "source": [
    "**Não aceitam números duplicados!!**"
   ]
  },
  {
   "cell_type": "code",
   "execution_count": 3,
   "metadata": {},
   "outputs": [
    {
     "name": "stdout",
     "output_type": "stream",
     "text": [
      "{1, 2, 3, 4}\n"
     ]
    }
   ],
   "source": [
    "conjunto = {1,2,3,1,4,4,3}\n",
    "print(conjunto)"
   ]
  },
  {
   "cell_type": "code",
   "execution_count": 4,
   "metadata": {},
   "outputs": [
    {
     "name": "stdout",
     "output_type": "stream",
     "text": [
      "{'c', 'a', 'b', 'd'}\n",
      "{'c', 'd', 'm', 'j', 'n'}\n"
     ]
    }
   ],
   "source": [
    "conjunto1 = {'a', 'b', 'c', 'd'}\n",
    "conjunto2 = {'j', 'm', 'n', 'c', 'd'}\n",
    "print(conjunto1)\n",
    "print(conjunto2)"
   ]
  },
  {
   "cell_type": "code",
   "execution_count": 5,
   "metadata": {},
   "outputs": [
    {
     "name": "stdout",
     "output_type": "stream",
     "text": [
      "{'c', 'd', 'a', 'b', 'f'}\n",
      "{'c', 'd', 'm', 'g', 'j', 'n'}\n"
     ]
    }
   ],
   "source": [
    "conjunto1.add('f') # Add => Operação dos conjuntos matemáticos\n",
    "conjunto2.add('g')\n",
    "print(conjunto1)\n",
    "print(conjunto2)"
   ]
  },
  {
   "cell_type": "markdown",
   "metadata": {},
   "source": [
    "**NÃO são ordenados!!!**"
   ]
  },
  {
   "cell_type": "markdown",
   "metadata": {},
   "source": [
    "### Operações com um só conjunto por vez\n",
    "**ADD:** Adiciona apenas um item  "
   ]
  },
  {
   "cell_type": "code",
   "execution_count": 12,
   "metadata": {},
   "outputs": [
    {
     "name": "stdout",
     "output_type": "stream",
     "text": [
      "{'uva', 'maçã'}\n",
      "{'laranja', 'uva', 'maçã'}\n"
     ]
    }
   ],
   "source": [
    "frutas = {'maçã', 'uva'}\n",
    "print(frutas)\n",
    "frutas.add('laranja')\n",
    "print(frutas)"
   ]
  },
  {
   "cell_type": "markdown",
   "metadata": {},
   "source": [
    "**Update:** Adiciona mais de um item por vez"
   ]
  },
  {
   "cell_type": "code",
   "execution_count": 13,
   "metadata": {},
   "outputs": [
    {
     "name": "stdout",
     "output_type": "stream",
     "text": [
      "{'morango', 'uva', 'maçã', 'laranja', 'pera', 'melancia', 'abacaxi'}\n"
     ]
    }
   ],
   "source": [
    "frutas.update(['pera', 'abacaxi', 'melancia','morango'])\n",
    "print(frutas)"
   ]
  },
  {
   "cell_type": "markdown",
   "metadata": {},
   "source": [
    "**Remove:** Remove, mas dá erro se o valor não existir  \n",
    "**Discard:** Remove e não dá erro se o valor não existir "
   ]
  },
  {
   "cell_type": "code",
   "execution_count": 11,
   "metadata": {},
   "outputs": [
    {
     "name": "stdout",
     "output_type": "stream",
     "text": [
      "{'morango', 'uva', 'laranja', 'pera', 'melancia', 'abacaxi'}\n"
     ]
    }
   ],
   "source": [
    "frutas.remove('maçã') # O remove dá erro se o valor já existe\n",
    "print(frutas)\n"
   ]
  },
  {
   "cell_type": "code",
   "execution_count": 15,
   "metadata": {},
   "outputs": [
    {
     "name": "stdout",
     "output_type": "stream",
     "text": [
      "{'morango', 'uva', 'laranja', 'pera', 'melancia', 'abacaxi'}\n"
     ]
    }
   ],
   "source": [
    "frutas.discard('maçã') # Não dá erro se o valor não existir mais/não existir\n",
    "print(frutas)"
   ]
  },
  {
   "cell_type": "markdown",
   "metadata": {},
   "source": [
    "**Clear:** Remove todos os itens"
   ]
  },
  {
   "cell_type": "code",
   "execution_count": 16,
   "metadata": {},
   "outputs": [
    {
     "name": "stdout",
     "output_type": "stream",
     "text": [
      "{'morango', 'uva', 'laranja', 'pera', 'melancia', 'abacaxi'}\n",
      "set()\n"
     ]
    }
   ],
   "source": [
    "print(frutas)\n",
    "frutas.clear()\n",
    "print(frutas)"
   ]
  },
  {
   "cell_type": "markdown",
   "metadata": {},
   "source": [
    "### Operações com mais de um conjunto por vez"
   ]
  },
  {
   "cell_type": "markdown",
   "metadata": {},
   "source": [
    "**Union:** Faz a união (soma) de dois conjuntos, retornando um novo conjunto  \n",
    "**Update:** Também une dois conjuntos, porém, modifica direto no proprio conjunto que chamar este método"
   ]
  },
  {
   "cell_type": "code",
   "execution_count": 17,
   "metadata": {},
   "outputs": [
    {
     "name": "stdout",
     "output_type": "stream",
     "text": [
      "{'c', 'b', 'd', 'a'}\n",
      "{'m', 'c', 'l', 'n', 'j', 'd'}\n",
      "{'b', 'm', 'c', 'n', 'l', 'a', 'j', 'd'}\n"
     ]
    }
   ],
   "source": [
    "conjunto1 = {'a','b','c','d'}\n",
    "conjunto2 = {'j','l','m','n','c','d'}\n",
    "\n",
    "conjunto_total = conjunto1.union(conjunto2) # Union me retorna um valor (conjunto)\n",
    "print(conjunto1)\n",
    "print(conjunto2)\n",
    "print(conjunto_total)"
   ]
  },
  {
   "cell_type": "code",
   "execution_count": 18,
   "metadata": {},
   "outputs": [
    {
     "name": "stdout",
     "output_type": "stream",
     "text": [
      "None\n"
     ]
    }
   ],
   "source": [
    "conjunto1 = {'a','b','c','d'}\n",
    "conjunto2 = {'j','l','m','n','c','d'}\n",
    "\n",
    "conjunto_total = conjunto1.update(conjunto2) # Update modifica o meu conjunto de forma direta\n",
    "print(conjunto_total)"
   ]
  },
  {
   "cell_type": "markdown",
   "metadata": {},
   "source": [
    "**Intersection:** Me mostra a intersecção entre um e outro  \n",
    "**Difference:** Me mostra a diferença entre o primeiro e o segundo"
   ]
  },
  {
   "cell_type": "code",
   "execution_count": 19,
   "metadata": {},
   "outputs": [
    {
     "name": "stdout",
     "output_type": "stream",
     "text": [
      "{'c', 'd'}\n"
     ]
    }
   ],
   "source": [
    "conjunto1 = {'a','b','c','d'}\n",
    "conjunto2 = {'j','l','m','n','c','d'}\n",
    "\n",
    "interseccao = conjunto1.intersection(conjunto2)\n",
    "print(interseccao)"
   ]
  },
  {
   "cell_type": "code",
   "execution_count": 21,
   "metadata": {},
   "outputs": [
    {
     "name": "stdout",
     "output_type": "stream",
     "text": [
      "{'b', 'a'}\n",
      "{'m', 'l', 'j', 'n'}\n"
     ]
    }
   ],
   "source": [
    "conjunto1 = {'a','b','c','d'}\n",
    "conjunto2 = {'j','l','m','n','c','d'}\n",
    "\n",
    "diferenca12 = conjunto1.difference(conjunto2)\n",
    "diferenca21 = conjunto2.difference(conjunto1)\n",
    "print(diferenca12)\n",
    "print(diferenca21)"
   ]
  },
  {
   "cell_type": "code",
   "execution_count": 22,
   "metadata": {},
   "outputs": [
    {
     "name": "stdout",
     "output_type": "stream",
     "text": [
      "True\n"
     ]
    }
   ],
   "source": [
    "conjuntinho = {1,2,3}\n",
    "conjuntao = {1,2,3,4,5,6}\n",
    "\n",
    "subconjunto = conjuntinho.issubset(conjuntao)\n",
    "print(subconjunto)"
   ]
  },
  {
   "cell_type": "markdown",
   "metadata": {},
   "source": [
    "**Set():** Converte para conjunto  \n",
    "**Método Construtor:** É o método que cria uma instância (objeto) daquela classe"
   ]
  },
  {
   "cell_type": "code",
   "execution_count": 24,
   "metadata": {},
   "outputs": [
    {
     "name": "stdout",
     "output_type": "stream",
     "text": [
      "<class 'set'>\n",
      "<class 'set'>\n",
      "<class 'tuple'>\n",
      "<class 'list'>\n"
     ]
    }
   ],
   "source": [
    "print(type({''}))\n",
    "print(type(set())) # Construtor da classe set\n",
    "print(type(tuple())) # Construtor da classe tupla\n",
    "print(type(list())) # Construtor da classe lista"
   ]
  },
  {
   "cell_type": "code",
   "execution_count": 25,
   "metadata": {},
   "outputs": [
    {
     "name": "stdout",
     "output_type": "stream",
     "text": [
      "{1, 2, 3, 4}\n",
      "{'b', 'f', 'c', 'e', 'a', 'd'}\n"
     ]
    }
   ],
   "source": [
    "lista = [1,2,3,4]\n",
    "tupla = ('a','b','c','d','e','f')\n",
    "\n",
    "conjunto = set(lista)\n",
    "conjunto2 = set(tupla)\n",
    "print(conjunto)\n",
    "print(conjunto2)"
   ]
  },
  {
   "cell_type": "markdown",
   "metadata": {},
   "source": [
    "## Aula Dicionário\n",
    "\n",
    "É uma estrutura de dados composta por chaves e valores"
   ]
  },
  {
   "cell_type": "markdown",
   "metadata": {},
   "source": [
    "listas = [ ] => mutável, adiciona e remove itens...  \n",
    "tuplas = ( ) => Imutável, mais rápida...  \n",
    "conjuntos = { } => Conjuntos numéricos, operações de conjuntos, não ordenados...  \n",
    "\n",
    "Procura => Resposta  \n",
    "chave => valor  \n",
    "cat => gato  \n",
    "dog => cachorro  \n",
    "apple =>  maçã  \n",
    "while => enquanto  \n",
    "\n",
    "É composto por chaves e valores!"
   ]
  },
  {
   "cell_type": "code",
   "execution_count": 27,
   "metadata": {},
   "outputs": [
    {
     "name": "stdout",
     "output_type": "stream",
     "text": [
      "{'dog': 'cachorro', 'cat': 'gato'}\n",
      "<class 'dict'>\n",
      "<class 'dict'>\n"
     ]
    }
   ],
   "source": [
    "dict = {'dog':'cachorro', # Não aceita repetições de chaves!!\n",
    "        'cat':'gato',\n",
    "        'dog':'ave' # Sobreescreve o valor atual da chave\n",
    "       }\n",
    "\n",
    "print(dict)\n",
    "print(type(dict))\n",
    "print(type({'dog':'cachorro'}))"
   ]
  },
  {
   "cell_type": "markdown",
   "metadata": {},
   "source": [
    "Dicionário suporte vários itens  \n",
    "Chaves não podem ser repetidas  \n",
    "É mutável (alterável)"
   ]
  },
  {
   "cell_type": "code",
   "execution_count": 28,
   "metadata": {},
   "outputs": [
    {
     "name": "stdout",
     "output_type": "stream",
     "text": [
      "{'dog': 'cachorro', 'cat': 'gato', 'bird': 'ave'}\n"
     ]
    }
   ],
   "source": [
    "dict = {'dog':'cachorro', # Não aceita repetições de chaves!!\n",
    "        'cat':'gato',\n",
    "        'bird':'ave' # Sobreescreve o valor atual da chave\n",
    "       }\n",
    "\n",
    "print(dict)"
   ]
  },
  {
   "cell_type": "markdown",
   "metadata": {},
   "source": [
    "**dicionario['chave']:** Procura pela chave e retorna o valor. Dá erro se não existir a chave  \n",
    "**dicionario.get('chave'):** Procura pela chave e retorna o valor. Não dá erro se não existir a chave"
   ]
  },
  {
   "cell_type": "code",
   "execution_count": 31,
   "metadata": {},
   "outputs": [
    {
     "data": {
      "text/plain": [
       "'cachorro'"
      ]
     },
     "execution_count": 31,
     "metadata": {},
     "output_type": "execute_result"
    }
   ],
   "source": [
    "dict['dog'] # Não é acessível por índices, mas sim, por chaves"
   ]
  },
  {
   "cell_type": "code",
   "execution_count": 32,
   "metadata": {},
   "outputs": [
    {
     "data": {
      "text/plain": [
       "'cachorro'"
      ]
     },
     "execution_count": 32,
     "metadata": {},
     "output_type": "execute_result"
    }
   ],
   "source": [
    "dict.get('dog')"
   ]
  },
  {
   "cell_type": "code",
   "execution_count": 33,
   "metadata": {
    "scrolled": true
   },
   "outputs": [
    {
     "ename": "KeyError",
     "evalue": "'cachorro'",
     "output_type": "error",
     "traceback": [
      "\u001b[1;31m---------------------------------------------------------------------------\u001b[0m",
      "\u001b[1;31mKeyError\u001b[0m                                  Traceback (most recent call last)",
      "\u001b[1;32m<ipython-input-33-3d224639ae65>\u001b[0m in \u001b[0;36m<module>\u001b[1;34m\u001b[0m\n\u001b[1;32m----> 1\u001b[1;33m \u001b[0mprint\u001b[0m\u001b[1;33m(\u001b[0m\u001b[0mdict\u001b[0m\u001b[1;33m[\u001b[0m\u001b[1;34m'cachorro'\u001b[0m\u001b[1;33m]\u001b[0m\u001b[1;33m)\u001b[0m\u001b[1;33m\u001b[0m\u001b[1;33m\u001b[0m\u001b[0m\n\u001b[0m\u001b[0;32m      2\u001b[0m \u001b[0mprint\u001b[0m\u001b[1;33m(\u001b[0m\u001b[0mdict\u001b[0m\u001b[1;33m.\u001b[0m\u001b[0mget\u001b[0m\u001b[1;33m(\u001b[0m\u001b[1;34m'cachorro'\u001b[0m\u001b[1;33m)\u001b[0m\u001b[1;33m)\u001b[0m\u001b[1;33m\u001b[0m\u001b[1;33m\u001b[0m\u001b[0m\n",
      "\u001b[1;31mKeyError\u001b[0m: 'cachorro'"
     ]
    }
   ],
   "source": [
    "print(dict['cachorro']) # Retorna erro se não existir\n",
    "print(dict.get('cachorro')) # Não da erro se não existir"
   ]
  },
  {
   "cell_type": "markdown",
   "metadata": {},
   "source": [
    "**Embora recomendável, não necessariamente uma chave deva ser uma string**"
   ]
  },
  {
   "cell_type": "code",
   "execution_count": 35,
   "metadata": {},
   "outputs": [
    {
     "name": "stdout",
     "output_type": "stream",
     "text": [
      "{'string_chave': 1, 'string_chave2': 2, 'string_chave3': 3}\n",
      "{1: 'um', 2: 'dois', 3: 'três', 4: 'quatro'}\n"
     ]
    }
   ],
   "source": [
    "dicionario_string = {'string_chave':1, 'string_chave2':2, 'string_chave3':3}\n",
    "dicionario_numero = {1:'um', 2:'dois', 3:'três', 4:'quatro'}\n",
    "print(dicionario_string)\n",
    "print(dicionario_numero)"
   ]
  },
  {
   "cell_type": "code",
   "execution_count": 36,
   "metadata": {},
   "outputs": [
    {
     "name": "stdout",
     "output_type": "stream",
     "text": [
      "um\n"
     ]
    }
   ],
   "source": [
    "print(dicionario_numero[1]) # Embora pareça com um índice, é uma CHAVE"
   ]
  },
  {
   "cell_type": "markdown",
   "metadata": {},
   "source": [
    "### Realizando loop nos dicionarios"
   ]
  },
  {
   "cell_type": "code",
   "execution_count": 41,
   "metadata": {},
   "outputs": [
    {
     "name": "stdout",
     "output_type": "stream",
     "text": [
      "dog\n",
      "cat\n",
      "bird\n",
      "---------------\n",
      "cachorro\n",
      "gato\n",
      "ave\n"
     ]
    }
   ],
   "source": [
    "dict = {'dog':'cachorro', \n",
    "        'cat':'gato',\n",
    "        'bird':'ave'\n",
    "       }\n",
    "\n",
    "for chaves in dict: # Me retorna as chaves\n",
    "    print(chaves)\n",
    "print('---'*5)\n",
    "for valores in dict:\n",
    "    print(dict[valores]) # Me retorna os valores das chaves"
   ]
  },
  {
   "cell_type": "code",
   "execution_count": 46,
   "metadata": {},
   "outputs": [
    {
     "name": "stdout",
     "output_type": "stream",
     "text": [
      "Todas as chaves: dict_keys(['dog', 'cat', 'bird'])\n",
      "Todos os valores dict_values(['cachorro', 'gato', 'ave'])\n",
      "Todos os itens: dict_items([('dog', 'cachorro'), ('cat', 'gato'), ('bird', 'ave')])\n"
     ]
    }
   ],
   "source": [
    "# chaves => key\n",
    "# valores => values()\n",
    "# itens => items()\n",
    "\n",
    "print('Todas as chaves:', dict.keys())\n",
    "print('Todos os valores', dict.values())\n",
    "print('Todos os itens:', dict.items())"
   ]
  },
  {
   "cell_type": "code",
   "execution_count": 44,
   "metadata": {},
   "outputs": [
    {
     "name": "stdout",
     "output_type": "stream",
     "text": [
      "cachorro\n",
      "gato\n",
      "ave\n"
     ]
    }
   ],
   "source": [
    "for valor in dict.values():\n",
    "    print(valor)"
   ]
  },
  {
   "cell_type": "code",
   "execution_count": 45,
   "metadata": {},
   "outputs": [
    {
     "name": "stdout",
     "output_type": "stream",
     "text": [
      "dog\n",
      "cat\n",
      "bird\n"
     ]
    }
   ],
   "source": [
    "for chave in dict.keys():\n",
    "    print(chave)"
   ]
  },
  {
   "cell_type": "code",
   "execution_count": 47,
   "metadata": {},
   "outputs": [
    {
     "name": "stdout",
     "output_type": "stream",
     "text": [
      "('dog', 'cachorro')\n",
      "<class 'tuple'>\n",
      "('cat', 'gato')\n",
      "<class 'tuple'>\n",
      "('bird', 'ave')\n",
      "<class 'tuple'>\n"
     ]
    }
   ],
   "source": [
    "for item in dict.items():\n",
    "    print(item)\n",
    "    print(type(item))"
   ]
  },
  {
   "cell_type": "code",
   "execution_count": 49,
   "metadata": {},
   "outputs": [
    {
     "name": "stdout",
     "output_type": "stream",
     "text": [
      "A chave é dog, e o valor é cachorro\n",
      "O tipo de chave é <class 'str'> e o tipo do valor é <class 'str'>\n",
      "A chave é cat, e o valor é gato\n",
      "O tipo de chave é <class 'str'> e o tipo do valor é <class 'str'>\n",
      "A chave é bird, e o valor é ave\n",
      "O tipo de chave é <class 'str'> e o tipo do valor é <class 'str'>\n"
     ]
    }
   ],
   "source": [
    "for chave, valor in dict.items():\n",
    "    print(f'A chave é {chave}, e o valor é {valor}')\n",
    "    print(f'O tipo de chave é {type(chave)} e o tipo do valor é {type(valor)}')"
   ]
  },
  {
   "cell_type": "code",
   "execution_count": 51,
   "metadata": {},
   "outputs": [
    {
     "name": "stdout",
     "output_type": "stream",
     "text": [
      "Em inglês é dog e em português é cachorro\n",
      "Em inglês é cat e em português é gato\n",
      "Em inglês é bird e em português é ave\n"
     ]
    }
   ],
   "source": [
    "for chave, valor in dict.items():\n",
    "    print(f'Em inglês é {chave} e em português é {valor}')"
   ]
  },
  {
   "cell_type": "markdown",
   "metadata": {},
   "source": [
    "### Checando existência"
   ]
  },
  {
   "cell_type": "code",
   "execution_count": 55,
   "metadata": {},
   "outputs": [
    {
     "name": "stdout",
     "output_type": "stream",
     "text": [
      "{'dog': 'cachorro', 'cat': 'gato', 'bird': 'ave'}\n",
      "O cachorro está no dincionario\n",
      "Eu não sei a tradução dessa palavra\n"
     ]
    }
   ],
   "source": [
    "print(dict)\n",
    "if 'dog' in dict:\n",
    "    print(f\"O {dict['dog']} está no dincionario\")\n",
    "else:\n",
    "    print('Eu não sei a tradução dessa palavra')\n",
    "    \n",
    "if 'monkey' in dict:\n",
    "    print(f\"O {dict['monkey']} está no dincionario\")\n",
    "else:\n",
    "    print('Eu não sei a tradução dessa palavra')"
   ]
  },
  {
   "cell_type": "code",
   "execution_count": 57,
   "metadata": {},
   "outputs": [
    {
     "name": "stdout",
     "output_type": "stream",
     "text": [
      "O macaco está no dincionario\n"
     ]
    }
   ],
   "source": [
    "dict['monkey'] = 'macaco'\n",
    "\n",
    "if 'monkey' in dict:\n",
    "    print(f\"O {dict['monkey']} está no dincionario\")\n",
    "else:\n",
    "    print('Eu não sei a tradução dessa palavra')"
   ]
  },
  {
   "cell_type": "code",
   "execution_count": 61,
   "metadata": {},
   "outputs": [
    {
     "name": "stdout",
     "output_type": "stream",
     "text": [
      "{'dog': 'cachorro', 'cat': 'gato', 'bird': 'ave', 'monkey': 'macaco', 'banana': 'banana'}\n"
     ]
    }
   ],
   "source": [
    "dict['banana'] = 'banana'\n",
    "print(dict)"
   ]
  },
  {
   "cell_type": "markdown",
   "metadata": {},
   "source": [
    "#### Removendo itens\n",
    "**Pop:** Remove apenas um item, dá erro se o item já tiver sido removido/não existir  \n",
    "**Clear:** Remove todos os itens do dicionário (limpa a lista)"
   ]
  },
  {
   "cell_type": "code",
   "execution_count": 62,
   "metadata": {},
   "outputs": [
    {
     "name": "stdout",
     "output_type": "stream",
     "text": [
      "{'dog': 'cachorro', 'cat': 'gato', 'bird': 'ave', 'monkey': 'macaco'}\n"
     ]
    }
   ],
   "source": [
    "dict.pop('banana')\n",
    "print(dict)"
   ]
  },
  {
   "cell_type": "code",
   "execution_count": 63,
   "metadata": {},
   "outputs": [
    {
     "name": "stdout",
     "output_type": "stream",
     "text": [
      "{'dog': 'cachorro', 'cat': 'gato', 'bird': 'ave', 'monkey': 'macaco'}\n"
     ]
    }
   ],
   "source": [
    "if 'banana' in dict:\n",
    "    dict.pop('banana')\n",
    "print(dict)"
   ]
  },
  {
   "cell_type": "code",
   "execution_count": 64,
   "metadata": {},
   "outputs": [
    {
     "name": "stdout",
     "output_type": "stream",
     "text": [
      "{}\n"
     ]
    }
   ],
   "source": [
    "dict.clear()\n",
    "print(dict)"
   ]
  },
  {
   "cell_type": "markdown",
   "metadata": {},
   "source": [
    "## Aninhando Estruturas\n",
    "Estruturas uma dentro da outra"
   ]
  },
  {
   "cell_type": "markdown",
   "metadata": {},
   "source": [
    "### Dicionários aninhados"
   ]
  },
  {
   "cell_type": "code",
   "execution_count": 1,
   "metadata": {},
   "outputs": [],
   "source": [
    "# Cada curso => Nome, categoria, Instrutor, Alunos\n",
    "cursos = {\n",
    "    'solid':{\n",
    "        'nome':'Aprenda Design Patterns com SOLID',\n",
    "        'categoria':'Design Patterns',\n",
    "        'instrutor':'Felipe Cabrera',\n",
    "        'alunos':'5000'\n",
    "    },\n",
    "    'android9':{\n",
    "        'nome':'Android 9.0 Avançado: APIs Nativas e Bancos de Dados',\n",
    "        'categoria':'Android',\n",
    "        'instrutor':'Alisson Bolsoni',\n",
    "        'alunos':'5000'\n",
    "    },\n",
    "    'vscode':{\n",
    "        'nome':'VS CODE: Produtividade Infinita',\n",
    "        'categorias':{\n",
    "            'principal':'Programação',\n",
    "            'secundária':'Produtividade'\n",
    "        },\n",
    "        'instrutor':'Felipe Cabrera',\n",
    "        'alunos':'5000'\n",
    "    }\n",
    "}"
   ]
  },
  {
   "cell_type": "code",
   "execution_count": 2,
   "metadata": {},
   "outputs": [
    {
     "name": "stdout",
     "output_type": "stream",
     "text": [
      "{'solid': {'nome': 'Aprenda Design Patterns com SOLID', 'categoria': 'Design Patterns', 'instrutor': 'Felipe Cabrera', 'alunos': '5000'}, 'android9': {'nome': 'Android 9.0 Avançado: APIs Nativas e Bancos de Dados', 'categoria': 'Android', 'instrutor': 'Alisson Bolsoni', 'alunos': '5000'}, 'vscode': {'nome': 'VS CODE: Produtividade Infinita', 'categorias': {'principal': 'Programação', 'secundária': 'Produtividade'}, 'instrutor': 'Felipe Cabrera', 'alunos': '5000'}}\n"
     ]
    }
   ],
   "source": [
    "print(cursos)"
   ]
  },
  {
   "cell_type": "code",
   "execution_count": 4,
   "metadata": {},
   "outputs": [
    {
     "name": "stdout",
     "output_type": "stream",
     "text": [
      "solid\n",
      "android9\n",
      "vscode\n"
     ]
    }
   ],
   "source": [
    "for chave in cursos.keys():\n",
    "    print(chave)"
   ]
  },
  {
   "cell_type": "code",
   "execution_count": 5,
   "metadata": {},
   "outputs": [
    {
     "name": "stdout",
     "output_type": "stream",
     "text": [
      "{'nome': 'Aprenda Design Patterns com SOLID', 'categoria': 'Design Patterns', 'instrutor': 'Felipe Cabrera', 'alunos': '5000'}\n"
     ]
    }
   ],
   "source": [
    "print(cursos['solid'])"
   ]
  },
  {
   "cell_type": "code",
   "execution_count": 6,
   "metadata": {},
   "outputs": [
    {
     "name": "stdout",
     "output_type": "stream",
     "text": [
      "Aprenda Design Patterns com SOLID\n",
      "Design Patterns\n",
      "Felipe Cabrera\n",
      "5000\n"
     ]
    }
   ],
   "source": [
    "print(cursos['solid']['nome'])\n",
    "print(cursos['solid']['categoria'])\n",
    "print(cursos['solid']['instrutor'])\n",
    "print(cursos['solid']['alunos'])"
   ]
  },
  {
   "cell_type": "markdown",
   "metadata": {},
   "source": [
    "### Listas Aninhadas"
   ]
  },
  {
   "cell_type": "code",
   "execution_count": 8,
   "metadata": {},
   "outputs": [
    {
     "name": "stdout",
     "output_type": "stream",
     "text": [
      "[[0, 1, 2, 3], [1.2, 3.4, 5.6], ['abc', 'def', 'ghi']]\n",
      "['abc', 'def', 'ghi']\n",
      "def\n"
     ]
    }
   ],
   "source": [
    "lista = [[0,1,2,3],[1.2,3.4,5.6],['abc','def','ghi']]\n",
    "\n",
    "print(lista)\n",
    "print(lista[2])\n",
    "print(lista[2][1])"
   ]
  },
  {
   "cell_type": "markdown",
   "metadata": {},
   "source": [
    "### Tuplas aninhadas"
   ]
  },
  {
   "cell_type": "code",
   "execution_count": 9,
   "metadata": {},
   "outputs": [
    {
     "name": "stdout",
     "output_type": "stream",
     "text": [
      "((0, 1, 2, 3), (1.2, 3.4, 5.6), ('abc', 'def', 'ghi'))\n",
      "(1.2, 3.4, 5.6)\n",
      "5.6\n"
     ]
    }
   ],
   "source": [
    "tuplas = ((0,1,2,3),(1.2,3.4,5.6),('abc','def','ghi'))\n",
    "\n",
    "print(tuplas)\n",
    "print(tuplas[1])\n",
    "print(tuplas[1][2])"
   ]
  },
  {
   "cell_type": "markdown",
   "metadata": {},
   "source": [
    "### \"Conjuntos Aninhados\""
   ]
  },
  {
   "cell_type": "markdown",
   "metadata": {},
   "source": [
    "Conjuntos matemáticos não são aninhados, não há conjunto dentro de outro, e sim subconjuntos"
   ]
  },
  {
   "cell_type": "code",
   "execution_count": 10,
   "metadata": {},
   "outputs": [
    {
     "ename": "TypeError",
     "evalue": "set expected at most 1 argument, got 2",
     "output_type": "error",
     "traceback": [
      "\u001b[1;31m---------------------------------------------------------------------------\u001b[0m",
      "\u001b[1;31mTypeError\u001b[0m                                 Traceback (most recent call last)",
      "\u001b[1;32m<ipython-input-10-dcd25eba336c>\u001b[0m in \u001b[0;36m<module>\u001b[1;34m\u001b[0m\n\u001b[1;32m----> 1\u001b[1;33m \u001b[0mconjunto\u001b[0m \u001b[1;33m=\u001b[0m \u001b[0mset\u001b[0m\u001b[1;33m(\u001b[0m\u001b[1;33m{\u001b[0m\u001b[1;36m2\u001b[0m\u001b[1;33m,\u001b[0m\u001b[1;36m3\u001b[0m\u001b[1;33m}\u001b[0m\u001b[1;33m,\u001b[0m\u001b[1;33m{\u001b[0m\u001b[1;36m4\u001b[0m\u001b[1;33m,\u001b[0m\u001b[1;36m5\u001b[0m\u001b[1;33m}\u001b[0m\u001b[1;33m)\u001b[0m\u001b[1;33m\u001b[0m\u001b[1;33m\u001b[0m\u001b[0m\n\u001b[0m",
      "\u001b[1;31mTypeError\u001b[0m: set expected at most 1 argument, got 2"
     ]
    }
   ],
   "source": [
    "conjunto = set({2,3},{4,5}) # Não dá para se fazer, de fato, um conjunto aninhado. Isso não está na teoria dos conjuntos"
   ]
  },
  {
   "cell_type": "code",
   "execution_count": 12,
   "metadata": {},
   "outputs": [
    {
     "name": "stdout",
     "output_type": "stream",
     "text": [
      "{frozenset({3, 4}), frozenset({5, 6}), frozenset({1, 2})}\n",
      "<class 'frozenset'>\n",
      "<class 'frozenset'>\n",
      "<class 'frozenset'>\n"
     ]
    }
   ],
   "source": [
    "conj = set()\n",
    "conj.add(frozenset((1,2)))\n",
    "conj.add(frozenset([3,4]))\n",
    "conj.add(frozenset((5,6)))\n",
    "print(conj)\n",
    "\n",
    "for i in conj:\n",
    "    print(type(i))"
   ]
  },
  {
   "cell_type": "markdown",
   "metadata": {},
   "source": [
    "## Estruturas aninhadas entre si"
   ]
  },
  {
   "cell_type": "code",
   "execution_count": 13,
   "metadata": {},
   "outputs": [
    {
     "name": "stdout",
     "output_type": "stream",
     "text": [
      "([1, 2, 3], {'chave': 'valor'}, {2, 3, 4}, [1, (2, 3), {'chave': (2, 3)}])\n"
     ]
    }
   ],
   "source": [
    "super_estrutura = ([1,2,3],{'chave':'valor'},{2,3,4}, [1,(2,3),{'chave':(2,3)}])\n",
    "\n",
    "print(super_estrutura)"
   ]
  },
  {
   "cell_type": "code",
   "execution_count": null,
   "metadata": {},
   "outputs": [],
   "source": []
  }
 ],
 "metadata": {
  "kernelspec": {
   "display_name": "Python 3",
   "language": "python",
   "name": "python3"
  },
  "language_info": {
   "codemirror_mode": {
    "name": "ipython",
    "version": 3
   },
   "file_extension": ".py",
   "mimetype": "text/x-python",
   "name": "python",
   "nbconvert_exporter": "python",
   "pygments_lexer": "ipython3",
   "version": "3.8.5"
  }
 },
 "nbformat": 4,
 "nbformat_minor": 4
}
