{
 "cells": [
  {
   "cell_type": "markdown",
   "metadata": {},
   "source": [
    "# Orientação a Objetos"
   ]
  },
  {
   "cell_type": "markdown",
   "metadata": {},
   "source": [
    "## Classes\n",
    "Uma classe define uma estrutura de dados que contenha uma instância de atributos, instância de métodos e classes aninhadas.  \n",
    "Classes são estruturas de dados que possuem atributos e métodos, para virem a serem implementadas por futuros objetos.  \n",
    "Classes, então, são representações computacionais de algo que queremos introduzir no nosso código"
   ]
  },
  {
   "cell_type": "code",
   "execution_count": 1,
   "metadata": {},
   "outputs": [],
   "source": [
    "# Classes -> Representação\n",
    "    # Atributos -> Variáveis\n",
    "    # Métodos -> Funçoes"
   ]
  },
  {
   "cell_type": "markdown",
   "metadata": {},
   "source": [
    "## Objetos\n",
    "Um objeto em linguagem de programação representa a posição onde será armazenada uma instância daquela classe.  \n",
    "Objetos são instâncias (versões/criações/representação) da classe (o que o objeto tenta representar).  \n",
    "Todo objeto possui um tipo"
   ]
  },
  {
   "cell_type": "code",
   "execution_count": 2,
   "metadata": {},
   "outputs": [],
   "source": [
    "# Carro\n",
    "    # Modelo -> Ferrari\n",
    "    # Ano    -> 2019\n",
    "    # Estado -> Novo\n",
    "    \n",
    "    # liga_desliga() => Método para ligar e desligar o carro\n",
    "    # acelerar() => Método para acelerar\n",
    "    # test_drive() => Método para testar o carro\n",
    "    # comprar() => Método para comprar o carro\n",
    "    \n",
    "# Carro\n",
    "    # Modelo -> BMW\n",
    "    # Ano    -> 2016\n",
    "    # Estado -> Semi-novo\n",
    "    \n",
    "    # liga_desliga() => Método para ligar e desligar o carro\n",
    "    # acelerar() => Método para acelerar\n",
    "    # test_drive() => Método para testar o carro\n",
    "    # comprar() => Método para comprar o carro\n",
    "    \n",
    "    \n",
    "# Modelo, Ano e Estado => São atributos!    \n",
    "# Ligar e Desligar, Acelerar, Fazer Test Drive e Comprar => São métodos!"
   ]
  },
  {
   "cell_type": "markdown",
   "metadata": {},
   "source": [
    "### Resumindo"
   ]
  },
  {
   "cell_type": "code",
   "execution_count": 3,
   "metadata": {},
   "outputs": [],
   "source": [
    "# Classe = Carro\n",
    "    # Atributos = Modelo, Ano e Estado\n",
    "    # Métodos = liga_desliga(), acelerar(), test_drive() e comprar()\n",
    "    \n",
    "# Objeto = Instância da classe (representações/variáveis da classe)"
   ]
  },
  {
   "cell_type": "code",
   "execution_count": 4,
   "metadata": {},
   "outputs": [],
   "source": [
    "# Classes são representações computacionais de algo que queremos vir a utilizar no decorrer do nosso código..\n",
    "# Onde representamos os atributos e métodos de acordo com a nossa necessidade"
   ]
  },
  {
   "cell_type": "code",
   "execution_count": 15,
   "metadata": {},
   "outputs": [
    {
     "name": "stdout",
     "output_type": "stream",
     "text": [
      "O valor do estado do fusca é: novo\n",
      "O valor do estado da ferrari é: usado\n",
      "O valor do estado da bmw é: novo\n",
      "O tipo do fusca é: <class '__main__.carro'>\n",
      "O tipo da ferrari é: <class '__main__.carro'>\n",
      "O tipo do atributo 'estado' do fusca é: <class 'str'>\n",
      "O tipo do atributo 'estado' da ferrari é: <class 'str'>\n"
     ]
    }
   ],
   "source": [
    "class carro(object):\n",
    "    estado = 'novo'\n",
    "    \n",
    "fusca = carro() # Objeto\n",
    "fusca.estado = 'novo' # Atributo\n",
    "ferrari = carro() # Objeto\n",
    "ferrari.estado = 'usado' # Atributo\n",
    "bmw = carro()\n",
    "print('O valor do estado do fusca é:', fusca.estado) # Valor do atributo\n",
    "print('O valor do estado da ferrari é:', ferrari.estado) # Valor do atributo\n",
    "print('O valor do estado da bmw é:', bmw.estado) # Valor do atributo\n",
    "print('O tipo do fusca é:',type(fusca)) # Tipo do objeto\n",
    "print('O tipo da ferrari é:',type(ferrari)) # Tipo do objeto\n",
    "print('O tipo do atributo \\'estado\\' do fusca é:',type(fusca.estado)) # Tipo do atributo\n",
    "print('O tipo do atributo \\'estado\\' da ferrari é:',type(ferrari.estado)) # Tipo do atributo"
   ]
  },
  {
   "cell_type": "markdown",
   "metadata": {},
   "source": [
    "## Instâncias Abertas\n",
    "Nem sempre precisamos definir tudo direto na classe.  \n",
    "Uma classe pode ter suas propriedades definidas diretamente nos objetos.  \n",
    "Dessa forma, os atributos são inseridos dinamicamente nos objetos.  "
   ]
  },
  {
   "cell_type": "code",
   "execution_count": 16,
   "metadata": {},
   "outputs": [],
   "source": [
    "class carro(object):\n",
    "    pass"
   ]
  },
  {
   "cell_type": "code",
   "execution_count": 18,
   "metadata": {},
   "outputs": [
    {
     "name": "stdout",
     "output_type": "stream",
     "text": [
      "usado\n"
     ]
    }
   ],
   "source": [
    "gol = carro()\n",
    "gol.estado = 'usado'\n",
    "print(gol.estado)"
   ]
  },
  {
   "cell_type": "markdown",
   "metadata": {},
   "source": [
    "## Atributos de classe\n",
    "É um atributo que fica diretamente na classe.  \n",
    "Sendo assim, todos os objetos dessa classe terão essa propriedade (atributo)"
   ]
  },
  {
   "cell_type": "code",
   "execution_count": 23,
   "metadata": {},
   "outputs": [
    {
     "name": "stdout",
     "output_type": "stream",
     "text": [
      "novo\n"
     ]
    }
   ],
   "source": [
    "class carro(object):\n",
    "    estado = 'novo'\n",
    "\n",
    "print(carro.estado) # atributos de classe podem ser acessados diretamente com a \n",
    "                    # classe (sem precisar de objetos)"
   ]
  },
  {
   "cell_type": "code",
   "execution_count": 25,
   "metadata": {},
   "outputs": [
    {
     "name": "stdout",
     "output_type": "stream",
     "text": [
      "novo\n",
      "novo\n",
      "novo\n"
     ]
    }
   ],
   "source": [
    "fusca = carro()\n",
    "ferrari = carro()\n",
    "bmw = carro()\n",
    "\n",
    "\n",
    "print(fusca.estado)\n",
    "print(ferrari.estado)\n",
    "print(bmw.estado)"
   ]
  },
  {
   "cell_type": "code",
   "execution_count": 26,
   "metadata": {},
   "outputs": [
    {
     "name": "stdout",
     "output_type": "stream",
     "text": [
      "usado\n",
      "novo\n",
      "semi-novo\n"
     ]
    }
   ],
   "source": [
    "fusca.estado = 'usado'\n",
    "bmw.estado = 'semi-novo'\n",
    "\n",
    "print(fusca.estado)\n",
    "print(ferrari.estado)\n",
    "print(bmw.estado)"
   ]
  },
  {
   "cell_type": "markdown",
   "metadata": {},
   "source": [
    "Em Python precisamos atentar que \"as coisas\" ou são da classe, ou são da instância  \n",
    "Para editarmos uma propriedade apenas do objeto que chama um método, usamos a palavra reservada \"self\".  \n",
    "Portanto todo método deve o parâmetro self e esse ser o primeiro"
   ]
  },
  {
   "cell_type": "markdown",
   "metadata": {},
   "source": [
    "## Self\n",
    "Para editarmos uma propriedade apenas do objeto que chama um método, usamos a palavra reservada \"self\".  \n",
    "Portanto todo método deve o parâmetro self e esse ser o primeiro"
   ]
  },
  {
   "cell_type": "code",
   "execution_count": 27,
   "metadata": {},
   "outputs": [
    {
     "name": "stdout",
     "output_type": "stream",
     "text": [
      "novo\n",
      "usado\n",
      "novo\n"
     ]
    }
   ],
   "source": [
    "class carro(object):\n",
    "    estado = 'novo'\n",
    "    \n",
    "    def dirigir(self):\n",
    "        self.estado = 'usado'\n",
    "\n",
    "# Exemplo 1\n",
    "bmw = carro() # criou com o estado novo\n",
    "print(bmw.estado) # verifica o estado da bmw\n",
    "bmw.dirigir() # modifiquei o estado para usado\n",
    "print(bmw.estado) # Passa a ser usada\n",
    "\n",
    "# Exemplo 2\n",
    "ferrari = carro() # criou com o estado novo\n",
    "print(ferrari.estado) # continua como novo"
   ]
  },
  {
   "cell_type": "markdown",
   "metadata": {},
   "source": [
    "Caso não utilizarmos o self...coisas estranhas podem acontecer "
   ]
  },
  {
   "cell_type": "code",
   "execution_count": 28,
   "metadata": {},
   "outputs": [
    {
     "name": "stdout",
     "output_type": "stream",
     "text": [
      "novo\n",
      "novo\n",
      "novo\n"
     ]
    }
   ],
   "source": [
    "class carro(object):\n",
    "    estado = 'novo'\n",
    "    \n",
    "    def dirigir(self):\n",
    "        estado = 'usado'\n",
    "\n",
    "# Exemplo 1\n",
    "bmw = carro() # criou com o estado novo\n",
    "print(bmw.estado) # verifica o estado da bmw\n",
    "bmw.dirigir() # modifiquei o estado para usado\n",
    "print(bmw.estado) # Passa a ser usada\n",
    "\n",
    "# Exemplo 2\n",
    "ferrari = carro() # criou com o estado novo\n",
    "print(ferrari.estado) # continua como novo"
   ]
  },
  {
   "cell_type": "code",
   "execution_count": 29,
   "metadata": {},
   "outputs": [
    {
     "name": "stdout",
     "output_type": "stream",
     "text": [
      "novo\n",
      "usado\n",
      "usado\n"
     ]
    }
   ],
   "source": [
    "class carro(object):\n",
    "    estado = 'novo'\n",
    "    \n",
    "    def dirigir(self):\n",
    "        carro.estado = 'usado'\n",
    "\n",
    "# Exemplo 1\n",
    "bmw = carro() # criou com o estado novo\n",
    "print(bmw.estado) # verifica o estado da bmw\n",
    "bmw.dirigir() # modifiquei o estado para usado\n",
    "print(bmw.estado) # Passa a ser usada\n",
    "\n",
    "# Exemplo 2\n",
    "ferrari = carro() # criou com o estado novo\n",
    "print(ferrari.estado) # continua como novo"
   ]
  },
  {
   "cell_type": "markdown",
   "metadata": {},
   "source": [
    "## Diferenciando atributos da classe com atributos da instância"
   ]
  },
  {
   "cell_type": "code",
   "execution_count": 31,
   "metadata": {},
   "outputs": [
    {
     "name": "stdout",
     "output_type": "stream",
     "text": [
      "1- novo\n",
      "1- semi-novo\n",
      "2- novo\n",
      "novo\n",
      "quebrado\n",
      "1- semi-novo\n",
      "2- quebrado\n",
      "3- quebrado\n"
     ]
    }
   ],
   "source": [
    "class carro(object):\n",
    "    estado = 'novo'\n",
    "    \n",
    "carro1 = carro()\n",
    "print('1-',carro1.estado)\n",
    "carro1.estado = 'semi-novo' # Neste momento criamos um atributo de INSTÂNCIA\n",
    "\n",
    "carro2 = carro()\n",
    "\n",
    "print('1-', carro1.estado)\n",
    "print('2-', carro2.estado)\n",
    "\n",
    "print(carro.estado)\n",
    "carro.estado = 'quebrado' # Neste momento alteramos um atributo de CLASSE\n",
    "print(carro.estado)\n",
    "\n",
    "carro3 = carro()\n",
    "print('1-', carro1.estado) # Carro 1 possui um atributo de INSTÂNCIA\n",
    "print('2-', carro2.estado) # Carro 2 possui um atributo de CLASSE\n",
    "print('3-', carro3.estado) # Carro 2 possui um atributo de CLASSE"
   ]
  },
  {
   "cell_type": "markdown",
   "metadata": {},
   "source": [
    "## Construtor de classe (__init__)\n",
    "O construtor de classe no Python é chamado de __init__ e ele é usado para criar uma nova instância do objeto.  \n",
    "Caso usarmos algum parâmetro no construtor, torna-se obrigatório o envio desse parâmetro na hora da criação do objeto.  \n",
    "Com isso, podemos criar valores padrões para nossos objetos"
   ]
  },
  {
   "cell_type": "code",
   "execution_count": 2,
   "metadata": {},
   "outputs": [],
   "source": [
    "# Ferrari = novo\n",
    "# Fusca = usado\n",
    "# BMW = semi-novo\n",
    "\n",
    "# Criar + modifica => cada um já tem seu próprio estado inicial\n",
    "\n",
    "# __init__\n",
    "class carro(object):\n",
    "    def __init__(self, estado):\n",
    "        self.estado = estado"
   ]
  },
  {
   "cell_type": "code",
   "execution_count": 6,
   "metadata": {},
   "outputs": [
    {
     "name": "stdout",
     "output_type": "stream",
     "text": [
      "O estado da BMW é: Semi-novo\n",
      "O estado da Ferrari é: Novo\n",
      "O estado do Fusca é: Usado\n"
     ]
    }
   ],
   "source": [
    "bmw = carro('Semi-novo')\n",
    "ferrari = carro('Novo')\n",
    "fusca = carro('Usado')\n",
    "\n",
    "print('O estado da BMW é:', bmw.estado)\n",
    "print('O estado da Ferrari é:', ferrari.estado)\n",
    "print('O estado do Fusca é:', fusca.estado)"
   ]
  },
  {
   "cell_type": "markdown",
   "metadata": {},
   "source": [
    "# Desafio 9.1 - Desafio do carro nomeado\n",
    "Criar uma classe carro onde além de estado, também tenha um nome por padrão (construtor).  \n",
    "Criar um método nessa classe carro onde vai printar para gnt o nome e o estado do carro."
   ]
  },
  {
   "cell_type": "code",
   "execution_count": 7,
   "metadata": {},
   "outputs": [],
   "source": [
    "class carro(object):\n",
    "    marca = 'BMW'\n",
    "    estado = 'novo'\n",
    "    \n",
    "    def status(self):\n",
    "        print('A marca do carro é:', self.marca)\n",
    "        print('O estado do carro é:', self.estado)"
   ]
  },
  {
   "cell_type": "code",
   "execution_count": 12,
   "metadata": {},
   "outputs": [
    {
     "name": "stdout",
     "output_type": "stream",
     "text": [
      "A marca do carro é: BMW\n",
      "O estado do carro é: novo\n",
      "None\n"
     ]
    }
   ],
   "source": [
    "bmw = carro()\n",
    "print(bmw.status())"
   ]
  },
  {
   "cell_type": "code",
   "execution_count": 59,
   "metadata": {},
   "outputs": [],
   "source": [
    "class carro(object):\n",
    "    def __init__(self, marca, estado):\n",
    "        self.marca = marca\n",
    "        self.estado = estado\n",
    "    \n",
    "    def status(self):\n",
    "        print('A marca do carro é:', self.marca)\n",
    "        print('O estado do carro é:', self.estado)\n",
    "        print(f'A marca do carro é {self.marca} e o estado atual é {self.estado}')"
   ]
  },
  {
   "cell_type": "code",
   "execution_count": 56,
   "metadata": {},
   "outputs": [],
   "source": [
    "audi = carro('Audi','semi-novo')"
   ]
  },
  {
   "cell_type": "code",
   "execution_count": 57,
   "metadata": {},
   "outputs": [
    {
     "name": "stdout",
     "output_type": "stream",
     "text": [
      "A marca do carro é: Audi\n",
      "O estado do carro é: semi-novo\n"
     ]
    }
   ],
   "source": [
    "audi.status()"
   ]
  },
  {
   "cell_type": "code",
   "execution_count": 60,
   "metadata": {},
   "outputs": [
    {
     "name": "stdout",
     "output_type": "stream",
     "text": [
      "A marca do carro é: AUDI\n",
      "O estado do carro é: novo\n",
      "A marca do carro é AUDI e o estado atual é novo\n"
     ]
    }
   ],
   "source": [
    "audi = carro(estado = 'novo', marca = 'AUDI')\n",
    "audi.status()"
   ]
  },
  {
   "cell_type": "code",
   "execution_count": 51,
   "metadata": {},
   "outputs": [],
   "source": [
    "class carro(object):\n",
    "    estado = 'novo'\n",
    "    \n",
    "    def __init__(self, marca, km):\n",
    "        self.marca = marca\n",
    "        self.km = km\n",
    "        \n",
    "        if km == '0':\n",
    "            self.estado = 'novo'\n",
    "        if km == '100':\n",
    "            self.estado = 'semi-novo'\n",
    "        if km == '1000':\n",
    "            self.estado = 'usado'\n",
    "    \n",
    "    def status(self):\n",
    "        print('A marca do carro é:', self.marca)\n",
    "        print('O estado do carro é:', self.estado)   "
   ]
  },
  {
   "cell_type": "code",
   "execution_count": 52,
   "metadata": {},
   "outputs": [],
   "source": [
    "mercedes = carro('Marcedes','100')"
   ]
  },
  {
   "cell_type": "code",
   "execution_count": 53,
   "metadata": {},
   "outputs": [
    {
     "name": "stdout",
     "output_type": "stream",
     "text": [
      "A marca do carro é: Marcedes\n",
      "O estado do carro é: semi-novo\n"
     ]
    }
   ],
   "source": [
    "mercedes.status()"
   ]
  },
  {
   "cell_type": "markdown",
   "metadata": {},
   "source": [
    "## Desafio ByLearner"
   ]
  },
  {
   "cell_type": "code",
   "execution_count": 61,
   "metadata": {},
   "outputs": [],
   "source": [
    "# Carro\n",
    "    # Modelo -> Definimos pelo construtor (\"Quem define é a loja (classe)\") => Tem um valor inicial para cada um\n",
    "    # Ano    -> Definimos pelo construtor (\"Quem define é a loja (classe)\") => Tem um valor inicial para cada um\n",
    "    # Estado -> Definimos pelo construtor (\"Quem define é a loja (classe)\") => Tem um valor inicial para cada um\n",
    "    # Comprado -> Vai ser falso para todos => valor inicial padrão = é uma variável de classe e não de instância\n",
    "    \n",
    "    # liga_desliga() -> liga e desliga o carro -> obrigatório antes de dirigir/fazer test drive\n",
    "    # acelerar() -> só pode acelerar depois de comprar o carro...mas vai ter mesmo assim\n",
    "    # test_drive() -> só pode fazer antes de comprar, não posso acelerar\n",
    "    # comprar() -> só pode comprar uma vez\n",
    "    # dirigir() -> você só pode somente depois de comprar o carro -> pode acelerar\n",
    "    \n",
    "# Modelo, ano e estado -> São atributos de instancia (construtor)\n",
    "# comprado -> Atributo da classe (valor padrão inicial)\n",
    "# ligar e desligar, acelerar, fazer test-drive, comprar e dirigir -> são métodos da classe "
   ]
  },
  {
   "cell_type": "code",
   "execution_count": 144,
   "metadata": {},
   "outputs": [],
   "source": [
    "class audi():\n",
    "    \n",
    "    def __init__(self, modelo, ano, estado):\n",
    "        self.modelo = modelo\n",
    "        self.ano = ano\n",
    "        self.estado = estado\n",
    "        self.comprado = False\n",
    "        self.ligar = False\n",
    "    \n",
    "    def status(self):\n",
    "        if self.comprado == False:\n",
    "            print(f'O modelo do veículo é {self.modelo}, do ano {self.ano}, o seu estado atual é {self.estado} e ele está disponível para compra')\n",
    "        else:\n",
    "            print(f'O modelo do veículo é {self.modelo}, do ano {self.ano}, o seu estado atual é {self.estado} e ele já foi vendido')\n",
    "\n",
    "    def ligando(self):\n",
    "        self.ligar = True\n",
    "        print('Carro ligado')\n",
    "        \n",
    "    def acelerar(self):\n",
    "        if self.ligar == True:\n",
    "            if self.comprado == False:\n",
    "                print('Desculpe, para acelerar é necessário comprar o veículo')\n",
    "            else:\n",
    "                print('Acelerando, vrum.. vrum..')\n",
    "        else:\n",
    "            print('Primeiro ligue o veículo')\n",
    "            \n",
    "    def comprar(self):\n",
    "        self.comprado = True\n",
    "        print('Parabéns, o veículo foi adquirido com sucesso')\n",
    "    \n",
    "    def test_drive(self):\n",
    "        if self.comprado == False:\n",
    "            print('Fazendo test-drive')\n",
    "            if self.acelerar == True:\n",
    "                print('Acelerando o veículo')\n",
    "            else:\n",
    "                print('Desculpe, só é possível acelerar após a compra do veículo')\n",
    "        else:\n",
    "            print('O veículo já foi vendido, não é possível realizar o test-drive')\n",
    "    \n",
    "    def dirigir(self):\n",
    "        if self.comprado == False:\n",
    "            print('Desculpe, para dirigir é necessário comprar o veículo')\n",
    "        else:\n",
    "            print('Dirigindo por ai..')\n",
    "            self.acelerar()"
   ]
  },
  {
   "cell_type": "code",
   "execution_count": 145,
   "metadata": {},
   "outputs": [],
   "source": [
    "a3 = audi(modelo = 'A3', ano = '2021', estado = 'novo')"
   ]
  },
  {
   "cell_type": "code",
   "execution_count": 84,
   "metadata": {},
   "outputs": [
    {
     "name": "stdout",
     "output_type": "stream",
     "text": [
      "O modelo do veículo é A3, do ano 2021, o seu estado atual é novo e ele está disponível para compra\n"
     ]
    }
   ],
   "source": [
    "a3.status()"
   ]
  },
  {
   "cell_type": "code",
   "execution_count": 85,
   "metadata": {},
   "outputs": [
    {
     "name": "stdout",
     "output_type": "stream",
     "text": [
      "Primeiro ligue o veículo\n"
     ]
    }
   ],
   "source": [
    "a3.acelerar()"
   ]
  },
  {
   "cell_type": "code",
   "execution_count": 142,
   "metadata": {},
   "outputs": [
    {
     "name": "stdout",
     "output_type": "stream",
     "text": [
      "Carro ligado\n"
     ]
    }
   ],
   "source": [
    "a3.ligando()"
   ]
  },
  {
   "cell_type": "code",
   "execution_count": 87,
   "metadata": {},
   "outputs": [
    {
     "name": "stdout",
     "output_type": "stream",
     "text": [
      "Desculpe, para acelerar é necessário comprar o veículo\n"
     ]
    }
   ],
   "source": [
    "a3.acelerar()"
   ]
  },
  {
   "cell_type": "code",
   "execution_count": 90,
   "metadata": {},
   "outputs": [
    {
     "name": "stdout",
     "output_type": "stream",
     "text": [
      "Parabéns, o veículo foi adquirido com sucesso\n"
     ]
    }
   ],
   "source": [
    "a3.comprar()"
   ]
  },
  {
   "cell_type": "code",
   "execution_count": 91,
   "metadata": {},
   "outputs": [
    {
     "name": "stdout",
     "output_type": "stream",
     "text": [
      "Primeiro ligue o veículo\n"
     ]
    }
   ],
   "source": [
    "a3.acelerar()"
   ]
  },
  {
   "cell_type": "code",
   "execution_count": 149,
   "metadata": {},
   "outputs": [
    {
     "name": "stdout",
     "output_type": "stream",
     "text": [
      "Carro ligado\n"
     ]
    }
   ],
   "source": [
    "a3.ligando()"
   ]
  },
  {
   "cell_type": "code",
   "execution_count": 93,
   "metadata": {},
   "outputs": [
    {
     "name": "stdout",
     "output_type": "stream",
     "text": [
      "Acelerando, vrum.. vrum..\n"
     ]
    }
   ],
   "source": [
    "a3.acelerar()"
   ]
  },
  {
   "cell_type": "code",
   "execution_count": 95,
   "metadata": {},
   "outputs": [
    {
     "name": "stdout",
     "output_type": "stream",
     "text": [
      "O modelo do veículo é A3, do ano 2021, o seu estado atual é novo e ele já foi vendido\n"
     ]
    }
   ],
   "source": [
    "a3.status()"
   ]
  },
  {
   "cell_type": "code",
   "execution_count": 135,
   "metadata": {},
   "outputs": [
    {
     "name": "stdout",
     "output_type": "stream",
     "text": [
      "Fazendo test-drive\n",
      "Desculpe, só é possível acelerar após a compra do veículo\n"
     ]
    }
   ],
   "source": [
    "a3.test_drive()"
   ]
  },
  {
   "cell_type": "code",
   "execution_count": 136,
   "metadata": {},
   "outputs": [
    {
     "name": "stdout",
     "output_type": "stream",
     "text": [
      "Desculpe, para dirigir é necessário comprar o veículo\n"
     ]
    }
   ],
   "source": [
    "a3.dirigir()"
   ]
  },
  {
   "cell_type": "code",
   "execution_count": 147,
   "metadata": {},
   "outputs": [
    {
     "name": "stdout",
     "output_type": "stream",
     "text": [
      "Parabéns, o veículo foi adquirido com sucesso\n"
     ]
    }
   ],
   "source": [
    "a3.comprar()"
   ]
  },
  {
   "cell_type": "code",
   "execution_count": 138,
   "metadata": {},
   "outputs": [
    {
     "name": "stdout",
     "output_type": "stream",
     "text": [
      "O veículo já foi vendido, não é possível realizar o test-drive\n"
     ]
    }
   ],
   "source": [
    "a3.test_drive()"
   ]
  },
  {
   "cell_type": "code",
   "execution_count": 150,
   "metadata": {},
   "outputs": [
    {
     "name": "stdout",
     "output_type": "stream",
     "text": [
      "Dirigindo por ai..\n",
      "Acelerando, vrum.. vrum..\n"
     ]
    }
   ],
   "source": [
    "a3.dirigir()"
   ]
  },
  {
   "cell_type": "markdown",
   "metadata": {},
   "source": [
    "Solução da aula"
   ]
  },
  {
   "cell_type": "code",
   "execution_count": 127,
   "metadata": {},
   "outputs": [],
   "source": [
    "class carro():\n",
    "    comprado = False\n",
    "    \n",
    "    def __init__(self, modelo, ano, estado):\n",
    "        self.modelo = modelo\n",
    "        self.ano = ano\n",
    "        self.estado = estado\n",
    "\n",
    "    def comprar(self):\n",
    "        if(self.comprado):\n",
    "            print('Você já comprou, não pode comprar novamente!')\n",
    "            return # Interrompe o ciclo / para a execução (estilo um \"break\")\n",
    "        \n",
    "        self.comprado = True\n",
    "        print('Desculpe, o veículo já foi vendido')\n",
    "    \n",
    "    def test_drive(self):\n",
    "        if(not self.comprado):\n",
    "            print('Você vai fazer o test drive, ligando o veículo')\n",
    "            self.liga_desliga(True)\n",
    "            print('Você está fazendo o test drive')\n",
    "            if(self.acelerar()):\n",
    "                print('Você está acelerando')\n",
    "            else:\n",
    "                print('Você não pode acelerar')\n",
    "            print('Parando o veículo')\n",
    "            self.liga_desliga(False)\n",
    "            print('Você terminou o test drive')\n",
    "        else:\n",
    "            print('Você não pode fazer o test drive, pois o carro já foi vendido')\n",
    "        \n",
    "    def dirigir(self):\n",
    "        if (self.comprado):\n",
    "            print('Ligando o veículo')\n",
    "            self.liga_desliga(True)\n",
    "            print('Você está dirigindo')\n",
    "            if(self.acelerar()):\n",
    "                print('Você está acelerando')\n",
    "            else:\n",
    "                print('Você não pode acelerar')\n",
    "            print('Parando o veículo')\n",
    "            self.liga_desliga(False)\n",
    "            print('Você terminou de dirigir o veículo')\n",
    "        else:\n",
    "            print('Você só pode dirigir se comprar o veículo')            \n",
    "    \n",
    "    def acelerar(self):\n",
    "        return self.comprado\n",
    "        \n",
    "    def liga_desliga(self, status):\n",
    "        if status: # Booleano\n",
    "            print('Você ligou o carro')\n",
    "        else:\n",
    "            print('Você desligou o carro')"
   ]
  },
  {
   "cell_type": "code",
   "execution_count": 128,
   "metadata": {},
   "outputs": [],
   "source": [
    "ferrari = carro(modelo = 'Berlineta', ano = '2020', estado = 'novo')"
   ]
  },
  {
   "cell_type": "code",
   "execution_count": 112,
   "metadata": {},
   "outputs": [
    {
     "name": "stdout",
     "output_type": "stream",
     "text": [
      "Você só pode dirigir se comprar o veículo\n"
     ]
    }
   ],
   "source": [
    "ferrari.dirigir()"
   ]
  },
  {
   "cell_type": "code",
   "execution_count": 116,
   "metadata": {},
   "outputs": [
    {
     "name": "stdout",
     "output_type": "stream",
     "text": [
      "Você vai fazer o test drive, ligando o veículo\n",
      "Você ligou o carro\n",
      "Você está fazendo o test drive\n",
      "Você não pode acelerar\n",
      "Parando o veículo\n",
      "Você desligou o carro\n",
      "Você terminou o test drive\n"
     ]
    }
   ],
   "source": [
    "ferrari.test_drive()"
   ]
  },
  {
   "cell_type": "code",
   "execution_count": 117,
   "metadata": {},
   "outputs": [
    {
     "name": "stdout",
     "output_type": "stream",
     "text": [
      "Você só pode dirigir se comprar o veículo\n"
     ]
    }
   ],
   "source": [
    "ferrari.dirigir()"
   ]
  },
  {
   "cell_type": "code",
   "execution_count": 124,
   "metadata": {},
   "outputs": [
    {
     "name": "stdout",
     "output_type": "stream",
     "text": [
      "Você comprou o carro\n"
     ]
    }
   ],
   "source": [
    "ferrari.comprar()"
   ]
  },
  {
   "cell_type": "code",
   "execution_count": 119,
   "metadata": {},
   "outputs": [
    {
     "name": "stdout",
     "output_type": "stream",
     "text": [
      "Você não pode fazer o test drive, pois o carro já foi vendido\n"
     ]
    }
   ],
   "source": [
    "ferrari.test_drive()"
   ]
  },
  {
   "cell_type": "code",
   "execution_count": 125,
   "metadata": {},
   "outputs": [
    {
     "name": "stdout",
     "output_type": "stream",
     "text": [
      "Ligando o veículo\n",
      "Você ligou o carro\n",
      "Você está dirigindo\n",
      "Você está acelerando\n",
      "Parando o veículo\n",
      "Você desligou o carro\n",
      "Você terminou de dirigir o veículo\n"
     ]
    }
   ],
   "source": [
    "ferrari.dirigir()"
   ]
  },
  {
   "cell_type": "code",
   "execution_count": 129,
   "metadata": {},
   "outputs": [
    {
     "name": "stdout",
     "output_type": "stream",
     "text": [
      "Desculpe, o veículo já foi vendido\n"
     ]
    }
   ],
   "source": [
    "ferrari.comprar()"
   ]
  },
  {
   "cell_type": "markdown",
   "metadata": {},
   "source": [
    "## Desafio - Calculadora\n",
    "Classe calculadora que contêm os seguintes métodos:\n",
    "- somar  \n",
    "- subtrair  \n",
    "- multiplicar  \n",
    "- dividir  \n",
    "\n",
    "PS: Esses métodos funcionam apenas com dois números  \n",
    "PS2: Todos os métodos retornam o valor  \n",
    "A classe também contem as propriedades (atributos):  \n",
    "- primeiro_valor  \n",
    "- segundo_valor  \n",
    "\n",
    "PS3: Os valores são passados em parâmetro  \n",
    "PS4: Os valores vão ser lidos do usuário (input)"
   ]
  },
  {
   "cell_type": "code",
   "execution_count": 164,
   "metadata": {},
   "outputs": [],
   "source": [
    "class calculadora(object):\n",
    "    \n",
    "    def __init__(self):\n",
    "        self.valor1 = float(input('Digite o primeiro valor: '))\n",
    "        self.valor2 = float(input('Digite o segundo valor: '))\n",
    "    \n",
    "    def somar(self):\n",
    "        self.soma = self.valor1 + self.valor2\n",
    "        print(f'A soma é {self.soma}')\n",
    "        \n",
    "    def subtrair(self):\n",
    "        self.subtrair = self.valor1 - self.valor2\n",
    "        print(f'A subtração é {self.subtrair}')\n",
    "        \n",
    "    def multiplicar(self):\n",
    "        self.multiplicar = self.valor1 * self.valor2\n",
    "        print(f'A multiplicação é {self.multiplicar}')\n",
    "    \n",
    "    def divisao(self):\n",
    "        self.divisao = self.valor1 / self.valor2\n",
    "        print(f'A divisao vale {self.divisao}')"
   ]
  },
  {
   "cell_type": "code",
   "execution_count": 165,
   "metadata": {},
   "outputs": [
    {
     "name": "stdout",
     "output_type": "stream",
     "text": [
      "Digite o primeiro valor: 5\n",
      "Digite o segundo valor: 6\n"
     ]
    }
   ],
   "source": [
    "calculadora = calculadora()"
   ]
  },
  {
   "cell_type": "code",
   "execution_count": 160,
   "metadata": {},
   "outputs": [
    {
     "name": "stdout",
     "output_type": "stream",
     "text": [
      "A soma é 11.0\n"
     ]
    }
   ],
   "source": [
    "calculadora.somar()"
   ]
  },
  {
   "cell_type": "code",
   "execution_count": 161,
   "metadata": {},
   "outputs": [
    {
     "name": "stdout",
     "output_type": "stream",
     "text": [
      "A subtração é -1.0\n"
     ]
    }
   ],
   "source": [
    "calculadora.subtrair()"
   ]
  },
  {
   "cell_type": "code",
   "execution_count": 166,
   "metadata": {},
   "outputs": [
    {
     "name": "stdout",
     "output_type": "stream",
     "text": [
      "A multiplicação é 30.0\n"
     ]
    }
   ],
   "source": [
    "calculadora.multiplicar()"
   ]
  },
  {
   "cell_type": "code",
   "execution_count": 167,
   "metadata": {
    "scrolled": true
   },
   "outputs": [
    {
     "name": "stdout",
     "output_type": "stream",
     "text": [
      "A divisao vale 0.8333333333333334\n"
     ]
    }
   ],
   "source": [
    "calculadora.divisao()"
   ]
  },
  {
   "cell_type": "markdown",
   "metadata": {},
   "source": [
    "### Resolução da aula"
   ]
  },
  {
   "cell_type": "code",
   "execution_count": 203,
   "metadata": {},
   "outputs": [],
   "source": [
    "class calculator(object):\n",
    "    def somar(self, primeiro_valor, segundo_valor):\n",
    "        return primeiro_valor + segundo_valor\n",
    "    \n",
    "    def subtrair(self, primeiro_valor, segundo_valor):\n",
    "        return primeiro_valor - segundo_valor\n",
    "    \n",
    "    def multiplicar(self, primeiro_valor, segundo_valor):\n",
    "        return primeiro_valor * segundo_valor\n",
    "    \n",
    "    def dividir(self, primeiro_valor, segundo_valor):\n",
    "        return primeiro_valor / segundo_valor"
   ]
  },
  {
   "cell_type": "code",
   "execution_count": 204,
   "metadata": {},
   "outputs": [],
   "source": [
    "cal = calculator()"
   ]
  },
  {
   "cell_type": "code",
   "execution_count": 206,
   "metadata": {},
   "outputs": [
    {
     "data": {
      "text/plain": [
       "7"
      ]
     },
     "execution_count": 206,
     "metadata": {},
     "output_type": "execute_result"
    }
   ],
   "source": [
    "cal.somar(2,5)"
   ]
  },
  {
   "cell_type": "code",
   "execution_count": 207,
   "metadata": {},
   "outputs": [
    {
     "data": {
      "text/plain": [
       "-3"
      ]
     },
     "execution_count": 207,
     "metadata": {},
     "output_type": "execute_result"
    }
   ],
   "source": [
    "cal.subtrair(2,5)"
   ]
  },
  {
   "cell_type": "code",
   "execution_count": 208,
   "metadata": {},
   "outputs": [
    {
     "data": {
      "text/plain": [
       "10"
      ]
     },
     "execution_count": 208,
     "metadata": {},
     "output_type": "execute_result"
    }
   ],
   "source": [
    "cal.multiplicar(2,5)"
   ]
  },
  {
   "cell_type": "code",
   "execution_count": 209,
   "metadata": {},
   "outputs": [
    {
     "data": {
      "text/plain": [
       "0.4"
      ]
     },
     "execution_count": 209,
     "metadata": {},
     "output_type": "execute_result"
    }
   ],
   "source": [
    "cal.dividir(2,5)"
   ]
  },
  {
   "cell_type": "markdown",
   "metadata": {},
   "source": [
    "## Desafio - Média do aluno\n",
    "Classe aluno possui os atributos:  \n",
    "- nome  \n",
    "- status -> aprovado ou não aprovado  \n",
    "- nota1 -> float  \n",
    "- nota2 -> float  \n",
    "- media ->  \n",
    "\n",
    "Classe também possui um método:  \n",
    "- Mostrar informações -> fala o nome do aluno e se ele foi aprovado ou não  \n",
    "- calcular media -> calcula e retorna a média do aluno  \n",
    "\n",
    "Regras:\n",
    "- Para passar ele precisa de 6  \n",
    "- Nome será enviado no construtor  \n",
    "- Nota1 e Nota2 será enviado por parâmetro -> Inserir nota  "
   ]
  },
  {
   "cell_type": "code",
   "execution_count": 182,
   "metadata": {},
   "outputs": [],
   "source": [
    "class alunos(object):\n",
    "    \n",
    "    def __init__(self):\n",
    "        self.nome = input('Insira o nome do aluno: ')\n",
    "        print(f'O nome do aluno é {self.nome}')\n",
    "    \n",
    "    def inserir_notas(self):\n",
    "        self.nota1 = float(input(f'Insira a nota da p1 do aluno {self.nome}: '))\n",
    "        self.nota2 = float(input(f'Insira a nota da p2 do aluno {self.nome}: '))\n",
    "        \n",
    "    def calcular_media(self):\n",
    "        self.media = (self.nota1 + self.nota2) / 2\n",
    "        print(f'A média do aluno {self.nome} é {self.media}')\n",
    "        \n",
    "        if self.media >= 6:\n",
    "              self.status = True\n",
    "        else:\n",
    "              self.status = False\n",
    "    \n",
    "    def mostrar_informacoes(self):\n",
    "        if self.status:\n",
    "              print(f'O aluno {self.nome} teve a média {self.media}, portanto ele está aprovado. \\nParabéns!!!')\n",
    "        else:\n",
    "              print(f'O aluno {self.nome} teve a média {self.media}, portanto ele está reprovado. \\nTente novamente no próximo semestre')"
   ]
  },
  {
   "cell_type": "code",
   "execution_count": 183,
   "metadata": {},
   "outputs": [
    {
     "name": "stdout",
     "output_type": "stream",
     "text": [
      "Insira o nome do aluno: Lucas\n",
      "O nome do aluno é Lucas\n"
     ]
    }
   ],
   "source": [
    "aluno1 = alunos()"
   ]
  },
  {
   "cell_type": "code",
   "execution_count": 184,
   "metadata": {},
   "outputs": [
    {
     "name": "stdout",
     "output_type": "stream",
     "text": [
      "Insira a nota da p1 do aluno Lucas: 10\n",
      "Insira a nota da p2 do aluno Lucas: 9.5\n"
     ]
    }
   ],
   "source": [
    "aluno1.inserir_notas()"
   ]
  },
  {
   "cell_type": "code",
   "execution_count": 197,
   "metadata": {},
   "outputs": [
    {
     "name": "stdout",
     "output_type": "stream",
     "text": [
      "A média do aluno Lucas é 9.75\n"
     ]
    }
   ],
   "source": [
    "aluno1.calcular_media()"
   ]
  },
  {
   "cell_type": "code",
   "execution_count": 186,
   "metadata": {},
   "outputs": [
    {
     "name": "stdout",
     "output_type": "stream",
     "text": [
      "O aluno Lucas teve a média 9.75, portanto ele está aprovado. \n",
      "Parabéns!!!\n"
     ]
    }
   ],
   "source": [
    "aluno1.mostrar_informacoes()"
   ]
  },
  {
   "cell_type": "code",
   "execution_count": 190,
   "metadata": {},
   "outputs": [
    {
     "name": "stdout",
     "output_type": "stream",
     "text": [
      "Insira o nome do aluno: Rubens\n",
      "O nome do aluno é Rubens\n"
     ]
    }
   ],
   "source": [
    "aluno2 = alunos()"
   ]
  },
  {
   "cell_type": "code",
   "execution_count": 191,
   "metadata": {},
   "outputs": [
    {
     "name": "stdout",
     "output_type": "stream",
     "text": [
      "Insira a nota da p1 do aluno Rubens: 4\n",
      "Insira a nota da p2 do aluno Rubens: 3\n"
     ]
    }
   ],
   "source": [
    "aluno2.inserir_notas()"
   ]
  },
  {
   "cell_type": "code",
   "execution_count": 198,
   "metadata": {},
   "outputs": [
    {
     "name": "stdout",
     "output_type": "stream",
     "text": [
      "A média do aluno Rubens é 3.5\n"
     ]
    }
   ],
   "source": [
    "aluno2.calcular_media()"
   ]
  },
  {
   "cell_type": "code",
   "execution_count": 199,
   "metadata": {},
   "outputs": [
    {
     "name": "stdout",
     "output_type": "stream",
     "text": [
      "O aluno Rubens teve a média 3.5, portanto ele está reprovado. \n",
      "Tente novamente no próximo semestre\n"
     ]
    }
   ],
   "source": [
    "aluno2.mostrar_informacoes()"
   ]
  },
  {
   "cell_type": "markdown",
   "metadata": {},
   "source": [
    "### Resolução da aula"
   ]
  },
  {
   "cell_type": "code",
   "execution_count": 216,
   "metadata": {},
   "outputs": [],
   "source": [
    "class aluno(object):\n",
    "    status = False\n",
    "    \n",
    "    def __init__(self, nome):\n",
    "        self.nome = nome\n",
    "    \n",
    "    def inserir_notas(self,nota1,nota2):\n",
    "        self.nota1 = nota1\n",
    "        self.nota2 = nota2\n",
    "        \n",
    "    def calcular_media(self):\n",
    "        return (self.nota1 + self.nota2) / 2\n",
    "    \n",
    "    def mostrar_informacoes(self):\n",
    "        status = (self.calcular_media() >= 6)\n",
    "        if status:\n",
    "            print(f'O aluno {self.nome} foi aprovado')\n",
    "        else:\n",
    "            print(f'O aluno {self.nome} foi reprovado')"
   ]
  },
  {
   "cell_type": "code",
   "execution_count": 217,
   "metadata": {},
   "outputs": [],
   "source": [
    "felipe = aluno('Felipe')"
   ]
  },
  {
   "cell_type": "code",
   "execution_count": 218,
   "metadata": {},
   "outputs": [],
   "source": [
    "felipe.inserir_notas(10,9)"
   ]
  },
  {
   "cell_type": "code",
   "execution_count": 219,
   "metadata": {},
   "outputs": [
    {
     "data": {
      "text/plain": [
       "9.5"
      ]
     },
     "execution_count": 219,
     "metadata": {},
     "output_type": "execute_result"
    }
   ],
   "source": [
    "felipe.calcular_media()"
   ]
  },
  {
   "cell_type": "code",
   "execution_count": 220,
   "metadata": {},
   "outputs": [
    {
     "name": "stdout",
     "output_type": "stream",
     "text": [
      "O aluno Felipe foi aprovado\n"
     ]
    }
   ],
   "source": [
    "felipe.mostrar_informacoes()"
   ]
  },
  {
   "cell_type": "code",
   "execution_count": null,
   "metadata": {},
   "outputs": [],
   "source": []
  }
 ],
 "metadata": {
  "kernelspec": {
   "display_name": "Python 3",
   "language": "python",
   "name": "python3"
  },
  "language_info": {
   "codemirror_mode": {
    "name": "ipython",
    "version": 3
   },
   "file_extension": ".py",
   "mimetype": "text/x-python",
   "name": "python",
   "nbconvert_exporter": "python",
   "pygments_lexer": "ipython3",
   "version": "3.8.5"
  }
 },
 "nbformat": 4,
 "nbformat_minor": 4
}
