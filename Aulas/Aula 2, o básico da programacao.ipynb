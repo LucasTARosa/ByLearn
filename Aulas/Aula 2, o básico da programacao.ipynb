{
 "cells": [
  {
   "cell_type": "markdown",
   "metadata": {},
   "source": [
    "# Estrutura de um projeto"
   ]
  },
  {
   "cell_type": "markdown",
   "metadata": {},
   "source": [
    "É comum na programação iniciarmos nosso código pelo método/função main.\n",
    "No nosso curso utilizaremos a estrutura abaixo:"
   ]
  },
  {
   "cell_type": "code",
   "execution_count": 2,
   "metadata": {},
   "outputs": [],
   "source": [
    "def main():\n",
    "    # comandos \n",
    "    pass\n",
    "\n",
    "#-------\n",
    "#A linha a seguir executa o programa\n",
    "main()"
   ]
  },
  {
   "cell_type": "markdown",
   "metadata": {},
   "source": [
    "## Entendendo a estrutura"
   ]
  },
  {
   "cell_type": "markdown",
   "metadata": {},
   "source": [
    "O Python funciona por 'identação'.\n",
    "Executa o mais a esquerda possível, de cima para baixo"
   ]
  },
  {
   "cell_type": "code",
   "execution_count": 3,
   "metadata": {},
   "outputs": [],
   "source": [
    "#escopo pai\n",
    "    #escopo filho\n",
    "        #escopo neto\n",
    "            #escopo bisneto"
   ]
  },
  {
   "cell_type": "markdown",
   "metadata": {},
   "source": [
    "**def** -> define uma função\n",
    "\n",
    "**()** -> chama uma função\n",
    "\n",
    "**:** -> declara o início de um novo nível de escopo"
   ]
  },
  {
   "cell_type": "markdown",
   "metadata": {},
   "source": [
    "# Variáveis"
   ]
  },
  {
   "cell_type": "markdown",
   "metadata": {},
   "source": [
    "Uma variável é um nome que se refere a um valor"
   ]
  },
  {
   "cell_type": "markdown",
   "metadata": {},
   "source": [
    "## Atribuição\n",
    "Comando de atribuição cria uma nova variável e lhe há um valor.\n",
    "Set -> setando -> atribuindo um valor"
   ]
  },
  {
   "cell_type": "markdown",
   "metadata": {},
   "source": [
    "## Motivação de uso\n",
    "São usadas para guardarmos valores que serão usados mais tarde no programa"
   ]
  },
  {
   "cell_type": "markdown",
   "metadata": {},
   "source": [
    "**Exemplo:**"
   ]
  },
  {
   "cell_type": "code",
   "execution_count": 4,
   "metadata": {},
   "outputs": [
    {
     "data": {
      "text/plain": [
       "25"
      ]
     },
     "execution_count": 4,
     "metadata": {},
     "output_type": "execute_result"
    }
   ],
   "source": [
    "primeiro_numero = 15\n",
    "segundo_numero = 10\n",
    "soma = primeiro_numero + segundo_numero\n",
    "\n",
    "soma"
   ]
  },
  {
   "cell_type": "code",
   "execution_count": 5,
   "metadata": {},
   "outputs": [],
   "source": [
    "primeiro_numero = 20"
   ]
  },
  {
   "cell_type": "code",
   "execution_count": 6,
   "metadata": {},
   "outputs": [],
   "source": [
    "segundo_numero = 25"
   ]
  },
  {
   "cell_type": "code",
   "execution_count": 7,
   "metadata": {},
   "outputs": [
    {
     "data": {
      "text/plain": [
       "25"
      ]
     },
     "execution_count": 7,
     "metadata": {},
     "output_type": "execute_result"
    }
   ],
   "source": [
    "soma"
   ]
  },
  {
   "cell_type": "code",
   "execution_count": 8,
   "metadata": {},
   "outputs": [],
   "source": [
    "soma = primeiro_numero + segundo_numero"
   ]
  },
  {
   "cell_type": "code",
   "execution_count": 9,
   "metadata": {},
   "outputs": [
    {
     "data": {
      "text/plain": [
       "45"
      ]
     },
     "execution_count": 9,
     "metadata": {},
     "output_type": "execute_result"
    }
   ],
   "source": [
    "soma"
   ]
  },
  {
   "cell_type": "code",
   "execution_count": 10,
   "metadata": {},
   "outputs": [],
   "source": [
    "soma = soma + primeiro_numero + segundo_numero"
   ]
  },
  {
   "cell_type": "code",
   "execution_count": 11,
   "metadata": {},
   "outputs": [
    {
     "data": {
      "text/plain": [
       "90"
      ]
     },
     "execution_count": 11,
     "metadata": {},
     "output_type": "execute_result"
    }
   ],
   "source": [
    "soma"
   ]
  },
  {
   "cell_type": "markdown",
   "metadata": {},
   "source": [
    "## Exercício 2.1\n",
    "Dados dois valores 'a' e 'b', calcule a soma"
   ]
  },
  {
   "cell_type": "markdown",
   "metadata": {},
   "source": [
    "## Exercício 2.2\n",
    "Dado dois valores 'a' e 'b', calculo a multiplicação"
   ]
  },
  {
   "cell_type": "code",
   "execution_count": 12,
   "metadata": {},
   "outputs": [
    {
     "name": "stdout",
     "output_type": "stream",
     "text": [
      "10\n",
      "16\n"
     ]
    }
   ],
   "source": [
    "a = 2\n",
    "b = 8\n",
    "soma = a + b\n",
    "multiplicacao = a * b\n",
    "print(soma)\n",
    "print(multiplicacao)"
   ]
  },
  {
   "cell_type": "code",
   "execution_count": null,
   "metadata": {},
   "outputs": [],
   "source": []
  },
  {
   "cell_type": "markdown",
   "metadata": {},
   "source": [
    "## Comandos get (recuperando o valor de uma função)\n",
    "Os comandos **get** chamam uma variável e retornam (recuperam) o seu valor\n",
    "variavel1 (set) = variavel2 (get)"
   ]
  },
  {
   "cell_type": "code",
   "execution_count": 13,
   "metadata": {},
   "outputs": [
    {
     "data": {
      "text/plain": [
       "10"
      ]
     },
     "execution_count": 13,
     "metadata": {},
     "output_type": "execute_result"
    }
   ],
   "source": [
    "multiplicacao\n",
    "soma"
   ]
  },
  {
   "cell_type": "code",
   "execution_count": null,
   "metadata": {},
   "outputs": [],
   "source": []
  },
  {
   "cell_type": "markdown",
   "metadata": {},
   "source": [
    "# Métodos de saída de dados (output)\n",
    "## Usamos o método print() para mostrar dados ao usuário\n",
    "Nós enviamos um texto (string) por parâmetro para a função print()"
   ]
  },
  {
   "cell_type": "markdown",
   "metadata": {},
   "source": [
    "## Entendendo o vocabulário\n",
    "### String\n",
    "É um tipo de variável que representa texto.\n",
    "Todo texto deve estar entre aspas (duplas ou simples)\n",
    "Ex:\n",
    "'Texto' ou \"Texto\""
   ]
  },
  {
   "cell_type": "markdown",
   "metadata": {},
   "source": [
    "### Parâmetro\n",
    "São valores que vão vir a ser utilizados pela função que chamamos.\n",
    "Colocamos no meio dos parênteses da função\n",
    "Ex:\n",
    "- main()  \n",
    "- main(\"Texto\", 21)  \n",
    "- print('Texto que eu quero que mostre ao usuário')"
   ]
  },
  {
   "cell_type": "code",
   "execution_count": 2,
   "metadata": {},
   "outputs": [
    {
     "name": "stdout",
     "output_type": "stream",
     "text": [
      "A soma é: 5\n",
      "A soma de 1 com 4 é 5\n"
     ]
    }
   ],
   "source": [
    "def main():\n",
    "    #comandos\n",
    "    a = 1\n",
    "    b = 4\n",
    "    soma = a + b\n",
    "    #print = saída de dados\n",
    "    print('A soma é:', soma)\n",
    "    print('A soma de', a, 'com', b, 'é', soma)\n",
    "    \n",
    "    \n",
    "main()"
   ]
  },
  {
   "cell_type": "markdown",
   "metadata": {},
   "source": [
    "# Entrada de dados (input)\n",
    "## Utilizamos o método input para receber dados do usuário\n",
    "Atribuimos a uma variável o valor de um input  \n",
    "O input aceita um texto como parâmetro para a descrição do que vai ser recebido"
   ]
  },
  {
   "cell_type": "code",
   "execution_count": 3,
   "metadata": {},
   "outputs": [
    {
     "name": "stdout",
     "output_type": "stream",
     "text": [
      "Digite o seu primeiro número:20\n",
      "Digite o seu segundo número:15\n",
      "A soma de 20 com 15 é 2015\n"
     ]
    }
   ],
   "source": [
    "#soma de qualquer valor\n",
    "def main():\n",
    "    # comandos\n",
    "    a = input('Digite o seu primeiro número:')\n",
    "    b = input('Digite o seu segundo número:')\n",
    "    soma = a + b\n",
    "    # print = saída de dados\n",
    "    print('A soma de', a, 'com', b, 'é', soma)\n",
    "# -------------\n",
    "# A linha a seguir executa o programa\n",
    "main()"
   ]
  },
  {
   "cell_type": "code",
   "execution_count": 4,
   "metadata": {},
   "outputs": [
    {
     "name": "stdout",
     "output_type": "stream",
     "text": [
      "Digite o seu primeiro nome:Lucas\n",
      "Digite o seu sobrenome:Ap\n",
      "O seu nome completo é: Lucas Ap\n"
     ]
    }
   ],
   "source": [
    "def nomes():\n",
    "    nome = input('Digite o seu primeiro nome: ')\n",
    "    sobrenome = input('Digite o seu sobrenome: ')\n",
    "    nome_completo = nome + sobrenome\n",
    "    print('O seu nome completo é:', nome, sobrenome)\n",
    "    \n",
    "nomes()"
   ]
  },
  {
   "cell_type": "markdown",
   "metadata": {},
   "source": [
    "## Lembrete\n",
    "\n",
    "Diferente do get, onde o Jupyter mostra apenas o último, o print é nativo do Python e pode ser usado quantas vezes quiser!"
   ]
  },
  {
   "cell_type": "markdown",
   "metadata": {},
   "source": [
    "# Tipos de variáveis\n",
    "Tipo define o comportamento e o entedimento daquela variável\n",
    "\n",
    "Ex:\n",
    "Podemos entender como sendo número ou como sendo um texto\n",
    "- 23 é um texto ou número?\n",
    "- '23' é certamente um texto\n",
    "- \"23\" é certamente um texto\n",
    "- 23 sem nada é um número\n",
    "- 23.0 também é um número"
   ]
  },
  {
   "cell_type": "code",
   "execution_count": 5,
   "metadata": {},
   "outputs": [
    {
     "data": {
      "text/plain": [
       "'2310'"
      ]
     },
     "execution_count": 5,
     "metadata": {},
     "output_type": "execute_result"
    }
   ],
   "source": [
    "'23' + '10'"
   ]
  },
  {
   "cell_type": "code",
   "execution_count": 6,
   "metadata": {},
   "outputs": [
    {
     "data": {
      "text/plain": [
       "33"
      ]
     },
     "execution_count": 6,
     "metadata": {},
     "output_type": "execute_result"
    }
   ],
   "source": [
    "23 + 10"
   ]
  },
  {
   "cell_type": "code",
   "execution_count": 7,
   "metadata": {},
   "outputs": [
    {
     "ename": "TypeError",
     "evalue": "can only concatenate str (not \"int\") to str",
     "output_type": "error",
     "traceback": [
      "\u001b[1;31m---------------------------------------------------------------------------\u001b[0m",
      "\u001b[1;31mTypeError\u001b[0m                                 Traceback (most recent call last)",
      "\u001b[1;32m<ipython-input-7-ada806e13aa3>\u001b[0m in \u001b[0;36m<module>\u001b[1;34m\u001b[0m\n\u001b[1;32m----> 1\u001b[1;33m \u001b[1;34m'23'\u001b[0m \u001b[1;33m+\u001b[0m \u001b[1;36m10\u001b[0m\u001b[1;33m\u001b[0m\u001b[1;33m\u001b[0m\u001b[0m\n\u001b[0m",
      "\u001b[1;31mTypeError\u001b[0m: can only concatenate str (not \"int\") to str"
     ]
    }
   ],
   "source": [
    "'23' + 10"
   ]
  },
  {
   "cell_type": "markdown",
   "metadata": {},
   "source": [
    "**int:** inteiro (número inteiro)  \n",
    "**str:** String (texto)\n",
    "**float:** Ponto flutuante (número com vírgula)"
   ]
  },
  {
   "cell_type": "code",
   "execution_count": 8,
   "metadata": {},
   "outputs": [
    {
     "data": {
      "text/plain": [
       "int"
      ]
     },
     "execution_count": 8,
     "metadata": {},
     "output_type": "execute_result"
    }
   ],
   "source": [
    "type(23)"
   ]
  },
  {
   "cell_type": "code",
   "execution_count": 9,
   "metadata": {},
   "outputs": [
    {
     "data": {
      "text/plain": [
       "str"
      ]
     },
     "execution_count": 9,
     "metadata": {},
     "output_type": "execute_result"
    }
   ],
   "source": [
    "type('23')"
   ]
  },
  {
   "cell_type": "code",
   "execution_count": 10,
   "metadata": {},
   "outputs": [
    {
     "name": "stdout",
     "output_type": "stream",
     "text": [
      "Digite o seu primeiro número:213\n",
      "Digite o seu segundo número:26\n",
      "O tipo de a é: <class 'str'>\n",
      "O tipo de b é: <class 'str'>\n",
      "A soma de 213 com 26 é 21326\n"
     ]
    }
   ],
   "source": [
    "#soma de qualquer valor\n",
    "def main():\n",
    "    # comandos\n",
    "    a = input('Digite o seu primeiro número:')\n",
    "    b = input('Digite o seu segundo número:')\n",
    "    soma = a + b\n",
    "    # print = saída de dados\n",
    "    print('O tipo de a é:', type(a))\n",
    "    print('O tipo de b é:', type(b))\n",
    "    print('A soma de', a, 'com', b, 'é', soma)\n",
    "# -------------\n",
    "# A linha a seguir executa o programa\n",
    "main()"
   ]
  },
  {
   "cell_type": "markdown",
   "metadata": {},
   "source": [
    "## Convertendo tipos\n",
    "Na programação chamamos essa conversão de cast"
   ]
  },
  {
   "cell_type": "code",
   "execution_count": 11,
   "metadata": {},
   "outputs": [
    {
     "data": {
      "text/plain": [
       "23"
      ]
     },
     "execution_count": 11,
     "metadata": {},
     "output_type": "execute_result"
    }
   ],
   "source": [
    "int('23')"
   ]
  },
  {
   "cell_type": "code",
   "execution_count": 12,
   "metadata": {},
   "outputs": [
    {
     "data": {
      "text/plain": [
       "'23'"
      ]
     },
     "execution_count": 12,
     "metadata": {},
     "output_type": "execute_result"
    }
   ],
   "source": [
    "str(23)"
   ]
  },
  {
   "cell_type": "code",
   "execution_count": 14,
   "metadata": {},
   "outputs": [
    {
     "name": "stdout",
     "output_type": "stream",
     "text": [
      "Digite o seu primeiro número:12\n",
      "Digite o seu segundo número:30\n",
      "O tipo de a é: <class 'int'>\n",
      "O tipo de b é: <class 'int'>\n",
      "A soma de 12 com 30 é 42\n"
     ]
    }
   ],
   "source": [
    "#soma de qualquer valor\n",
    "def main():\n",
    "    # comandos\n",
    "    a = int(input('Digite o seu primeiro número:'))\n",
    "    b = int(input('Digite o seu segundo número:'))\n",
    "    soma = a + b\n",
    "    # print = saída de dados\n",
    "    print('O tipo de a é:', type(a))\n",
    "    print('O tipo de b é:', type(b))\n",
    "    print('A soma de', a, 'com', b, 'é', soma)\n",
    "# -------------\n",
    "# A linha a seguir executa o programa\n",
    "main()"
   ]
  },
  {
   "cell_type": "markdown",
   "metadata": {},
   "source": [
    "## Tentativa com número 'quebrado' (com vírgula"
   ]
  },
  {
   "cell_type": "code",
   "execution_count": 15,
   "metadata": {
    "scrolled": true
   },
   "outputs": [
    {
     "name": "stdout",
     "output_type": "stream",
     "text": [
      "Digite o seu primeiro número:23.6\n"
     ]
    },
    {
     "ename": "ValueError",
     "evalue": "invalid literal for int() with base 10: '23.6'",
     "output_type": "error",
     "traceback": [
      "\u001b[1;31m---------------------------------------------------------------------------\u001b[0m",
      "\u001b[1;31mValueError\u001b[0m                                Traceback (most recent call last)",
      "\u001b[1;32m<ipython-input-15-5382500a91ea>\u001b[0m in \u001b[0;36m<module>\u001b[1;34m\u001b[0m\n\u001b[0;32m     11\u001b[0m \u001b[1;31m# -------------\u001b[0m\u001b[1;33m\u001b[0m\u001b[1;33m\u001b[0m\u001b[1;33m\u001b[0m\u001b[0m\n\u001b[0;32m     12\u001b[0m \u001b[1;31m# A linha a seguir executa o programa\u001b[0m\u001b[1;33m\u001b[0m\u001b[1;33m\u001b[0m\u001b[1;33m\u001b[0m\u001b[0m\n\u001b[1;32m---> 13\u001b[1;33m \u001b[0mmain\u001b[0m\u001b[1;33m(\u001b[0m\u001b[1;33m)\u001b[0m\u001b[1;33m\u001b[0m\u001b[1;33m\u001b[0m\u001b[0m\n\u001b[0m",
      "\u001b[1;32m<ipython-input-15-5382500a91ea>\u001b[0m in \u001b[0;36mmain\u001b[1;34m()\u001b[0m\n\u001b[0;32m      2\u001b[0m \u001b[1;32mdef\u001b[0m \u001b[0mmain\u001b[0m\u001b[1;33m(\u001b[0m\u001b[1;33m)\u001b[0m\u001b[1;33m:\u001b[0m\u001b[1;33m\u001b[0m\u001b[1;33m\u001b[0m\u001b[0m\n\u001b[0;32m      3\u001b[0m     \u001b[1;31m# comandos\u001b[0m\u001b[1;33m\u001b[0m\u001b[1;33m\u001b[0m\u001b[1;33m\u001b[0m\u001b[0m\n\u001b[1;32m----> 4\u001b[1;33m     \u001b[0ma\u001b[0m \u001b[1;33m=\u001b[0m \u001b[0mint\u001b[0m\u001b[1;33m(\u001b[0m\u001b[0minput\u001b[0m\u001b[1;33m(\u001b[0m\u001b[1;34m'Digite o seu primeiro número:'\u001b[0m\u001b[1;33m)\u001b[0m\u001b[1;33m)\u001b[0m\u001b[1;33m\u001b[0m\u001b[1;33m\u001b[0m\u001b[0m\n\u001b[0m\u001b[0;32m      5\u001b[0m     \u001b[0mb\u001b[0m \u001b[1;33m=\u001b[0m \u001b[0mint\u001b[0m\u001b[1;33m(\u001b[0m\u001b[0minput\u001b[0m\u001b[1;33m(\u001b[0m\u001b[1;34m'Digite o seu segundo número:'\u001b[0m\u001b[1;33m)\u001b[0m\u001b[1;33m)\u001b[0m\u001b[1;33m\u001b[0m\u001b[1;33m\u001b[0m\u001b[0m\n\u001b[0;32m      6\u001b[0m     \u001b[0msoma\u001b[0m \u001b[1;33m=\u001b[0m \u001b[0ma\u001b[0m \u001b[1;33m+\u001b[0m \u001b[0mb\u001b[0m\u001b[1;33m\u001b[0m\u001b[1;33m\u001b[0m\u001b[0m\n",
      "\u001b[1;31mValueError\u001b[0m: invalid literal for int() with base 10: '23.6'"
     ]
    }
   ],
   "source": [
    "#soma de qualquer valor\n",
    "def main():\n",
    "    # comandos\n",
    "    a = int(input('Digite o seu primeiro número:'))\n",
    "    b = int(input('Digite o seu segundo número:'))\n",
    "    soma = a + b\n",
    "    # print = saída de dados\n",
    "    print('O tipo de a é:', type(a))\n",
    "    print('O tipo de b é:', type(b))\n",
    "    print('A soma de', a, 'com', b, 'é', soma)\n",
    "# -------------\n",
    "# A linha a seguir executa o programa\n",
    "main()"
   ]
  },
  {
   "cell_type": "code",
   "execution_count": 16,
   "metadata": {},
   "outputs": [
    {
     "data": {
      "text/plain": [
       "float"
      ]
     },
     "execution_count": 16,
     "metadata": {},
     "output_type": "execute_result"
    }
   ],
   "source": [
    "type(23.5)"
   ]
  },
  {
   "cell_type": "code",
   "execution_count": 17,
   "metadata": {},
   "outputs": [
    {
     "name": "stdout",
     "output_type": "stream",
     "text": [
      "Digite o seu primeiro número:23.7\n",
      "Digite o seu segundo número:130.1029\n",
      "O tipo de a é: <class 'float'>\n",
      "O tipo de b é: <class 'float'>\n",
      "A soma de 23.7 com 130.1029 é 153.8029\n"
     ]
    }
   ],
   "source": [
    "#soma de qualquer valor\n",
    "def main():\n",
    "    # comandos\n",
    "    a = float(input('Digite o seu primeiro número:'))\n",
    "    b = float(input('Digite o seu segundo número:'))\n",
    "    soma = a + b\n",
    "    # print = saída de dados\n",
    "    print('O tipo de a é:', type(a))\n",
    "    print('O tipo de b é:', type(b))\n",
    "    print('A soma de', a, 'com', b, 'é', soma)\n",
    "# -------------\n",
    "# A linha a seguir executa o programa\n",
    "main()"
   ]
  },
  {
   "cell_type": "markdown",
   "metadata": {},
   "source": [
    "## Exercício 2.3\n",
    "\n",
    "Fazer uma função que multiplique dois números entrados pelo usuário\n",
    "\n",
    "## Exercício 2.4\n",
    "Fazer uma função que divida dois números entrados pelo usuário\n",
    "\n",
    "## Exercício 2.5\n",
    "Fazer uma função que subtraia quatro números entrados pelo usuário"
   ]
  },
  {
   "cell_type": "code",
   "execution_count": 31,
   "metadata": {},
   "outputs": [
    {
     "name": "stdout",
     "output_type": "stream",
     "text": [
      "Digite o primeiro número: 7\n",
      "Digite o segundo número: 9\n",
      "A multiplicação de 7.0 por 9.0 é 63.0\n",
      "A multiplicação de 7.0 por 9.0 é 63.0\n",
      "A multiplicação entre 7.0 e 9.0 é igual a 63.0\n"
     ]
    }
   ],
   "source": [
    "def multiplicacao():\n",
    "    num1 = float(input('Digite o primeiro número: '))\n",
    "    num2 = float(input('Digite o segundo número: '))\n",
    "    multiplicacao = num1 * num2\n",
    "    print('A multiplicação de', num1, 'por', num2, 'é', multiplicacao)\n",
    "    print(f'A multiplicação de {num1} por {num2} é {multiplicacao}')\n",
    "    print('A multiplicação entre {0} e {1} é igual a {2}'.format(num1, num2, multiplicacao))\n",
    "    \n",
    "multiplicacao()"
   ]
  },
  {
   "cell_type": "code",
   "execution_count": 32,
   "metadata": {},
   "outputs": [
    {
     "name": "stdout",
     "output_type": "stream",
     "text": [
      "Digite o primeiro número: 68\n",
      "Digite o segundo número: 7\n",
      "A divisão de 68.0 por 7.0 é 9.714285714285714\n",
      "A divisão de 68.0 por 7.0 é 9.714285714285714\n",
      "A divisão entre 68.0 e 7.0 é igual a 9.714285714285714\n"
     ]
    }
   ],
   "source": [
    "def divisao():\n",
    "    num1 = float(input('Digite o primeiro número: '))\n",
    "    num2 = float(input('Digite o segundo número: '))\n",
    "    divisao = num1 / num2\n",
    "    print('A divisão de', num1, 'por', num2, 'é', divisao)\n",
    "    print(f'A divisão de {num1} por {num2} é {divisao}')\n",
    "    print('A divisão entre {0} e {1} é igual a {2}'.format(num1, num2, divisao))\n",
    "    \n",
    "divisao()"
   ]
  },
  {
   "cell_type": "code",
   "execution_count": 33,
   "metadata": {},
   "outputs": [
    {
     "name": "stdout",
     "output_type": "stream",
     "text": [
      "Digite o primeiro número: 100\n",
      "Digite o primeiro número da subtração: 20\n",
      "Digite o segundo número da subtração: 30\n",
      "Digite o terceiro número da subtração: -5\n",
      "A subtração de 100.0 menos 20.0 menos 30.0 menos -5.0 é igual a 55.0\n",
      "A subtração de 100.0 menos 20.0, menos 30.0, menos -5.0 é igual a 55.0\n",
      "A subtração entre 100.0 e 20.0, 30.0 e -5.0 é 55.0\n"
     ]
    }
   ],
   "source": [
    "def subtracao():\n",
    "    num1 = float(input('Digite o primeiro número: '))\n",
    "    num2 = float(input('Digite o primeiro número da subtração: '))\n",
    "    num3 = float(input('Digite o segundo número da subtração: '))\n",
    "    num4 = float(input('Digite o terceiro número da subtração: '))\n",
    "    subtracao = num1 - num2 - num3 - num4\n",
    "    print('A subtração de', num1, 'menos', num2, 'menos', num3, 'menos', num4, 'é igual a', subtracao)\n",
    "    print(f'A subtração de {num1} menos {num2}, menos {num3}, menos {num4} é igual a {subtracao}')\n",
    "    print('A subtração entre {0} e {1}, {2} e {3} é {4}'.format(num1, num2, num3,\n",
    "                                                                num4, subtracao))\n",
    "    \n",
    "    \n",
    "subtracao()"
   ]
  },
  {
   "cell_type": "markdown",
   "metadata": {},
   "source": [
    "# Formatação de strings\n",
    "## Podemos formatar com o format!\n"
   ]
  },
  {
   "cell_type": "markdown",
   "metadata": {},
   "source": [
    "'String original com {} para indicar as posições do format onde vamos trocar na string'.format(variavel_para_formatar)"
   ]
  },
  {
   "cell_type": "code",
   "execution_count": 36,
   "metadata": {},
   "outputs": [
    {
     "name": "stdout",
     "output_type": "stream",
     "text": [
      "meu número vale 10, minha letra vale a e a minha palavra vale ByLearn\n"
     ]
    }
   ],
   "source": [
    "numero = 10\n",
    "letra = 'a'\n",
    "palavra = 'ByLearn'\n",
    "print('meu número vale {}, minha letra vale {} e a minha palavra vale {}'.format(numero, letra, palavra))"
   ]
  },
  {
   "cell_type": "markdown",
   "metadata": {},
   "source": [
    "## Podemos formatar com o f-string\n",
    "São strings começadas com f antes das aspas\n",
    "Nelas colocamos os valores das variáveis dentro das {}"
   ]
  },
  {
   "cell_type": "code",
   "execution_count": 38,
   "metadata": {},
   "outputs": [
    {
     "data": {
      "text/plain": [
       "'meu número vale 10, minha letra vale a e a minha palavra vale ByLearn'"
      ]
     },
     "execution_count": 38,
     "metadata": {},
     "output_type": "execute_result"
    }
   ],
   "source": [
    "f'meu número vale {numero}, minha letra vale {letra} e a minha palavra vale {palavra}'"
   ]
  },
  {
   "cell_type": "markdown",
   "metadata": {},
   "source": [
    "## Formatando números\n",
    "Podemos modificar as saídas dos números sem modificar os valores reais\n",
    "\n",
    "Ex:\n",
    "Número 2 => valor é 2  \n",
    "Saída => 2.00 -> o valor ainda é 2  \n",
    "  \n",
    "Número 2.5 => valor é 2.5  \n",
    "saída => 2 -> valor ainda é 2.5"
   ]
  },
  {
   "cell_type": "code",
   "execution_count": 39,
   "metadata": {},
   "outputs": [
    {
     "name": "stdout",
     "output_type": "stream",
     "text": [
      "2.57\n"
     ]
    }
   ],
   "source": [
    "numero = 2.57\n",
    "print(numero)"
   ]
  },
  {
   "cell_type": "markdown",
   "metadata": {},
   "source": [
    "Para inteiros usamos o 'd' e para floats usamos o 'f'"
   ]
  },
  {
   "cell_type": "code",
   "execution_count": 46,
   "metadata": {},
   "outputs": [
    {
     "name": "stdout",
     "output_type": "stream",
     "text": [
      "2.57\n",
      "2.6\n",
      "3\n",
      "2.570\n",
      "2.57\n",
      "2.6\n",
      "3\n",
      "2.570\n"
     ]
    }
   ],
   "source": [
    "print('{:.2f}'.format(numero))\n",
    "print('{:.1f}'.format(numero))\n",
    "print('{:.0f}'.format(numero))\n",
    "print('{:.3f}'.format(numero))\n",
    "print(f'{numero:.2f}')\n",
    "print(f'{numero:.1f}')\n",
    "print(f'{numero:.0f}')\n",
    "print(f'{numero:.3f}')"
   ]
  },
  {
   "cell_type": "code",
   "execution_count": 42,
   "metadata": {},
   "outputs": [
    {
     "name": "stdout",
     "output_type": "stream",
     "text": [
      "2.57\n"
     ]
    }
   ],
   "source": [
    "print(numero)"
   ]
  },
  {
   "cell_type": "markdown",
   "metadata": {},
   "source": [
    "### O número não mudou!! Apenas a saída é exibida de uma outra forma"
   ]
  },
  {
   "cell_type": "code",
   "execution_count": 44,
   "metadata": {},
   "outputs": [
    {
     "name": "stdout",
     "output_type": "stream",
     "text": [
      "3.333\n"
     ]
    }
   ],
   "source": [
    "print('{:.3f}'.format(10/3))"
   ]
  },
  {
   "cell_type": "code",
   "execution_count": null,
   "metadata": {},
   "outputs": [],
   "source": []
  }
 ],
 "metadata": {
  "kernelspec": {
   "display_name": "Python 3",
   "language": "python",
   "name": "python3"
  },
  "language_info": {
   "codemirror_mode": {
    "name": "ipython",
    "version": 3
   },
   "file_extension": ".py",
   "mimetype": "text/x-python",
   "name": "python",
   "nbconvert_exporter": "python",
   "pygments_lexer": "ipython3",
   "version": "3.8.5"
  }
 },
 "nbformat": 4,
 "nbformat_minor": 4
}
